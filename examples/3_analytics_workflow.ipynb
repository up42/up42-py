{
 "cells": [
  {
   "attachments": {},
   "cell_type": "markdown",
   "metadata": {},
   "source": [
    "# Run analytics workflows\n",
    "\n",
    "This chapter shows how to create and run workflow with a data source and analytics/processing algorithm."
   ]
  },
  {
   "cell_type": "markdown",
   "metadata": {},
   "source": [
    "## Authenticate\n",
    "\n",
    "First connect with UP42 as explained in the authentication chapter."
   ]
  },
  {
   "cell_type": "code",
   "execution_count": null,
   "metadata": {},
   "outputs": [],
   "source": [
    "import up42\n",
    "up42.authenticate(\n",
    "    username=\"<your-email-address>\",\n",
    "    password=\"<your-password>\",\n",
    ")"
   ]
  },
  {
   "cell_type": "markdown",
   "metadata": {},
   "source": [
    "## Create a workflow\n",
    "\n",
    "This simple workflow consists of Sentinel-2 L2A data and Sharpening Filter. See up42.get_blocks or the UP42 marketplace for all other data and analytics tasks."
   ]
  },
  {
   "cell_type": "code",
   "execution_count": null,
   "metadata": {},
   "outputs": [],
   "source": [
    "project = up42.initialize_project(project_id=\"68567134-27ad-7bd7-4b65-d61adb11fc78\")\n",
    "workflow = project.create_workflow(name=\"Workflow-example\")\n",
    "workflow.add_workflow_tasks([\"Sentinel-2 L2A Visual (GeoTIFF)\",\n",
    "                             \"Sharpening Filter\"])"
   ]
  },
  {
   "cell_type": "markdown",
   "metadata": {},
   "source": [
    "## Configure a workflow\n",
    "\n",
    "Provide workflow input parameters to configure the workflow, e.g. the area of interest, time period etc. with the help of the construct_parameters function."
   ]
  },
  {
   "cell_type": "code",
   "execution_count": null,
   "metadata": {},
   "outputs": [],
   "source": [
    "#aoi = up42.read_vector_file(\"data/aoi_berlin.geojson\")\n",
    "aoi = up42.get_example_aoi(location=\"Berlin\")"
   ]
  },
  {
   "cell_type": "code",
   "execution_count": null,
   "metadata": {},
   "outputs": [],
   "source": [
    "input_parameters = workflow.construct_parameters(geometry=aoi, \n",
    "                                                 geometry_operation=\"bbox\", \n",
    "                                                 start_date=\"2020-01-01\",\n",
    "                                                 end_date=\"2022-12-31\",\n",
    "                                                 limit=1)\n",
    "input_parameters[\"esa-s2-l2a-gtiff-visual:1\"].update({\"max_cloud_cover\":5})"
   ]
  },
  {
   "attachments": {},
   "cell_type": "markdown",
   "metadata": {},
   "source": [
    "## Estimate costs and test\n",
    "\n",
    "Before running the workflow, estimate the costs. You can also run a free test job to confirm the correct job configuration and data availability."
   ]
  },
  {
   "cell_type": "code",
   "execution_count": null,
   "metadata": {},
   "outputs": [],
   "source": [
    "workflow.estimate_job(input_parameters)"
   ]
  },
  {
   "cell_type": "code",
   "execution_count": null,
   "metadata": {},
   "outputs": [],
   "source": [
    "workflow.test_job(input_parameters, track_status=True)"
   ]
  },
  {
   "cell_type": "markdown",
   "metadata": {},
   "source": [
    "## Run the workflow"
   ]
  },
  {
   "cell_type": "code",
   "execution_count": null,
   "metadata": {},
   "outputs": [],
   "source": [
    "job = workflow.run_job(input_parameters, track_status=True)"
   ]
  },
  {
   "cell_type": "markdown",
   "metadata": {},
   "source": [
    "You can download and visualize the results via"
   ]
  },
  {
   "cell_type": "code",
   "execution_count": null,
   "metadata": {},
   "outputs": [],
   "source": [
    "job.download_results()\n",
    "job.plot_results()"
   ]
  }
 ],
 "metadata": {
  "kernelspec": {
   "display_name": "up42-py",
   "language": "python",
   "name": "up42-py"
  },
  "language_info": {
   "codemirror_mode": {
    "name": "ipython",
    "version": 3
   },
   "file_extension": ".py",
   "mimetype": "text/x-python",
   "name": "python",
   "nbconvert_exporter": "python",
   "pygments_lexer": "ipython3",
   "version": "3.9.14"
  }
 },
 "nbformat": 4,
 "nbformat_minor": 4
}
