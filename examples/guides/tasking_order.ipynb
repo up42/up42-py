{
 "cells": [
  {
   "cell_type": "markdown",
   "metadata": {},
   "source": [
    "# Create Tasking Order\n",
    "\n",
    "A basic example on how to create a tasking order on UP42"
   ]
  },
  {
   "cell_type": "markdown",
   "metadata": {},
   "source": [
    "## Authenticate\n",
    "\n",
    "First connect with UP42 as explained in the [authentication chapter](authentication.md)."
   ]
  },
  {
   "cell_type": "code",
   "execution_count": null,
   "metadata": {},
   "outputs": [],
   "source": [
    "import up42\n",
    "up42.authenticate(project_id=\"your-project-id\", project_api_key=\"your-project-api-key\")"
   ]
  },
  {
   "cell_type": "markdown",
   "metadata": {},
   "source": [
    "## Decide on dataset / sensor\n",
    "\n",
    "We look at the available data products and decide to create a tasking order for a TerraSar satellite image (\n",
    "[see marketplace](https://up42.com/marketplace/data/tasking/terra-sar-tasking)).<br>\n",
    "The `get_data_products` function gives us the `collection` name and the `data_product_id` (required for ordering)."
   ]
  },
  {
   "cell_type": "code",
   "execution_count": null,
   "metadata": {},
   "outputs": [],
   "source": [
    "tasking = up42.initialize_tasking()\n",
    "products = tasking.get_data_products(basic=True)\n",
    "products"
   ]
  },
  {
   "cell_type": "code",
   "execution_count": null,
   "metadata": {},
   "outputs": [],
   "source": [
    "terrasar_product_id = \"38ac8357-18c2-454d-acb5-9ec8f4c043b9\""
   ]
  },
  {
   "cell_type": "code",
   "execution_count": null,
   "metadata": {},
   "outputs": [],
   "source": [
    "tasking.get_data_product_schema(terrasar_product_id)[\"required\"]"
   ]
  },
  {
   "cell_type": "markdown",
   "metadata": {},
   "source": [
    "# Create tasking order parameters\n",
    "\n",
    "Creating the tasking order requires multiple order parameters to specify the tasking requirements. As the parameters can vary by dataset, we first query the specific parameters for the Terrasar tasking data product id."
   ]
  },
  {
   "cell_type": "code",
   "execution_count": null,
   "metadata": {},
   "outputs": [],
   "source": [
    "geometry = {'type': 'Polygon',\n",
    "   'coordinates': (((13.375966, 52.515068),\n",
    "     (13.375966, 52.516639),\n",
    "     (13.378314, 52.516639),\n",
    "     (13.378314, 52.515068),\n",
    "     (13.375966, 52.515068)),)}"
   ]
  },
  {
   "cell_type": "code",
   "execution_count": null,
   "metadata": {},
   "outputs": [],
   "source": [
    "order_parameters = tasking.construct_order_parameters(data_product_id=terrasar_product_id,\n",
    "                                                      name=\"My Terrasar tasking order\",\n",
    "                                                      start_date= \"2022-10-12\",\n",
    "                                                      end_date= \"2022-10-19\",\n",
    "                                                      geometry=geometry)\n",
    "\n",
    "# Parameters specific to this data_product\n",
    "order_parameters[\"params\"][\"acquisitionMode\"] = \"spotlight\"\n",
    "order_parameters[\"params\"][\"polarization\"] = \"hh\"\n",
    "order_parameters[\"params\"][\"processingLevel\"] = \"ssc\"\n",
    "\n",
    "order_parameters"
   ]
  },
  {
   "cell_type": "markdown",
   "metadata": {},
   "source": [
    "## Place the tasking order\n",
    "\n",
    "After placing the tasking order, UP42 will carry out a feasibility study for the specified requirements and contact you with next steps via email. You can see the status of the tasking order on the UP42 Console, in the Storage menu under the \"Orders\" tab."
   ]
  },
  {
   "cell_type": "code",
   "execution_count": null,
   "metadata": {},
   "outputs": [],
   "source": [
    "order = tasking.place_order(order_parameters)\n",
    "order"
   ]
  },
  {
   "cell_type": "markdown",
   "metadata": {},
   "source": [
    "## Feasibility study\n",
    "\n",
    "After the order placed, the UP42 customer support team will reach out to you via email with the results of the tasking feasibility study and pricing options."
   ]
  },
  {
   "cell_type": "code",
   "execution_count": null,
   "metadata": {},
   "outputs": [],
   "source": []
  }
 ],
 "metadata": {
  "kernelspec": {
   "display_name": "up42-py",
   "language": "python",
   "name": "up42-py"
  },
  "language_info": {
   "codemirror_mode": {
    "name": "ipython",
    "version": 3
   },
   "file_extension": ".py",
   "mimetype": "text/x-python",
   "name": "python",
   "nbconvert_exporter": "python",
   "pygments_lexer": "ipython3",
   "version": "3.9.14"
  }
 },
 "nbformat": 4,
 "nbformat_minor": 4
}
