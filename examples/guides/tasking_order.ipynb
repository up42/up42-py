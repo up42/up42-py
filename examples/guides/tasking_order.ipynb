{
 "cells": [
  {
   "cell_type": "markdown",
   "metadata": {},
   "source": [
    "# Create a Satellite Tasking Order\n",
    "\n",
    "A basic example on how to create a tasking order on UP42."
   ]
  },
  {
   "cell_type": "markdown",
   "metadata": {},
   "source": [
    "## Authenticate\n",
    "\n",
    "First connect with UP42 as explained in the [authentication chapter](authentication.md)."
   ]
  },
  {
   "cell_type": "code",
   "execution_count": null,
   "metadata": {},
   "outputs": [],
   "source": [
    "import up42\n",
    "up42.authenticate(project_id=\"your project ID\", project_api_key=\"your-project-API-key\")"
   ]
  },
  {
   "cell_type": "markdown",
   "metadata": {},
   "source": [
    "## Decide on the satellite dataset\n",
    "\n",
    "We look at the available data products and decide to create a tasking order for a TerraSar satellite image ([see marketplace](https://up42.com/marketplace/data/tasking/terra-sar-tasking)). The `get_data_products` function gives us the desired Terrasar `data_product_id` which is required for placing the tasking order."
   ]
  },
  {
   "cell_type": "code",
   "execution_count": null,
   "metadata": {},
   "outputs": [],
   "source": [
    "tasking = up42.initialize_tasking()\n",
    "products = tasking.get_data_products(basic=True)\n",
    "products"
   ]
  },
  {
   "cell_type": "code",
   "execution_count": null,
   "metadata": {},
   "outputs": [],
   "source": [
    "terrasar_product_id = 'a6f64332-3148-4e05-a475-45a02176f210'"
   ]
  },
  {
   "cell_type": "markdown",
   "metadata": {},
   "source": [
    "# Create the order parameters\n",
    "\n",
    "To help with the order parameters we can use `tasking.construct_order_parameters`. It will also show you how to adjust parameters that are specific to the selected data product as log messages. Use\n",
    "`tasking.get_data_product_schema(data_product_id)` for more details."
   ]
  },
  {
   "cell_type": "code",
   "execution_count": null,
   "metadata": {},
   "outputs": [],
   "source": [
    "geometry = {'type': 'Polygon',\n",
    "   'coordinates': (((13.375966, 52.515068),\n",
    "     (13.375966, 52.516639),\n",
    "     (13.378314, 52.516639),\n",
    "     (13.378314, 52.515068),\n",
    "     (13.375966, 52.515068)),)}"
   ]
  },
  {
   "cell_type": "code",
   "execution_count": null,
   "metadata": {},
   "outputs": [],
   "source": [
    "order_parameters = tasking.construct_order_parameters(data_product_id=terrasar_product_id,\n",
    "                                                      name=\"My Terrasar tasking order\",\n",
    "                                                      acquisition_start= \"2022-11-01\",\n",
    "                                                      acquisition_end= \"2023-03-20\",\n",
    "                                                      geometry=geometry)\n",
    "order_parameters"
   ]
  },
  {
   "cell_type": "code",
   "execution_count": null,
   "metadata": {},
   "outputs": [],
   "source": [
    "order_parameters[\"params\"].update({\n",
    "    \"acquisitionMode\": \"spotlight\",\n",
    "    \"polarization\": \"hh\",\n",
    "    \"processingLevel\": \"ssc\"\n",
    "})\n",
    "order_parameters"
   ]
  },
  {
   "cell_type": "markdown",
   "metadata": {},
   "source": [
    "## Place the tasking order\n",
    "\n",
    "After placing the tasking order, UP42 will carry out a feasibility study for the specified requirements and contact you\n",
    "with next steps via email."
   ]
  },
  {
   "cell_type": "code",
   "execution_count": null,
   "metadata": {},
   "outputs": [],
   "source": [
    "order = tasking.place_order(order_parameters)\n",
    "order"
   ]
  },
  {
   "cell_type": "code",
   "execution_count": null,
   "metadata": {},
   "outputs": [],
   "source": [
    "order.status"
   ]
  },
  {
   "cell_type": "markdown",
   "metadata": {},
   "source": [
    "## Next steps: Feasibility study\n",
    "\n",
    "After the order placed, the UP42 customer support team will reach out to you via email with the results of the tasking feasibility study and pricing options.\n",
    "You can also see the status of the tasking order on the UP42 Console - in the Storage menu under the \"Orders\" tab."
   ]
  }
 ],
 "metadata": {
  "kernelspec": {
   "display_name": "up42-py",
   "language": "python",
   "name": "up42-py"
  },
  "language_info": {
   "codemirror_mode": {
    "name": "ipython",
    "version": 3
   },
   "file_extension": ".py",
   "mimetype": "text/x-python",
   "name": "python",
   "nbconvert_exporter": "python",
   "pygments_lexer": "ipython3",
   "version": "3.9.14"
  }
 },
 "nbformat": 4,
 "nbformat_minor": 4
}
