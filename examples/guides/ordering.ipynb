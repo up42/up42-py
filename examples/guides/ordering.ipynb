{
 "cells": [
  {
   "source": [
    "# Ordering\n",
    "\n",
    "This guide is inteded to showcase how you can order an image into UP42 Storage and download it to inspect the result, all with the convenience of the UP42 Python SDK!"
   ],
   "cell_type": "markdown",
   "metadata": {}
  },
  {
   "cell_type": "code",
   "execution_count": null,
   "metadata": {},
   "outputs": [],
   "source": [
    "import up42\n",
    "up42.authenticate(project_id=\"12345\", project_api_key=\"12345\")\n",
    "#up42.authenticate(cfg_file=\"config.json\")\n",
    "\n",
    "catalog = up42.initialize_catalog()"
   ]
  },
  {
   "cell_type": "markdown",
   "metadata": {},
   "source": [
    "## Search available scenes within aoi"
   ]
  },
  {
   "cell_type": "code",
   "execution_count": null,
   "metadata": {},
   "outputs": [],
   "source": [
    "#aoi = up42.read_vector_file(\"data/aoi_washington.geojson\", as_dataframe=False)\n",
    "aoi = up42.get_example_aoi(location=\"Berlin\", as_dataframe=True)\n",
    "aoi"
   ]
  },
  {
   "cell_type": "code",
   "execution_count": null,
   "metadata": {},
   "outputs": [],
   "source": [
    "search_parameters = catalog.construct_parameters(geometry=aoi, \n",
    "                                                 start_date=\"2018-01-01\",\n",
    "                                                 end_date=\"2020-12-31\",\n",
    "                                                 sensors=[\"pleiades\"],\n",
    "                                                 max_cloudcover=5,\n",
    "                                                 sortby=\"cloudCoverage\", \n",
    "                                                 limit=1)\n",
    "search_results = catalog.search(search_parameters=search_parameters)\n",
    "search_results"
   ]
  },
  {
   "cell_type": "code",
   "execution_count": null,
   "metadata": {},
   "outputs": [],
   "source": [
    "catalog.plot_coverage(scenes=search_results, \n",
    "                      aoi=aoi, \n",
    "                      legend_column=\"scene_id\")"
   ]
  },
  {
   "cell_type": "markdown",
   "metadata": {},
   "source": [
    "## Quicklooks"
   ]
  },
  {
   "cell_type": "code",
   "execution_count": null,
   "metadata": {},
   "outputs": [],
   "source": [
    "catalog.download_quicklooks(image_ids=search_results.id.to_list(), sensor=\"pleiades\")"
   ]
  },
  {
   "cell_type": "code",
   "execution_count": null,
   "metadata": {},
   "outputs": [],
   "source": [
    "catalog.map_quicklooks(scenes=search_results, aoi=aoi)"
   ]
  },
  {
   "source": [
    "## Estimate the cost of the order"
   ],
   "cell_type": "markdown",
   "metadata": {}
  },
  {
   "cell_type": "code",
   "execution_count": null,
   "metadata": {},
   "outputs": [],
   "source": [
    "catalog.estimate_order(aoi, search_results.loc[0])"
   ]
  },
  {
   "source": [
    "## Place an order for the image, tracking it's status"
   ],
   "cell_type": "markdown",
   "metadata": {}
  },
  {
   "cell_type": "code",
   "execution_count": null,
   "metadata": {},
   "outputs": [],
   "source": [
    "order = catalog.place_order(aoi, search_results.loc[0])"
   ]
  },
  {
   "cell_type": "code",
   "execution_count": null,
   "metadata": {},
   "outputs": [],
   "source": [
    "order.track_status()"
   ]
  },
  {
   "source": [
    "## Get the assets or results of the order"
   ],
   "cell_type": "markdown",
   "metadata": {}
  },
  {
   "cell_type": "code",
   "execution_count": null,
   "metadata": {},
   "outputs": [],
   "source": [
    "assets = order.get_assets()"
   ]
  },
  {
   "cell_type": "code",
   "execution_count": null,
   "metadata": {},
   "outputs": [],
   "source": [
    "assets[0].download()"
   ]
  }
 ],
 "metadata": {
  "kernelspec": {
   "name": "python3",
   "display_name": "Python 3.8.7 64-bit ('up42-py')",
   "metadata": {
    "interpreter": {
     "hash": "8319f7347f10cb8f3a7f098e358424811385bffa61fb45331182251b4353f15e"
    }
   }
  },
  "language_info": {
   "codemirror_mode": {
    "name": "ipython",
    "version": 3
   },
   "file_extension": ".py",
   "mimetype": "text/x-python",
   "name": "python",
   "nbconvert_exporter": "python",
   "pygments_lexer": "ipython3",
   "version": "3.8.7-final"
  }
 },
 "nbformat": 4,
 "nbformat_minor": 4
}