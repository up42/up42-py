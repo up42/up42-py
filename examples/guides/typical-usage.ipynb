{
 "cells": [
  {
   "cell_type": "markdown",
   "metadata": {},
   "source": [
    "# Typical Usage\n",
    "\n",
    "This overview of the most important functions repeats the previous 30-seconds-example, but in more detail and shows additional functionality and alternative steps."
   ]
  },
  {
   "cell_type": "markdown",
   "metadata": {},
   "source": [
    "## Authentificate & access project"
   ]
  },
  {
   "cell_type": "code",
   "execution_count": null,
   "metadata": {},
   "outputs": [],
   "source": [
    "import up42\n",
    "up42.authenticate(project_id=\"12345\", project_api_key=\"12345\")\n",
    "#up42.authenticate(cfg_file=\"config.json\")\n",
    "\n",
    "project = up42.initialize_project()\n",
    "project"
   ]
  },
  {
   "cell_type": "markdown",
   "metadata": {},
   "source": [
    "Get information about the available blocks to later construct your workflow."
   ]
  },
  {
   "cell_type": "code",
   "execution_count": null,
   "metadata": {},
   "outputs": [],
   "source": [
    "up42.get_blocks(basic=True)"
   ]
  },
  {
   "cell_type": "markdown",
   "metadata": {},
   "source": [
    "## Create or access the workflow\n",
    "You can either create a new workflow, use project.get_workflows() to get all existing workflows within the project, or access an exisiting workflow directly via its workflow_id."
   ]
  },
  {
   "cell_type": "markdown",
   "metadata": {},
   "source": [
    "Example: Sentinel 2 streaming & sharpening filter"
   ]
  },
  {
   "cell_type": "markdown",
   "metadata": {},
   "source": [
    "<p align=\"center\">\n",
    "    <img src=\"_assets/workflow.png\" width=\"400\" align=\"center\">\n",
    "</p>"
   ]
  },
  {
   "cell_type": "code",
   "execution_count": null,
   "metadata": {},
   "outputs": [],
   "source": [
    "# Create a new, empty workflow.\n",
    "\n",
    "workflow = project.create_workflow(name=\"30-seconds-workflow\", use_existing=False)\n",
    "workflow"
   ]
  },
  {
   "cell_type": "code",
   "execution_count": null,
   "metadata": {},
   "outputs": [],
   "source": [
    "# Add workflow tasks\n",
    "\n",
    "input_tasks= ['sobloo-s2-l1c-aoiclipped', 'sharpening']\n",
    "workflow.add_workflow_tasks(input_tasks=input_tasks)"
   ]
  },
  {
   "cell_type": "code",
   "execution_count": null,
   "metadata": {},
   "outputs": [],
   "source": [
    "# You can also add workflow tasks via a specific block id. This is then tied to a specific block version, whereas adding it by block name will always \n",
    "# give you the latest block version.\n",
    "\n",
    "input_tasks= [\"a2daaab4-196d-4226-a018-a810444dcad1\", \"4ed70368-d4e1-4462-bef6-14e768049471\"]\n",
    "workflow.add_workflow_tasks(input_tasks=input_tasks)"
   ]
  },
  {
   "cell_type": "code",
   "execution_count": null,
   "metadata": {},
   "outputs": [],
   "source": [
    "# Check the added tasks.\n",
    "\n",
    "workflow.get_workflow_tasks(basic=True)"
   ]
  },
  {
   "cell_type": "code",
   "execution_count": null,
   "metadata": {},
   "outputs": [],
   "source": [
    "#workflow.get_jobs()"
   ]
  },
  {
   "cell_type": "code",
   "execution_count": null,
   "metadata": {},
   "outputs": [],
   "source": [
    "# Alternative: Get all existing workflows within the project.\n",
    "\n",
    "all_workflows = project.get_workflows()\n",
    "workflow = all_workflows[0]\n",
    "workflow"
   ]
  },
  {
   "cell_type": "code",
   "execution_count": null,
   "metadata": {},
   "outputs": [],
   "source": [
    "# Alternative: Directly access the existing workflow the id (has to exist within the accessed project).\n",
    "\n",
    "UP42_WORKFLOW_ID=\"7fb2ec8a-45be-41ad-a50f-98ba6b528b98\"\n",
    "workflow = up42.initialize_workflow(workflow_id=UP42_WORKFLOW_ID)\n",
    "\n",
    "workflow"
   ]
  },
  {
   "cell_type": "markdown",
   "metadata": {},
   "source": [
    "## Select the aoi\n",
    "\n",
    "There are multiple ways to select an aoi, you can:\n",
    "- Provide aoi the geometry directly in code as a FeatureCollection, Feature, GeoDataFrame, shapely Polygon or list of bounds coordinates.\n",
    "- Use .draw_aoi() to draw the aoi and export it as a geojson.\n",
    "- Use .read_vector_file() to read a geojson, json, shapefile, kml or wkt file.\n",
    "- Use .get_example_aoi() to read multiple provided sample aois."
   ]
  },
  {
   "cell_type": "code",
   "execution_count": null,
   "metadata": {},
   "outputs": [],
   "source": [
    "aoi = [13.375966, 52.515068, 13.378314, 52.516639]"
   ]
  },
  {
   "cell_type": "code",
   "execution_count": null,
   "metadata": {},
   "outputs": [],
   "source": [
    "aoi = workflow.read_vector_file(\"data/aoi_berlin.geojson\", as_dataframe=True)\n",
    "aoi.head(1)"
   ]
  },
  {
   "cell_type": "code",
   "execution_count": null,
   "metadata": {},
   "outputs": [],
   "source": [
    "#aoi = workflow.get_example_aoi(location=\"Berlin\")\n",
    "#aoi"
   ]
  },
  {
   "cell_type": "code",
   "execution_count": null,
   "metadata": {},
   "outputs": [],
   "source": [
    "#workflow.draw_aoi()"
   ]
  },
  {
   "cell_type": "markdown",
   "metadata": {},
   "source": [
    "## Select the workflow parameters\n",
    "\n",
    "There are also multiple ways to construct the workflow input parameters, you can:\n",
    "- Provide the parameters directly in code as a json string.\n",
    "- Use .get_parameters_info() to get a an overview of all potential parameters for the selected workflow and information about the parameter defaults and ranges.\n",
    "- Use .get_input_parameters(aoi_type=\"bbox\", aoi_geometry=aoi) to construct the parameters with the provided aoi and all default parameters. Selecting the aoi_type is independent from the provided aoi, you can e.g. provide a irregular Polygon and still select aoi_type=\"bbox\", then the bounding box of the polygon will be selected."
   ]
  },
  {
   "cell_type": "code",
   "execution_count": null,
   "metadata": {},
   "outputs": [],
   "source": [
    "workflow.get_parameters_info()"
   ]
  },
  {
   "cell_type": "code",
   "execution_count": null,
   "metadata": {},
   "outputs": [],
   "source": [
    "input_parameters = {\n",
    "  \"sobloo-s2-l1c-aoiclipped:1\": {\n",
    "    \"bbox\": [13.375966, 52.515068, 13.378314, 52.516639],\n",
    "    \"ids\": None,\n",
    "    \"time\": \"2018-01-01T00:00:00+00:00/2020-12-31T23:59:59+00:00\",\n",
    "    \"limit\": 1,\n",
    "    \"zoom_level\": 14,\n",
    "    \"time_series\": None,\n",
    "    \"max_cloud_cover\": 30\n",
    "  },\n",
    "  \"sharpening:1\": {\n",
    "    \"strength\": \"medium\"\n",
    "  }\n",
    "}"
   ]
  },
  {
   "cell_type": "code",
   "execution_count": null,
   "metadata": {},
   "outputs": [],
   "source": [
    "input_parameters = workflow.construct_parameters(geometry=aoi, geometry_operation=\"bbox\", limit=1)\n",
    "input_parameters"
   ]
  },
  {
   "cell_type": "code",
   "execution_count": null,
   "metadata": {},
   "outputs": [],
   "source": [
    "# Further update the input_parameters manually\n",
    "input_parameters[\"sobloo-s2-l1c-aoiclipped:1\"].update({\"max_cloud_cover\":60})\n",
    "input_parameters"
   ]
  },
  {
   "cell_type": "markdown",
   "metadata": {},
   "source": [
    "## Run the workflow & download results"
   ]
  },
  {
   "cell_type": "code",
   "execution_count": null,
   "metadata": {},
   "outputs": [],
   "source": [
    "# Run a test job to query data availability and check the configuration.\n",
    "test_job = workflow.test_job(input_parameters=input_parameters, track_status=True)\n",
    "test_results = test_job.get_results_json()\n",
    "print(test_results)"
   ]
  },
  {
   "cell_type": "code",
   "execution_count": null,
   "metadata": {},
   "outputs": [],
   "source": [
    "# Run the actual job.\n",
    "job = workflow.run_job(input_parameters=input_parameters, track_status=True)"
   ]
  },
  {
   "cell_type": "markdown",
   "metadata": {},
   "source": [
    "<p align=\"center\">\n",
    "    <img src=\"_assets/job_running.png\" width=\"700\">\n",
    "</p>"
   ]
  },
  {
   "cell_type": "markdown",
   "metadata": {},
   "source": [
    "## Download & Display results"
   ]
  },
  {
   "cell_type": "code",
   "execution_count": null,
   "metadata": {},
   "outputs": [],
   "source": [
    "# Download job result (default downloads to Desktop). Only works after download is finished.\n",
    "results_fp = job.download_results()"
   ]
  },
  {
   "cell_type": "code",
   "execution_count": null,
   "metadata": {},
   "outputs": [],
   "source": [
    "job.plot_results()"
   ]
  },
  {
   "cell_type": "code",
   "execution_count": null,
   "metadata": {},
   "outputs": [],
   "source": [
    "job.map_results()"
   ]
  },
  {
   "cell_type": "code",
   "execution_count": null,
   "metadata": {},
   "outputs": [],
   "source": []
  }
 ],
 "metadata": {
  "kernelspec": {
   "display_name": "up42-py",
   "language": "python",
   "name": "up42-py"
  },
  "language_info": {
   "codemirror_mode": {
    "name": "ipython",
    "version": 3
   },
   "file_extension": ".py",
   "mimetype": "text/x-python",
   "name": "python",
   "nbconvert_exporter": "python",
   "pygments_lexer": "ipython3",
   "version": "3.8.3"
  }
 },
 "nbformat": 4,
 "nbformat_minor": 4
}
