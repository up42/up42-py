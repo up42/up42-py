{
 "cells": [
  {
   "cell_type": "markdown",
   "metadata": {},
   "source": [
    "# Search & Order Data\n",
    "\n",
    "A basic example on how to search & purchase data from the UP42 catalog."
   ]
  },
  {
   "cell_type": "markdown",
   "metadata": {},
   "source": [
    "## Authenticate\n",
    "\n",
    "First connect with UP42 as explained in the [authentication chapter](authentication.md)."
   ]
  },
  {
   "cell_type": "code",
   "execution_count": null,
   "metadata": {},
   "outputs": [],
   "source": [
    "import up42\n",
    "up42.authenticate(project_id=\"your project ID\", project_api_key=\"your-project-API-key\")"
   ]
  },
  {
   "cell_type": "markdown",
   "metadata": {},
   "source": [
    "## Decide on dataset\n",
    "\n",
    "We look at the available data products and decide to order a *\"Pléiades\"* satellite image in the \n",
    "*\"Display\"* configuration (*Pansharpened RGB-NIR bands, 8bit,*\n",
    "[see marketplace](https://up42.com/marketplace/blocks/data/oneatlas-pleiades-display)).<br>\n",
    "The `get_data_products` function gives us the `collection` name (required for search), and the \n",
    "`data_product_id` (required for ordering)."
   ]
  },
  {
   "cell_type": "code",
   "execution_count": null,
   "metadata": {},
   "outputs": [],
   "source": [
    "catalog = up42.initialize_catalog()\n",
    "products = catalog.get_data_products(basic=True)\n",
    "products"
   ]
  },
  {
   "cell_type": "markdown",
   "metadata": {},
   "source": [
    "## Search image in the catalog\n",
    "\n",
    "Before ordering, we want to find a specific image in the *\"Pléiades\"* collection that fits our requirements. \n",
    "Use [construct search parameters](catalog-reference.md#up42.catalog.Catalog.construct_search_parameters) \n",
    "function to help with the definition of the search parameters dictionary (e.g. area of interest, time period etc.). \n",
    "The search outputs a dataframe (or optional json) with the available satellite images."
   ]
  },
  {
   "cell_type": "code",
   "execution_count": null,
   "metadata": {},
   "outputs": [],
   "source": [
    "#aoi_geometry = up42.read_vector_file(\"data/aoi_berlin.geojson\")\n",
    "aoi_geometry = up42.get_example_aoi(location=\"Berlin\")"
   ]
  },
  {
   "cell_type": "code",
   "execution_count": null,
   "metadata": {},
   "outputs": [],
   "source": [
    "search_parameters = catalog.construct_search_parameters(collections=[\"phr\"],\n",
    "                                                        geometry=aoi_geometry,\n",
    "                                                        start_date=\"2022-06-01\",\n",
    "                                                        end_date=\"2022-12-31\",\n",
    "                                                        max_cloudcover=20,\n",
    "                                                        sortby=\"cloudCoverage\",\n",
    "                                                        limit=10)"
   ]
  },
  {
   "cell_type": "code",
   "execution_count": null,
   "metadata": {},
   "outputs": [],
   "source": [
    "search_parameters"
   ]
  },
  {
   "cell_type": "code",
   "execution_count": null,
   "metadata": {},
   "outputs": [],
   "source": [
    "search_results = catalog.search(search_parameters)"
   ]
  },
  {
   "cell_type": "markdown",
   "metadata": {},
   "source": [
    "## Order the image\n",
    "\n",
    "When you have decided on a specific image, you can purchase it by placing an order\n",
    "with the desired `image_id`, `data_product_id`,  and `geometry` parameters. \n",
    "Before ordering the image, estimate the order price. After the order is finished the image is \n",
    "available in the UP42 user storage."
   ]
  },
  {
   "cell_type": "code",
   "execution_count": null,
   "metadata": {},
   "outputs": [],
   "source": [
    "data_product_id = \"647780db-5a06-4b61-b525-577a8b68bb54\"\n",
    "image_id = search_results.iloc[0][\"id\"]\n",
    "\n",
    "order_parameters = catalog.construct_order_parameters(data_product_id=data_product_id,\n",
    "                                                      image_id=image_id, \n",
    "                                                      aoi=aoi_geometry)"
   ]
  },
  {
   "cell_type": "code",
   "execution_count": null,
   "metadata": {},
   "outputs": [],
   "source": [
    "order_parameters"
   ]
  },
  {
   "cell_type": "code",
   "execution_count": null,
   "metadata": {},
   "outputs": [],
   "source": [
    "catalog.estimate_order(order_parameters)"
   ]
  },
  {
   "cell_type": "code",
   "execution_count": null,
   "metadata": {},
   "outputs": [],
   "source": [
    "order = catalog.place_order(order_parameters)"
   ]
  },
  {
   "cell_type": "markdown",
   "metadata": {},
   "source": [
    "You can check the status of the order via `order.status`. If you want to continuously track the\n",
    "order status until it is finished, use `order.track_status()`. "
   ]
  },
  {
   "cell_type": "markdown",
   "metadata": {},
   "source": [
    "## Download the image\n",
    "\n",
    "After the order is finished, download the image assets from the user storage via:"
   ]
  },
  {
   "cell_type": "code",
   "execution_count": null,
   "metadata": {},
   "outputs": [],
   "source": [
    "assets = order.get_assets()\n",
    "assets[0].download()"
   ]
  }
 ],
 "metadata": {
  "kernelspec": {
   "display_name": "up42-py",
   "language": "python",
   "name": "up42-py"
  },
  "language_info": {
   "codemirror_mode": {
    "name": "ipython",
    "version": 3
   },
   "file_extension": ".py",
   "mimetype": "text/x-python",
   "name": "python",
   "nbconvert_exporter": "python",
   "pygments_lexer": "ipython3",
   "version": "3.9.14"
  }
 },
 "nbformat": 4,
 "nbformat_minor": 4
}
