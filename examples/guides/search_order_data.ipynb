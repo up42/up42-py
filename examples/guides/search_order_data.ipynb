{
 "cells": [
  {
   "cell_type": "markdown",
   "metadata": {},
   "source": [
    "# Search & Order Data\n",
    "\n",
    "This chapter gives a quick example on how to search & purchase data from the UP42 catalog."
   ]
  },
  {
   "cell_type": "markdown",
   "metadata": {},
   "source": [
    "## Authenticate"
   ]
  },
  {
   "cell_type": "code",
   "execution_count": null,
   "metadata": {},
   "outputs": [],
   "source": [
    "import up42\n",
    "up42.authenticate(project_id=\"your project ID\", project_api_key=\"your-project-API-key\")"
   ]
  },
  {
   "cell_type": "markdown",
   "metadata": {},
   "source": [
    "## Search image in the catalog\n",
    "\n",
    "For the catalog search, first define the desired data collection, area of interest, time period etc. with the help of the construct_parameters function. The search outputs a dataframe with the available satellite images."
   ]
  },
  {
   "cell_type": "code",
   "execution_count": null,
   "metadata": {},
   "outputs": [],
   "source": [
    "catalog = up42.initialize_catalog()"
   ]
  },
  {
   "cell_type": "code",
   "execution_count": null,
   "metadata": {},
   "outputs": [],
   "source": [
    "collections = catalog.get_collections()\n",
    "print([c[\"name\"] for c in collections])\n",
    "\n",
    "# E.g. Pleiades Neo (`pneo`), Pleiades (`phr`), Spot (`spot`) etc."
   ]
  },
  {
   "cell_type": "code",
   "execution_count": null,
   "metadata": {},
   "outputs": [],
   "source": [
    "aoi = up42.read_vector_file(\"data/aoi_washington.geojson\")"
   ]
  },
  {
   "cell_type": "code",
   "execution_count": null,
   "metadata": {},
   "outputs": [],
   "source": [
    "search_parameters = catalog.construct_parameters(geometry=aoi, \n",
    "                                                 start_date=\"2019-01-01\",\n",
    "                                                 end_date=\"2021-12-31\",\n",
    "                                                 collections=[\"phr\"],\n",
    "                                                 max_cloudcover=20,\n",
    "                                                 sortby=\"cloudCoverage\", \n",
    "                                                 limit=10)"
   ]
  },
  {
   "cell_type": "code",
   "execution_count": null,
   "metadata": {},
   "outputs": [],
   "source": [
    "search_results = catalog.search(search_parameters=search_parameters)"
   ]
  },
  {
   "cell_type": "markdown",
   "metadata": {},
   "source": [
    "## Order the image\n",
    "\n",
    "When you have decided on a specific image in the search results you can purchase it by placing an order. Before ordering the image, estimate the order price. After the order is finished the image is available in the UP42 user storage."
   ]
  },
  {
   "cell_type": "code",
   "execution_count": null,
   "metadata": {},
   "outputs": [],
   "source": [
    "catalog.estimate_order(aoi, search_results.loc[0])"
   ]
  },
  {
   "cell_type": "code",
   "execution_count": null,
   "metadata": {},
   "outputs": [],
   "source": [
    "order = catalog.place_order(geometry=aoi, scene=search_results.loc[0])"
   ]
  },
  {
   "cell_type": "markdown",
   "metadata": {},
   "source": [
    "## Download the image\n",
    "\n",
    "You can check the status of the order via order.status. If you want to continuously track the order status until it is finished, use order.track_status(). To then download the image assets use:"
   ]
  },
  {
   "cell_type": "code",
   "execution_count": null,
   "metadata": {},
   "outputs": [],
   "source": [
    "assets = order.get_assets()\n",
    "assets[0].download()"
   ]
  }
 ],
 "metadata": {
  "kernelspec": {
   "display_name": "up42-py",
   "language": "python",
   "name": "up42-py"
  },
  "language_info": {
   "codemirror_mode": {
    "name": "ipython",
    "version": 3
   },
   "file_extension": ".py",
   "mimetype": "text/x-python",
   "name": "python",
   "nbconvert_exporter": "python",
   "pygments_lexer": "ipython3",
   "version": "3.9.10"
  }
 },
 "nbformat": 4,
 "nbformat_minor": 4
}
