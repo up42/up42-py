{
 "cells": [
  {
   "cell_type": "markdown",
   "metadata": {},
   "source": [
    "# Catalog Search\n",
    "\n",
    "Check data availability & download image preview quicklooks via the catalog search. You can filter by various parameters e.g. time period, area of interest, cloud cover etc."
   ]
  },
  {
   "cell_type": "code",
   "execution_count": null,
   "metadata": {},
   "outputs": [],
   "source": [
    "import up42\n",
    "up42.authenticate(project_id=\"123\", project_api_key=\"456\")\n",
    "\n",
    "catalog = up42.initialize_catalog()"
   ]
  },
  {
   "cell_type": "markdown",
   "metadata": {},
   "source": [
    "## See available data collections"
   ]
  },
  {
   "cell_type": "code",
   "execution_count": null,
   "metadata": {},
   "outputs": [],
   "source": [
    "catalog.get_collections()"
   ]
  },
  {
   "cell_type": "markdown",
   "metadata": {},
   "source": [
    "## Search available scenes in aoi"
   ]
  },
  {
   "cell_type": "code",
   "execution_count": null,
   "metadata": {},
   "outputs": [],
   "source": [
    "#aoi = up42.read_vector_file(\"data/aoi_washington.geojson\", as_dataframe=False)\n",
    "aoi = up42.get_example_aoi(location=\"Berlin\", as_dataframe=True)\n",
    "aoi"
   ]
  },
  {
   "cell_type": "code",
   "execution_count": null,
   "metadata": {},
   "outputs": [],
   "source": [
    "search_parameters = catalog.construct_parameters(geometry=aoi, \n",
    "                                                 start_date=\"2018-01-01\",\n",
    "                                                 end_date=\"2020-12-31\",\n",
    "                                                 collections=[\"PHR\"],\n",
    "                                                 max_cloudcover=20,\n",
    "                                                 sortby=\"cloudCoverage\", \n",
    "                                                 limit=5)\n",
    "search_results = catalog.search(search_parameters=search_parameters)\n",
    "display(search_results.head())"
   ]
  },
  {
   "cell_type": "code",
   "execution_count": null,
   "metadata": {},
   "outputs": [],
   "source": [
    "catalog.plot_coverage(scenes=search_results, \n",
    "                      aoi=aoi, \n",
    "                      legend_column=\"sceneId\")"
   ]
  },
  {
   "cell_type": "markdown",
   "metadata": {},
   "source": [
    "## Download & Visualize quicklooks"
   ]
  },
  {
   "cell_type": "code",
   "execution_count": null,
   "metadata": {},
   "outputs": [],
   "source": [
    "catalog.download_quicklooks(image_ids=search_results.id.to_list(), sensor=\"pleiades\")"
   ]
  },
  {
   "cell_type": "code",
   "execution_count": null,
   "metadata": {},
   "outputs": [],
   "source": [
    "catalog.map_quicklooks(scenes=search_results, aoi=aoi)"
   ]
  },
  {
   "cell_type": "code",
   "execution_count": null,
   "metadata": {},
   "outputs": [],
   "source": []
  }
 ],
 "metadata": {
  "kernelspec": {
   "display_name": "up42-py",
   "language": "python",
   "name": "up42-py"
  },
  "language_info": {
   "codemirror_mode": {
    "name": "ipython",
    "version": 3
   },
   "file_extension": ".py",
   "mimetype": "text/x-python",
   "name": "python",
   "nbconvert_exporter": "python",
   "pygments_lexer": "ipython3",
   "version": "3.8.9"
  }
 },
 "nbformat": 4,
 "nbformat_minor": 4
}
