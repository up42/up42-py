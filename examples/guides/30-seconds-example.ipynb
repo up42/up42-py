{
 "cells": [
  {
   "cell_type": "markdown",
   "metadata": {},
   "source": [
    "# 30 seconds example\n",
    "\n",
    "In this example a **new workflow** consisting of [**Sentinel-2 L2A data**](https://marketplace.up42.com/block/c4cb8913-2ef3-4e82-a426-65ea8faacd9a)\n",
    "and [**Sharpening Filter**](https://marketplace.up42.com/block/e374ea64-dc3b-4500-bb4b-974260fb203e) is created.\n",
    "The area of interest and workflow parameters are defined. After **running the job**, \n",
    "the results are **downloaded** and visualized."
   ]
  },
  {
   "cell_type": "code",
   "execution_count": 1,
   "metadata": {},
   "outputs": [],
   "source": [
    "import up42"
   ]
  },
  {
   "cell_type": "code",
   "execution_count": 2,
   "metadata": {},
   "outputs": [],
   "source": [
    "#up42.authenticate(project_id=\"project ID string\", project_api_key=\"project-API-key\")\n",
    "up42.authenticate(cfg_file=\"config.json\")\n",
    "project = up42.initialize_project()"
   ]
  },
  {
   "cell_type": "code",
   "execution_count": 3,
   "metadata": {},
   "outputs": [],
   "source": [
    "# Construct workflow\n",
    "workflow = project.create_workflow(name=\"30-seconds-workflow\", use_existing=True)\n",
    "input_tasks = [\"Sentinel-2 L2A Visual (GeoTIFF)\", \"Sharpening Filter\"]\n",
    "workflow.add_workflow_tasks(input_tasks)"
   ]
  },
  {
   "cell_type": "code",
   "execution_count": 4,
   "metadata": {},
   "outputs": [],
   "source": [
    "# Define the aoi and input parameters of the workflow to run it.\n",
    "# Can also use up42.draw_aoi(), up42.read_vector_file(), provide a FeatureCollection, GeoDataFrame etc.\n",
    "aoi = up42.get_example_aoi(as_dataframe=True)\n",
    "input_parameters = workflow.construct_parameters(geometry=aoi, \n",
    "                                                 geometry_operation=\"bbox\", \n",
    "                                                 start_date=\"2018-01-01\",\n",
    "                                                 end_date=\"2020-12-31\",\n",
    "                                                 limit=1)\n",
    "input_parameters[\"esa-s2-l2a-gtiff-visual:1\"].update({\"max_cloud_cover\":5})"
   ]
  },
  {
   "cell_type": "code",
   "execution_count": 5,
   "metadata": {},
   "outputs": [
    {
     "data": {
      "text/plain": [
       "{'esa-s2-l2a-gtiff-visual:1': {'blockConsumption': {'resources': {'unit': 'SQUARE_KM',\n",
       "    'min': 0.027816,\n",
       "    'max': 0.027816},\n",
       "   'credit': {'min': 0, 'max': 0}},\n",
       "  'machineConsumption': {'duration': {'min': 0, 'max': 0},\n",
       "   'credit': {'min': 1, 'max': 1}}},\n",
       " 'sharpening:1': {'blockConsumption': {'resources': {'unit': 'SQUARE_KM',\n",
       "    'min': 0.027816,\n",
       "    'max': 0.027816},\n",
       "   'credit': {'min': 0, 'max': 0}},\n",
       "  'machineConsumption': {'duration': {'min': 308, 'max': 349},\n",
       "   'credit': {'min': 1, 'max': 1}}}}"
      ]
     },
     "execution_count": 5,
     "metadata": {},
     "output_type": "execute_result"
    }
   ],
   "source": [
    "# Price estimation\n",
    "workflow.estimate_job(input_parameters)"
   ]
  },
  {
   "cell_type": "code",
   "execution_count": 6,
   "metadata": {},
   "outputs": [],
   "source": [
    "# Run a test job to query data availability and check the configuration.\n",
    "test_job = workflow.test_job(input_parameters, track_status=True)"
   ]
  },
  {
   "cell_type": "code",
   "execution_count": 7,
   "metadata": {},
   "outputs": [],
   "source": [
    "# Run the actual job.\n",
    "job = workflow.run_job(input_parameters, track_status=True)"
   ]
  },
  {
   "cell_type": "code",
   "execution_count": 8,
   "metadata": {},
   "outputs": [
    {
     "name": "stderr",
     "output_type": "stream",
     "text": [
      "3it [00:00, 1094.45it/s]\n"
     ]
    },
    {
     "data": {
      "text/plain": [
       "['/Users/andres.hernandez-camacho/Documents/UP42_Assignments/up42-py/examples/guides/project_1d53e295-95a7-423d-9f09-68bbbebf74c2/job_1e20db4b-a0bf-4b6e-a3a1-5b678f8bd691/S2B_32UQD_20201219_0_L2A/S2B_32UQD_20201219_0_L2A_visual.tif',\n",
       " '/Users/andres.hernandez-camacho/Documents/UP42_Assignments/up42-py/examples/guides/project_1d53e295-95a7-423d-9f09-68bbbebf74c2/job_1e20db4b-a0bf-4b6e-a3a1-5b678f8bd691/data.json']"
      ]
     },
     "execution_count": 8,
     "metadata": {},
     "output_type": "execute_result"
    }
   ],
   "source": [
    "job.download_results()"
   ]
  },
  {
   "cell_type": "code",
   "execution_count": 9,
   "metadata": {},
   "outputs": [
    {
     "data": {
      "image/png": "[encoded data removed]",
      "text/plain": [
       "<Figure size 432x432 with 1 Axes>"
      ]
     },
     "metadata": {
      "needs_background": "light"
     },
     "output_type": "display_data"
    }
   ],
   "source": [
    "job.plot_results(figsize=(6,6))"
   ]
  }
 ],
 "metadata": {
  "kernelspec": {
   "display_name": "up42_dev",
   "language": "python",
   "name": "up42_dev"
  },
  "language_info": {
   "codemirror_mode": {
    "name": "ipython",
    "version": 3
   },
   "file_extension": ".py",
   "mimetype": "text/x-python",
   "name": "python",
   "nbconvert_exporter": "python",
   "pygments_lexer": "ipython3",
   "version": "3.9.10"
  }
 },
 "nbformat": 4,
 "nbformat_minor": 4
}
