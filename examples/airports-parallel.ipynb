{
 "cells": [
  {
   "cell_type": "markdown",
   "metadata": {},
   "source": [
    "# Parallel Jobs\n",
    "\n",
    "## Example: Airport monitoring\n",
    "\n",
    "- Get a Sentinel-2 clipped image for airports in a country. \n",
    "- Run all jobs in parallel\n",
    "- Visualize the results"
   ]
  },
  {
   "cell_type": "code",
   "execution_count": null,
   "metadata": {},
   "outputs": [],
   "source": [
    "%load_ext autoreload\n",
    "%autoreload 2\n",
    "import pandas as pd\n",
    "import geopandas as gpd\n",
    "from pathlib import Path\n",
    "import up42"
   ]
  },
  {
   "cell_type": "markdown",
   "metadata": {},
   "source": [
    "### 10 random airports in a Spain"
   ]
  },
  {
   "cell_type": "markdown",
   "metadata": {},
   "source": [
    "https://raw.githubusercontent.com/jpatokal/openflights/master/data/airports.dat"
   ]
  },
  {
   "cell_type": "code",
   "execution_count": null,
   "metadata": {},
   "outputs": [],
   "source": [
    "country = \"Spain\"\n",
    "\n",
    "dat = \"https://raw.githubusercontent.com/jpatokal/openflights/master/data/airports.dat\"\n",
    "airports = pd.read_table(dat, \n",
    "                         sep=\",\", \n",
    "                         usecols=[0, 1, 3, 6, 7], \n",
    "                         names=[\"uid\",'airport', \"country\", \"lat\", \"lon\"])\n",
    "airports = airports[airports.country==country]\n",
    "airports = gpd.GeoDataFrame(airports, geometry=gpd.points_from_xy(airports.lon, airports.lat))\n",
    "\n",
    "world = gpd.read_file(gpd.datasets.get_path('naturalearth_lowres'))\n",
    "world = world[world.name == country]\n",
    "airports = airports[airports.within(world.iloc[0].geometry)]\n",
    "\n",
    "display(airports.head())"
   ]
  },
  {
   "cell_type": "code",
   "execution_count": null,
   "metadata": {},
   "outputs": [],
   "source": [
    "airports=airports.sample(10)"
   ]
  },
  {
   "cell_type": "code",
   "execution_count": null,
   "metadata": {},
   "outputs": [],
   "source": [
    "# Visualize locations\n",
    "ax = world.plot(figsize=(10,10), color='white', edgecolor='black')\n",
    "airports.plot(markersize=20, ax=ax, color=\"r\")"
   ]
  },
  {
   "cell_type": "code",
   "execution_count": null,
   "metadata": {},
   "outputs": [],
   "source": [
    "# Buffer airport point locations by around 100m\n",
    "airports.geometry = airports.geometry.buffer(0.001)\n",
    "airports.iloc[0].geometry"
   ]
  },
  {
   "cell_type": "markdown",
   "metadata": {},
   "source": [
    "### Prepare UP42 workflows"
   ]
  },
  {
   "cell_type": "code",
   "execution_count": null,
   "metadata": {},
   "outputs": [],
   "source": [
    "# Authentificate\n",
    "api = up42.authenticate(cfg_file=\"config.json\")"
   ]
  },
  {
   "cell_type": "code",
   "execution_count": null,
   "metadata": {},
   "outputs": [],
   "source": [
    "project = up42.initialize_project()\n",
    "project"
   ]
  },
  {
   "cell_type": "code",
   "execution_count": null,
   "metadata": {},
   "outputs": [],
   "source": [
    "# Only works when you have added your credit card information to the UP42 account.\n",
    "project.update_project_settings(max_concurrent_jobs=10)"
   ]
  },
  {
   "cell_type": "code",
   "execution_count": null,
   "metadata": {},
   "outputs": [],
   "source": [
    "workflow = project.create_workflow(\"workflow_demo_airplanes\", use_existing=True)\n",
    "workflow"
   ]
  },
  {
   "cell_type": "code",
   "execution_count": null,
   "metadata": {},
   "outputs": [],
   "source": [
    "# Fill the workflow with tasks\n",
    "blocks = up42.get_blocks(basic=True)\n",
    "\n",
    "selected_block = \"sobloo-s2-l1c-aoiclipped\"\n",
    "workflow.add_workflow_tasks([blocks[selected_block]])\n",
    "\n",
    "workflow.get_workflow_tasks(basic=True)"
   ]
  },
  {
   "cell_type": "markdown",
   "metadata": {},
   "source": [
    "### Run jobs in parallel\n",
    "\n",
    "Very crude, this will soon be available in the API in one command!"
   ]
  },
  {
   "cell_type": "code",
   "execution_count": null,
   "metadata": {},
   "outputs": [],
   "source": [
    "# Run jobs in parallel\n",
    "jobs = []\n",
    "for airport in airports.geometry:\n",
    "    input_parameters = workflow.construct_parameters(geometry=airport, geometry_operation=\"bbox\")\n",
    "    input_parameters[f\"{selected_block}:1\"][\"max_cloud_cover\"] = 10\n",
    "    \n",
    "    job = workflow.run_job(input_parameters=input_parameters)\n",
    "    jobs.append(job)\n",
    "    \n",
    "# Track status until the last job is finished.\n",
    "for job in jobs:\n",
    "    job.track_status(report_time=20)"
   ]
  },
  {
   "cell_type": "code",
   "execution_count": null,
   "metadata": {},
   "outputs": [],
   "source": [
    "# Download results:\n",
    "out_filepaths=[]\n",
    "for job in jobs:\n",
    "    fp = job.download_results()\n",
    "    out_filepaths.append(fp[0])\n",
    "\n",
    "print(\"finished\")\n",
    "print(out_filepaths)"
   ]
  },
  {
   "cell_type": "code",
   "execution_count": null,
   "metadata": {},
   "outputs": [],
   "source": [
    "# Visualize downloaded results\n",
    "up42.plot_results(figsize=(22,22), filepaths=out_filepaths, titles=airports.airport.to_list())"
   ]
  },
  {
   "cell_type": "code",
   "execution_count": null,
   "metadata": {},
   "outputs": [],
   "source": []
  }
 ],
 "metadata": {
  "kernelspec": {
   "display_name": "up42-py",
   "language": "python",
   "name": "up42-py"
  },
  "language_info": {
   "codemirror_mode": {
    "name": "ipython",
    "version": 3
   },
   "file_extension": ".py",
   "mimetype": "text/x-python",
   "name": "python",
   "nbconvert_exporter": "python",
   "pygments_lexer": "ipython3",
   "version": "3.7.5"
  }
 },
 "nbformat": 4,
 "nbformat_minor": 4
}
