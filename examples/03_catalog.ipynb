{
 "cells": [
  {
   "cell_type": "markdown",
   "metadata": {},
   "source": [
    "# Catalog Search"
   ]
  },
  {
   "cell_type": "code",
   "execution_count": 2,
   "metadata": {},
   "outputs": [],
   "source": [
    "%load_ext autoreload\n",
    "%autoreload 2\n",
    "\n",
    "import up42"
   ]
  },
  {
   "cell_type": "code",
   "execution_count": 3,
   "metadata": {},
   "outputs": [
    {
     "name": "stderr",
     "output_type": "stream",
     "text": [
      "2020-04-06 17:10:53,304 - up42.auth - INFO - Got credentials from config file.\n",
      "2020-04-06 17:10:53,570 - up42.auth - INFO - Authentication with UP42 successful!\n"
     ]
    },
    {
     "data": {
      "text/plain": [
       "Catalog(querystring={'backend': 'ONE_ATLAS'}, auth=UP42ProjectAuth(project_id=8956d18d-33bc-47cb-93bd-0055ff21da8f, env=dev))"
      ]
     },
     "execution_count": 3,
     "metadata": {},
     "output_type": "execute_result"
    }
   ],
   "source": [
    "up42.authenticate(cfg_file=\"config.json\")\n",
    "catalog = up42.initialize_catalog()\n",
    "catalog"
   ]
  },
  {
   "cell_type": "markdown",
   "metadata": {},
   "source": [
    "## Search available scenes within aoi"
   ]
  },
  {
   "cell_type": "code",
   "execution_count": 4,
   "metadata": {},
   "outputs": [
    {
     "name": "stderr",
     "output_type": "stream",
     "text": [
      "2020-04-06 17:10:54,784 - up42.tools - INFO - Getting small example aoi in Berlin.\n"
     ]
    },
    {
     "data": {
      "text/html": [
       "<div>\n",
       "<style scoped>\n",
       "    .dataframe tbody tr th:only-of-type {\n",
       "        vertical-align: middle;\n",
       "    }\n",
       "\n",
       "    .dataframe tbody tr th {\n",
       "        vertical-align: top;\n",
       "    }\n",
       "\n",
       "    .dataframe thead th {\n",
       "        text-align: right;\n",
       "    }\n",
       "</style>\n",
       "<table border=\"1\" class=\"dataframe\">\n",
       "  <thead>\n",
       "    <tr style=\"text-align: right;\">\n",
       "      <th></th>\n",
       "      <th>geometry</th>\n",
       "    </tr>\n",
       "  </thead>\n",
       "  <tbody>\n",
       "    <tr>\n",
       "      <th>0</th>\n",
       "      <td>POLYGON ((13.37597 52.51507, 13.37597 52.51664...</td>\n",
       "    </tr>\n",
       "  </tbody>\n",
       "</table>\n",
       "</div>"
      ],
      "text/plain": [
       "                                            geometry\n",
       "0  POLYGON ((13.37597 52.51507, 13.37597 52.51664..."
      ]
     },
     "execution_count": 4,
     "metadata": {},
     "output_type": "execute_result"
    }
   ],
   "source": [
    "#aoi = up42.read_vector_file(\"data/aoi_berlin.geojson\", \n",
    "#                           as_dataframe=True)\n",
    "aoi = up42.get_example_aoi(location=\"Berlin\", as_dataframe=True)\n",
    "aoi"
   ]
  },
  {
   "cell_type": "code",
   "execution_count": 5,
   "metadata": {},
   "outputs": [
    {
     "name": "stderr",
     "output_type": "stream",
     "text": [
      "2020-04-06 17:11:06,639 - up42.catalog - INFO - Searching catalog with: {'datetime': '2019-01-01T00:00:00Z/2020-12-31T00:00:00Z', 'intersects': {'type': 'Polygon', 'coordinates': (((13.375966, 52.515068), (13.375966, 52.516639), (13.378314, 52.516639), (13.378314, 52.515068), (13.375966, 52.515068)),)}, 'limit': 4, 'query': {'cloudCoverage': {'lte': 20}, 'dataBlock': {'in': ['oneatlas-pleiades-fullscene', 'oneatlas-pleiades-aoiclipped']}}, 'sortby': [{'field': 'properties.cloudCoverage', 'direction': 'asc'}]}\n",
      "2020-04-06 17:11:07,251 - up42.catalog - INFO - 4 results returned.\n"
     ]
    },
    {
     "data": {
      "text/html": [
       "<div>\n",
       "<style scoped>\n",
       "    .dataframe tbody tr th:only-of-type {\n",
       "        vertical-align: middle;\n",
       "    }\n",
       "\n",
       "    .dataframe tbody tr th {\n",
       "        vertical-align: top;\n",
       "    }\n",
       "\n",
       "    .dataframe thead th {\n",
       "        text-align: right;\n",
       "    }\n",
       "</style>\n",
       "<table border=\"1\" class=\"dataframe\">\n",
       "  <thead>\n",
       "    <tr style=\"text-align: right;\">\n",
       "      <th></th>\n",
       "      <th>index</th>\n",
       "      <th>geometry</th>\n",
       "      <th>id</th>\n",
       "      <th>acquisitionDate</th>\n",
       "      <th>constellation</th>\n",
       "      <th>providerName</th>\n",
       "      <th>blockNames</th>\n",
       "      <th>cloudCoverage</th>\n",
       "      <th>providerProperties</th>\n",
       "      <th>scene_id</th>\n",
       "    </tr>\n",
       "  </thead>\n",
       "  <tbody>\n",
       "    <tr>\n",
       "      <th>0</th>\n",
       "      <td>0</td>\n",
       "      <td>POLYGON ((13.09289 52.79625, 13.09433 52.29334...</td>\n",
       "      <td>dbae2873-1f28-4525-9c15-79bcf83cf9cb</td>\n",
       "      <td>2020-01-16T10:23:35Z</td>\n",
       "      <td>PHR</td>\n",
       "      <td>oneatlas</td>\n",
       "      <td>[oneatlas-pleiades-fullscene, oneatlas-pleiade...</td>\n",
       "      <td>0.000000</td>\n",
       "      <td>{'acquisitionDate': '2020-01-16T10:23:35.93Z',...</td>\n",
       "      <td>DS_PHR1A_202001161023359_FR1_PX_E013N52_0314_0...</td>\n",
       "    </tr>\n",
       "    <tr>\n",
       "      <th>1</th>\n",
       "      <td>1</td>\n",
       "      <td>POLYGON ((13.24672 52.55035, 13.24685 52.48391...</td>\n",
       "      <td>8eb6d2fb-f508-45ce-a4ce-fa67422a913d</td>\n",
       "      <td>2020-03-27T10:26:45Z</td>\n",
       "      <td>PHR</td>\n",
       "      <td>oneatlas</td>\n",
       "      <td>[oneatlas-pleiades-fullscene, oneatlas-pleiade...</td>\n",
       "      <td>0.000000</td>\n",
       "      <td>{'commercialReference': 'SO20013308', 'acquisi...</td>\n",
       "      <td>DS_PHR1A_202003271026453_FR1_PX_E013N52_0513_0...</td>\n",
       "    </tr>\n",
       "    <tr>\n",
       "      <th>2</th>\n",
       "      <td>2</td>\n",
       "      <td>POLYGON ((13.33259 52.63683, 13.33508 52.29182...</td>\n",
       "      <td>66d7efe9-74d5-4cd7-bf4a-6b2f8b9e8b8f</td>\n",
       "      <td>2020-01-18T10:08:43Z</td>\n",
       "      <td>PHR</td>\n",
       "      <td>oneatlas</td>\n",
       "      <td>[oneatlas-pleiades-fullscene, oneatlas-pleiade...</td>\n",
       "      <td>0.030175</td>\n",
       "      <td>{'acquisitionDate': '2020-01-18T10:08:43.43Z',...</td>\n",
       "      <td>DS_PHR1A_202001181008434_FR1_PX_E013N52_0612_0...</td>\n",
       "    </tr>\n",
       "    <tr>\n",
       "      <th>3</th>\n",
       "      <td>3</td>\n",
       "      <td>POLYGON ((13.08185 52.64325, 13.08460 52.29103...</td>\n",
       "      <td>573f7a1e-a7ab-4d7e-9ae9-cd16af30f87d</td>\n",
       "      <td>2020-01-18T10:08:56Z</td>\n",
       "      <td>PHR</td>\n",
       "      <td>oneatlas</td>\n",
       "      <td>[oneatlas-pleiades-fullscene, oneatlas-pleiade...</td>\n",
       "      <td>0.045232</td>\n",
       "      <td>{'acquisitionDate': '2020-01-18T10:08:56.931Z'...</td>\n",
       "      <td>DS_PHR1A_202001181008569_FR1_PX_E013N52_0312_0...</td>\n",
       "    </tr>\n",
       "  </tbody>\n",
       "</table>\n",
       "</div>"
      ],
      "text/plain": [
       "   index                                           geometry  \\\n",
       "0      0  POLYGON ((13.09289 52.79625, 13.09433 52.29334...   \n",
       "1      1  POLYGON ((13.24672 52.55035, 13.24685 52.48391...   \n",
       "2      2  POLYGON ((13.33259 52.63683, 13.33508 52.29182...   \n",
       "3      3  POLYGON ((13.08185 52.64325, 13.08460 52.29103...   \n",
       "\n",
       "                                     id       acquisitionDate constellation  \\\n",
       "0  dbae2873-1f28-4525-9c15-79bcf83cf9cb  2020-01-16T10:23:35Z           PHR   \n",
       "1  8eb6d2fb-f508-45ce-a4ce-fa67422a913d  2020-03-27T10:26:45Z           PHR   \n",
       "2  66d7efe9-74d5-4cd7-bf4a-6b2f8b9e8b8f  2020-01-18T10:08:43Z           PHR   \n",
       "3  573f7a1e-a7ab-4d7e-9ae9-cd16af30f87d  2020-01-18T10:08:56Z           PHR   \n",
       "\n",
       "  providerName                                         blockNames  \\\n",
       "0     oneatlas  [oneatlas-pleiades-fullscene, oneatlas-pleiade...   \n",
       "1     oneatlas  [oneatlas-pleiades-fullscene, oneatlas-pleiade...   \n",
       "2     oneatlas  [oneatlas-pleiades-fullscene, oneatlas-pleiade...   \n",
       "3     oneatlas  [oneatlas-pleiades-fullscene, oneatlas-pleiade...   \n",
       "\n",
       "   cloudCoverage                                 providerProperties  \\\n",
       "0       0.000000  {'acquisitionDate': '2020-01-16T10:23:35.93Z',...   \n",
       "1       0.000000  {'commercialReference': 'SO20013308', 'acquisi...   \n",
       "2       0.030175  {'acquisitionDate': '2020-01-18T10:08:43.43Z',...   \n",
       "3       0.045232  {'acquisitionDate': '2020-01-18T10:08:56.931Z'...   \n",
       "\n",
       "                                            scene_id  \n",
       "0  DS_PHR1A_202001161023359_FR1_PX_E013N52_0314_0...  \n",
       "1  DS_PHR1A_202003271026453_FR1_PX_E013N52_0513_0...  \n",
       "2  DS_PHR1A_202001181008434_FR1_PX_E013N52_0612_0...  \n",
       "3  DS_PHR1A_202001181008569_FR1_PX_E013N52_0312_0...  "
      ]
     },
     "metadata": {},
     "output_type": "display_data"
    }
   ],
   "source": [
    "search_paramaters = catalog.construct_parameters(geometry=aoi, \n",
    "                                                 start_date=\"2019-01-01\",\n",
    "                                                 end_date=\"2020-12-31\",\n",
    "                                                 sensors=[\"pleiades\"],\n",
    "                                                 max_cloudcover=20,\n",
    "                                                 sortby=\"cloudCoverage\", \n",
    "                                                 limit=4)\n",
    "search_results = catalog.search(search_paramaters=search_paramaters)\n",
    "display(search_results.head())"
   ]
  },
  {
   "cell_type": "code",
   "execution_count": null,
   "metadata": {},
   "outputs": [],
   "source": [
    "catalog.plot_coverage(scenes=search_results, \n",
    "                      aoi=aoi, \n",
    "                      legend_column=\"scene_id\")"
   ]
  },
  {
   "cell_type": "markdown",
   "metadata": {},
   "source": [
    "## Quicklooks"
   ]
  },
  {
   "cell_type": "code",
   "execution_count": null,
   "metadata": {},
   "outputs": [],
   "source": [
    "catalog.download_quicklooks(image_ids=search_results.id.to_list(), provider=\"oneatlas\")"
   ]
  },
  {
   "cell_type": "code",
   "execution_count": null,
   "metadata": {},
   "outputs": [],
   "source": [
    "catalog.plot_quicklooks(figsize=(20,20))"
   ]
  },
  {
   "cell_type": "code",
   "execution_count": null,
   "metadata": {},
   "outputs": [],
   "source": []
  }
 ],
 "metadata": {
  "kernelspec": {
   "display_name": "up42-py",
   "language": "python",
   "name": "up42-py"
  },
  "language_info": {
   "codemirror_mode": {
    "name": "ipython",
    "version": 3
   },
   "file_extension": ".py",
   "mimetype": "text/x-python",
   "name": "python",
   "nbconvert_exporter": "python",
   "pygments_lexer": "ipython3",
   "version": "3.7.4"
  }
 },
 "nbformat": 4,
 "nbformat_minor": 4
}
