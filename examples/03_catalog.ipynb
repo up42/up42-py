{
 "cells": [
  {
   "cell_type": "markdown",
   "metadata": {},
   "source": [
    "# Catalog Search"
   ]
  },
  {
   "cell_type": "code",
   "execution_count": null,
   "metadata": {},
   "outputs": [],
   "source": [
    "%load_ext autoreload\n",
    "%autoreload 2\n",
    "\n",
    "import up42"
   ]
  },
  {
   "cell_type": "code",
   "execution_count": null,
   "metadata": {},
   "outputs": [],
   "source": [
    "up42.authenticate(cfg_file=\"config.json\")\n",
    "catalog = up42.initialize_catalog()\n",
    "catalog"
   ]
  },
  {
   "cell_type": "markdown",
   "metadata": {},
   "source": [
    "## Search available scenes within aoi"
   ]
  },
  {
   "cell_type": "code",
   "execution_count": null,
   "metadata": {},
   "outputs": [],
   "source": [
    "#aoi = up42.read_vector_file(\"data/aoi_berlin.geojson\", \n",
    "#                           as_dataframe=True)\n",
    "aoi = up42.get_example_aoi(location=\"Berlin\", as_dataframe=True)\n",
    "aoi"
   ]
  },
  {
   "cell_type": "code",
   "execution_count": null,
   "metadata": {},
   "outputs": [],
   "source": [
    "search_paramaters = catalog.construct_parameter(geometry=aoi, \n",
    "                                                start_date=\"2014-01-01\",\n",
    "                                                end_date=\"2016-12-31\",\n",
    "                                                sensors=[\"pleiades\"],\n",
    "                                                max_cloudcover=20,\n",
    "                                                sortby=\"cloudCoverage\", \n",
    "                                                limit=4)\n",
    "search_results = catalog.search(search_paramaters=search_paramaters)\n",
    "display(search_results.head())"
   ]
  },
  {
   "cell_type": "code",
   "execution_count": null,
   "metadata": {},
   "outputs": [],
   "source": [
    "catalog.plot_coverage(scenes=search_results, \n",
    "                      aoi=aoi, \n",
    "                      legend_column=\"scene_id\")"
   ]
  },
  {
   "cell_type": "markdown",
   "metadata": {},
   "source": [
    "## Quicklooks"
   ]
  },
  {
   "cell_type": "code",
   "execution_count": null,
   "metadata": {},
   "outputs": [],
   "source": [
    "catalog.download_quicklook(image_ids=search_results.id.to_list(), \n",
    "                           provider=\"oneatlas\", \n",
    "                           out_dir=None)"
   ]
  },
  {
   "cell_type": "code",
   "execution_count": null,
   "metadata": {},
   "outputs": [],
   "source": [
    "catalog.plot_quicklook(figsize=(20,20))"
   ]
  },
  {
   "cell_type": "code",
   "execution_count": null,
   "metadata": {},
   "outputs": [],
   "source": []
  }
 ],
 "metadata": {
  "kernelspec": {
   "display_name": "up42-py",
   "language": "python",
   "name": "up42-py"
  },
  "language_info": {
   "codemirror_mode": {
    "name": "ipython",
    "version": 3
   },
   "file_extension": ".py",
   "mimetype": "text/x-python",
   "name": "python",
   "nbconvert_exporter": "python",
   "pygments_lexer": "ipython3",
   "version": "3.7.4"
  }
 },
 "nbformat": 4,
 "nbformat_minor": 4
}
