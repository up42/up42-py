{
 "cells": [
  {
   "cell_type": "markdown",
   "metadata": {},
   "source": [
    "# Objects\n",
    "\n",
    "This section gives an overview of the the available **functionality** at each level of the UP42 API, and how to **initialize** the 6 objects directly (e.g. if you don't want to create a new workflow and job, but want to access an already existing job on UP42)."
   ]
  },
  {
   "cell_type": "code",
   "execution_count": null,
   "metadata": {},
   "outputs": [],
   "source": [
    "import up42\n",
    "up42.authenticate(cfg_file=\"config.json\")"
   ]
  },
  {
   "cell_type": "markdown",
   "metadata": {},
   "source": [
    "## Tools\n",
    "\n",
    "The tools' functionalities can be accessed from each up42 object.\n",
    "\n",
    "Example functions: `.read_vector_file`, `.get_example_aoi`, `.draw_aoi`, `.plot_coverage`, `.plot_quicklook`, `.plot_result`, `.get_blocks`, `.get_block_details`, `.delete_custom_block`, `.validate_manifest`, `.initialize_project`"
   ]
  },
  {
   "cell_type": "code",
   "execution_count": null,
   "metadata": {},
   "outputs": [],
   "source": [
    "# Can be accessed from each up42 object, e.g.\n",
    "up42.get_example_aoi()\n",
    "#workflow.get_example_aoi()\n",
    "#job.get_example_aoi()"
   ]
  },
  {
   "cell_type": "markdown",
   "metadata": {},
   "source": [
    "## Catalog\n",
    "\n",
    "Example functions: `.construct_parameter`, `.search`, `.download_quicklooks`"
   ]
  },
  {
   "cell_type": "code",
   "execution_count": null,
   "metadata": {},
   "outputs": [],
   "source": [
    "catalog = up42.initialize_catalog()\n",
    "catalog"
   ]
  },
  {
   "cell_type": "markdown",
   "metadata": {},
   "source": [
    "## Project\n",
    "\n",
    "Example functions: `.get_workflows`, `.create_workflow`, `.get_project_settings`, `.update_project_settings`,`.update_project_settings`, `.get_project_api_key`"
   ]
  },
  {
   "cell_type": "code",
   "execution_count": null,
   "metadata": {},
   "outputs": [],
   "source": [
    "UP42_PROJECT_ID=\"8956d18d-33bc-47cb-93bd-0055ff21da8f\" \n",
    "\n",
    "project = up42.initialize_project()\n",
    "project"
   ]
  },
  {
   "cell_type": "markdown",
   "metadata": {},
   "source": [
    "## Workflow\n",
    "\n",
    "Example functions: `.add_workflow_tasks`, `.get_parameters_info`, `.construct_parameters`, `.get_jobs`, `.create_and_run_job`, `.get_workflow_tasks`, `.add_workflow_tasks`, `.update_workflow`, `.delete_workflow`, `.update_name`, `.delete`"
   ]
  },
  {
   "cell_type": "markdown",
   "metadata": {},
   "source": [
    "Alltough most often used from the workflow object, a few generic aoi functions are useable with every object: `.get_example_aoi`, `.draw_aoi`, `.read_vector_file`"
   ]
  },
  {
   "cell_type": "code",
   "execution_count": null,
   "metadata": {},
   "outputs": [],
   "source": [
    "UP42_WORKFLOW_ID=\"7fb2ec8a-45be-41ad-a50f-98ba6b528b98\"\n",
    "\n",
    "workflow = up42.initialize_workflow(workflow_id=UP42_WORKFLOW_ID)\n",
    "workflow"
   ]
  },
  {
   "cell_type": "markdown",
   "metadata": {},
   "source": [
    "## Job\n",
    "\n",
    "Example functions: `.get_status`, `.track_status`, `.cancel_job`, `.get_results`, `.get_logs`, `.get_quicklook`, `.download_results`, `.plot_results`, `.map_results`, `.upload_results_to_bucket`, `.get_jobtasks`, `.get_jobtasks_results`"
   ]
  },
  {
   "cell_type": "code",
   "execution_count": null,
   "metadata": {},
   "outputs": [],
   "source": [
    "UP42_JOB_ID=\"de5806aa-5ef1-4dc9-ab1d-06d7ec1a5021\"\n",
    "\n",
    "job = up42.initialize_job(job_id=UP42_JOB_ID)\n",
    "job"
   ]
  },
  {
   "cell_type": "markdown",
   "metadata": {},
   "source": [
    "## JobTask"
   ]
  },
  {
   "cell_type": "markdown",
   "metadata": {},
   "source": [
    "Example functions: `.get_result_json`, `.download_results`, `.get_quicklooks`"
   ]
  },
  {
   "cell_type": "code",
   "execution_count": null,
   "metadata": {},
   "outputs": [],
   "source": [
    "UP42_JOBTASK_ID=\"3f772637-09aa-4164-bded-692fcd746d20\"\n",
    "\n",
    "jobtask = up42.initialize_jobtask(jobtask_id=UP42_JOBTASK_ID,\n",
    "                                  job_id=UP42_JOB_ID)\n",
    "jobtask"
   ]
  },
  {
   "cell_type": "code",
   "execution_count": null,
   "metadata": {},
   "outputs": [],
   "source": []
  }
 ],
 "metadata": {
  "kernelspec": {
   "display_name": "up42-py",
   "language": "python",
   "name": "up42-py"
  },
  "language_info": {
   "codemirror_mode": {
    "name": "ipython",
    "version": 3
   },
   "file_extension": ".py",
   "mimetype": "text/x-python",
   "name": "python",
   "nbconvert_exporter": "python",
   "pygments_lexer": "ipython3",
   "version": "3.7.4"
  }
 },
 "nbformat": 4,
 "nbformat_minor": 4
}
