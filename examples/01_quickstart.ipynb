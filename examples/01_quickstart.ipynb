{
 "cells": [
  {
   "cell_type": "markdown",
   "metadata": {},
   "source": [
    "# Quickstart"
   ]
  },
  {
   "cell_type": "code",
   "execution_count": null,
   "metadata": {},
   "outputs": [],
   "source": [
    "%load_ext autoreload\n",
    "%autoreload 2"
   ]
  },
  {
   "cell_type": "markdown",
   "metadata": {},
   "source": [
    "## API-Structure\n",
    "\n",
    "- The UP42 Python Api uses six object classes, representing the **hierachical structure** of UP42: **Project > Workflow > Job > JobTask** and **Catalog & Tools**.\n",
    "- Each object provides the full functionality at that specific level and can spawn elements of one level below, e.g.\n",
    "    - `project = up42.initialize_project()`   \n",
    "    - `workflow = Project().create_workflow()`\n",
    "    - `job = workflow.create_and_run_job()`\n",
    "<br> \n",
    "- Usually the user starts with the project object, then spawns objects of a lower level (e.g. creates a new workflow, creates&runs a job etc.). \n",
    "- To access a lower-level object directly, e.g. a job that was already run on UP42 initialize the object directly via `up42.initialize_job(job_id='123456789')`."
   ]
  },
  {
   "cell_type": "markdown",
   "metadata": {},
   "source": [
    "## 30 seconds example\n",
    "\n",
    "Runs a workflow consisting of Sentinel-2 Streaming and image sharpening."
   ]
  },
  {
   "cell_type": "code",
   "execution_count": null,
   "metadata": {},
   "outputs": [],
   "source": [
    "import up42"
   ]
  },
  {
   "cell_type": "code",
   "execution_count": null,
   "metadata": {},
   "outputs": [],
   "source": [
    "# Get the the project credentials & authenticate with UP42.\n",
    "up42.authenticate(\"config.json\")"
   ]
  },
  {
   "cell_type": "code",
   "execution_count": null,
   "metadata": {},
   "outputs": [],
   "source": [
    "# Create a workflow in the project.\n",
    "project = up42.initialize_project()\n",
    "workflow = project.create_workflow(name=\"30-seconds-workflow\", use_existing=True)"
   ]
  },
  {
   "cell_type": "code",
   "execution_count": null,
   "metadata": {},
   "outputs": [],
   "source": [
    "# Add blocks/tasks to the workflow.\n",
    "blocks = up42.get_blocks(basic=True)\n",
    "input_tasks= [blocks['sobloo-s2-l1c-aoiclipped'], \n",
    "              blocks['sharpening']]\n",
    "workflow.add_workflow_tasks(input_tasks=input_tasks)"
   ]
  },
  {
   "cell_type": "code",
   "execution_count": null,
   "metadata": {},
   "outputs": [],
   "source": [
    "# Define the aoi and input parameters of the workflow to run it.\n",
    "aoi = workflow.read_vector_file(\"data/aoi_berlin.geojson\", as_dataframe=True)\n",
    "input_parameters = workflow.construct_parameter(geometry=aoi, \n",
    "                                                geometry_operation=\"bbox\", \n",
    "                                                start_date=\"2020-01-01\",\n",
    "                                                end_date=\"2020-01-20\",\n",
    "                                                limit=1)\n",
    "print(input_parameters)"
   ]
  },
  {
   "cell_type": "code",
   "execution_count": null,
   "metadata": {},
   "outputs": [],
   "source": [
    "# Run the workflow as a job\n",
    "job = workflow.create_and_run_job(input_parameters=input_parameters)\n",
    "job.track_status()"
   ]
  },
  {
   "cell_type": "code",
   "execution_count": null,
   "metadata": {},
   "outputs": [],
   "source": [
    "# Plot the scene quicklooks.\n",
    "job.download_quicklook()\n",
    "job.plot_quicklook()"
   ]
  },
  {
   "cell_type": "code",
   "execution_count": null,
   "metadata": {},
   "outputs": [],
   "source": [
    "# Plot & analyse the results.\n",
    "results_fp = job.download_result()\n",
    "print(results_fp)"
   ]
  },
  {
   "cell_type": "code",
   "execution_count": null,
   "metadata": {},
   "outputs": [],
   "source": [
    "job.plot_result()"
   ]
  },
  {
   "cell_type": "code",
   "execution_count": null,
   "metadata": {},
   "outputs": [],
   "source": [
    "job.map_result()"
   ]
  },
  {
   "cell_type": "code",
   "execution_count": null,
   "metadata": {},
   "outputs": [],
   "source": []
  }
 ],
 "metadata": {
  "kernelspec": {
   "display_name": "up42-py",
   "language": "python",
   "name": "up42-py"
  },
  "language_info": {
   "codemirror_mode": {
    "name": "ipython",
    "version": 3
   },
   "file_extension": ".py",
   "mimetype": "text/x-python",
   "name": "python",
   "nbconvert_exporter": "python",
   "pygments_lexer": "ipython3",
   "version": "3.7.4"
  }
 },
 "nbformat": 4,
 "nbformat_minor": 4
}
