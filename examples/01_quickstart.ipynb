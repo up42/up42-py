{
 "cells": [
  {
   "cell_type": "markdown",
   "metadata": {},
   "source": [
    "# Quickstart"
   ]
  },
  {
   "cell_type": "code",
   "execution_count": null,
   "metadata": {},
   "outputs": [],
   "source": [
    "%load_ext autoreload\n",
    "%autoreload 2"
   ]
  },
  {
   "cell_type": "markdown",
   "metadata": {},
   "source": [
    "## Package Overview\n",
    "\n",
    "- The UP42 Python SDK uses six object classes, representing the **hierarchical structure** of the UP42 platform:\n",
    "    - **Project > Workflow > Job > JobTask**,\n",
    "    - **Catalog** and\n",
    "    - **Tools**.\n",
    "- Each object (besides Catalog and Tools) provides the full functionality at that specific level and can spawn elements of one level below, e.g.\n",
    "    - `project = up42.initialize_project()`\n",
    "    - `workflow = Project().create_workflow()`\n",
    "    - `job = workflow.create_and_run_job()`\n",
    "- Usually a user starts by creating a project object and then spawns objects of a lower level.\n",
    "- It is also possible to directly access a lower-level object, e.g. a job that was already run on UP42 can be used to initialize the corresponding object via `up42.initialize_job(job_id='123456789')`."
   ]
  },
  {
   "cell_type": "markdown",
   "metadata": {},
   "source": [
    "## 30 seconds example\n",
    "\n",
    "After authentication with the UP42 project, a new workflow is created and filled with tasks (Sentinel-2 data, image sharpening). \n",
    "The area of interest and workflow parameters are defined. After running the job, the results are downloaded and visualized."
   ]
  },
  {
   "cell_type": "code",
   "execution_count": null,
   "metadata": {},
   "outputs": [],
   "source": [
    "import up42"
   ]
  },
  {
   "cell_type": "code",
   "execution_count": null,
   "metadata": {},
   "outputs": [],
   "source": [
    "up42.authenticate(\"config.json\")\n",
    "project = up42.initialize_project()"
   ]
  },
  {
   "cell_type": "code",
   "execution_count": null,
   "metadata": {},
   "outputs": [],
   "source": [
    "workflow = project.create_workflow(name=\"30-seconds-workflow\", use_existing=True)\n",
    "# Add blocks/tasks to the workflow.\n",
    "blocks = up42.get_blocks(basic=True)\n",
    "input_tasks= [blocks['sobloo-s2-l1c-aoiclipped'], \n",
    "              blocks['sharpening']]\n",
    "workflow.add_workflow_tasks(input_tasks=input_tasks)"
   ]
  },
  {
   "cell_type": "code",
   "execution_count": null,
   "metadata": {},
   "outputs": [],
   "source": [
    "# Define the aoi and input parameters of the workflow to run it.\n",
    "aoi = workflow.read_vector_file(\"data/aoi_berlin.geojson\", as_dataframe=True)\n",
    "input_parameters = workflow.construct_parameter(geometry=aoi, \n",
    "                                                geometry_operation=\"bbox\", \n",
    "                                                start_date=\"2020-01-01\",\n",
    "                                                end_date=\"2020-01-20\",\n",
    "                                                limit=1)"
   ]
  },
  {
   "cell_type": "code",
   "execution_count": null,
   "metadata": {},
   "outputs": [],
   "source": [
    "job = workflow.create_and_run_job(input_parameters=input_parameters)\n",
    "job.track_status()"
   ]
  },
  {
   "cell_type": "code",
   "execution_count": null,
   "metadata": {},
   "outputs": [],
   "source": [
    "job.download_result()\n",
    "job.map_result()"
   ]
  },
  {
   "cell_type": "code",
   "execution_count": null,
   "metadata": {},
   "outputs": [],
   "source": []
  }
 ],
 "metadata": {
  "kernelspec": {
   "display_name": "up42-py",
   "language": "python",
   "name": "up42-py"
  },
  "language_info": {
   "codemirror_mode": {
    "name": "ipython",
    "version": 3
   },
   "file_extension": ".py",
   "mimetype": "text/x-python",
   "name": "python",
   "nbconvert_exporter": "python",
   "pygments_lexer": "ipython3",
   "version": "3.7.4"
  }
 },
 "nbformat": 4,
 "nbformat_minor": 4
}
