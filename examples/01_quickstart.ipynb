{
 "cells": [
  {
   "cell_type": "markdown",
   "metadata": {},
   "source": [
    "# Quickstart"
   ]
  },
  {
   "cell_type": "code",
   "execution_count": 2,
   "metadata": {},
   "outputs": [],
   "source": [
    "%load_ext autoreload\n",
    "%autoreload 2"
   ]
  },
  {
   "cell_type": "markdown",
   "metadata": {},
   "source": [
    "## Package Overview\n",
    "\n",
    "- The UP42 Python SDK uses six object classes, representing the **hierarchical structure** of the UP42 platform:\n",
    "    - **Project > Workflow > Job > JobTask**,\n",
    "    - **Catalog** and\n",
    "    - **Tools**.\n",
    "- Each object (besides Catalog and Tools) provides the full functionality at that specific level and can spawn elements of one level below, e.g.\n",
    "    - `project = up42.initialize_project()`\n",
    "    - `workflow = Project().create_workflow()`\n",
    "    - `job = workflow.create_and_run_job()`\n",
    "- Usually a user starts by creating a project object and then spawns objects of a lower level.\n",
    "- It is also possible to directly access a lower-level object, e.g. a job that was already run on UP42 can be used to initialize the corresponding object via `up42.initialize_job(job_id='123456789')`."
   ]
  },
  {
   "cell_type": "markdown",
   "metadata": {},
   "source": [
    "## 30 seconds example\n",
    "\n",
    "After authentication with the UP42 project, a new workflow is created and filled with tasks (Sentinel-2 data, image sharpening). \n",
    "The area of interest and workflow parameters are defined. After running the job, the results are downloaded and visualized."
   ]
  },
  {
   "cell_type": "code",
   "execution_count": 3,
   "metadata": {},
   "outputs": [],
   "source": [
    "import up42"
   ]
  },
  {
   "cell_type": "code",
   "execution_count": 4,
   "metadata": {},
   "outputs": [
    {
     "name": "stderr",
     "output_type": "stream",
     "text": [
      "2020-04-06 17:01:17,658 - up42.auth - INFO - Got credentials from config file.\n",
      "2020-04-06 17:01:17,926 - up42.auth - INFO - Authentication with UP42 successful!\n",
      "2020-04-06 17:01:17,926 - up42 - INFO - Working on Project with project_id 8956d18d-33bc-47cb-93bd-0055ff21da8f\n"
     ]
    },
    {
     "data": {
      "text/plain": [
       "Project(project_id=8956d18d-33bc-47cb-93bd-0055ff21da8f, auth=UP42ProjectAuth(project_id=8956d18d-33bc-47cb-93bd-0055ff21da8f, env=dev), info={'id': '8956d18d-33bc-47cb-93bd-0055ff21da8f', 'displayId': '8956d18d', 'createdAt': '2020-03-04T10:11:05.679Z', 'updatedAt': '2020-03-04T10:11:05.679Z', 'name': '30-seconds-example', 'description': 'up42-py showcase'})"
      ]
     },
     "execution_count": 4,
     "metadata": {},
     "output_type": "execute_result"
    }
   ],
   "source": [
    "up42.authenticate(\"config.json\")\n",
    "project = up42.initialize_project()\n",
    "project"
   ]
  },
  {
   "cell_type": "code",
   "execution_count": 5,
   "metadata": {},
   "outputs": [
    {
     "name": "stderr",
     "output_type": "stream",
     "text": [
      "2020-04-06 17:01:18,380 - up42.project - INFO - Getting existing workflows in project ...\n",
      "2020-04-06 17:01:18,810 - up42.project - INFO - Got 10 workflows for project 8956d18d-33bc-47cb-93bd-0055ff21da8f.\n",
      "100%|██████████| 10/10 [00:04<00:00,  2.39it/s]\n",
      "2020-04-06 17:01:23,002 - up42.project - INFO - Using existing workflow: 30-seconds-workflow, 7fb2ec8a-45be-41ad-a50f-98ba6b528b98.\n",
      "2020-04-06 17:01:23,634 - up42.tools - INFO - Getting blocks name and id, use basic=False for all block details.\n",
      "2020-04-06 17:01:24,895 - up42.workflow - INFO - Added tasks to workflow: [{'name': 'sobloo-s2-l1c-aoiclipped:1', 'parentName': None, 'blockId': 'a2daaab4-196d-4226-a018-a810444dcad1'}, {'name': 'sharpening:1', 'parentName': 'sobloo-s2-l1c-aoiclipped:1', 'blockId': '4ed70368-d4e1-4462-bef6-14e768049471'}]\n"
     ]
    }
   ],
   "source": [
    "# Add blocks/tasks to the workflow.\n",
    "workflow = project.create_workflow(name=\"30-seconds-workflow\", use_existing=True)\n",
    "blocks = up42.get_blocks(basic=True)\n",
    "input_tasks= [blocks['sobloo-s2-l1c-aoiclipped'], \n",
    "              blocks['sharpening']]\n",
    "workflow.add_workflow_tasks(input_tasks=input_tasks)"
   ]
  },
  {
   "cell_type": "code",
   "execution_count": 6,
   "metadata": {},
   "outputs": [
    {
     "data": {
      "text/plain": [
       "{'sobloo-s2-l1c-aoiclipped:1': {'time': '2020-01-01T00:00:00Z/2020-01-20T00:00:00Z',\n",
       "  'limit': 1,\n",
       "  'zoom_level': 14,\n",
       "  'max_cloud_cover': 100,\n",
       "  'bbox': [13.375966, 52.515068, 13.378314, 52.516639]},\n",
       " 'sharpening:1': {'strength': 'medium'}}"
      ]
     },
     "execution_count": 6,
     "metadata": {},
     "output_type": "execute_result"
    }
   ],
   "source": [
    "# Define the aoi and input parameters of the workflow to run it.\n",
    "aoi = workflow.read_vector_file(\"data/aoi_berlin.geojson\", as_dataframe=True)\n",
    "input_parameters = workflow.construct_parameters(geometry=aoi, \n",
    "                                                 geometry_operation=\"bbox\", \n",
    "                                                 start_date=\"2018-01-01\",\n",
    "                                                 end_date=\"2020-12-31\",\n",
    "                                                 limit=1)\n",
    "input_parameters"
   ]
  },
  {
   "cell_type": "code",
   "execution_count": 7,
   "metadata": {},
   "outputs": [
    {
     "name": "stderr",
     "output_type": "stream",
     "text": [
      "2020-04-06 17:01:25,491 - up42.workflow - INFO - Selected input_parameters: {'sobloo-s2-l1c-aoiclipped:1': {'time': '2020-01-01T00:00:00Z/2020-01-20T00:00:00Z', 'limit': 1, 'zoom_level': 14, 'max_cloud_cover': 100, 'bbox': [13.375966, 52.515068, 13.378314, 52.516639]}, 'sharpening:1': {'strength': 'medium'}}.\n",
      "2020-04-06 17:01:27,088 - up42.workflow - INFO - Created and running new job: 8897a5a4-f35a-4a3b-9c70-c2d01af097b7.\n",
      "2020-04-06 17:01:27,509 - up42.job - INFO - Tracking job status continuously, reporting every 30 seconds...\n",
      "2020-04-06 17:02:00,519 - up42.job - INFO - Job finished successfully! - 8897a5a4-f35a-4a3b-9c70-c2d01af097b7\n"
     ]
    },
    {
     "data": {
      "text/plain": [
       "'SUCCEEDED'"
      ]
     },
     "execution_count": 7,
     "metadata": {},
     "output_type": "execute_result"
    }
   ],
   "source": [
    "job = workflow.create_and_run_job(input_parameters=input_parameters)\n",
    "job.track_status()"
   ]
  },
  {
   "cell_type": "code",
   "execution_count": null,
   "metadata": {},
   "outputs": [],
   "source": [
    "job.download_results()"
   ]
  },
  {
   "cell_type": "code",
   "execution_count": null,
   "metadata": {},
   "outputs": [],
   "source": [
    "job.plot_results()"
   ]
  },
  {
   "cell_type": "code",
   "execution_count": null,
   "metadata": {},
   "outputs": [],
   "source": []
  }
 ],
 "metadata": {
  "kernelspec": {
   "display_name": "up42-py",
   "language": "python",
   "name": "up42-py"
  },
  "language_info": {
   "codemirror_mode": {
    "name": "ipython",
    "version": 3
   },
   "file_extension": ".py",
   "mimetype": "text/x-python",
   "name": "python",
   "nbconvert_exporter": "python",
   "pygments_lexer": "ipython3",
   "version": "3.7.4"
  }
 },
 "nbformat": 4,
 "nbformat_minor": 4
}
