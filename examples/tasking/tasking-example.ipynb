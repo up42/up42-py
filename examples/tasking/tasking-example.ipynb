{
  "cells": [
    {
      "cell_type": "markdown",
      "metadata": {},
      "source": [
        "# Create a tasking order via UP42 SDK\n",
        "\n",
        "## Installation\n",
        "\n",
        "[Install](https://sdk.up42.com/installation/) the SDK. The package requires Python ≥ 3.7."
      ]
    },
    {
      "cell_type": "code",
      "execution_count": 1,
      "metadata": {},
      "outputs": [],
      "source": [
        "!pip install up42-py\n",
        "import up42"
      ]
    },
    {
      "cell_type": "markdown",
      "metadata": {},
      "source": [
        "## Authentication\n",
        "\n",
        "To [authenticate](https://sdk.up42.com/authentication), you need to know your project credentials."
      ]
    },
    {
      "cell_type": "code",
      "execution_count": 2,
      "metadata": {},
      "outputs": [],
      "source": [
        "up42.authenticate(\n",
        "    project_id=\"your-project-ID\",\n",
        "    project_api_key=\"your-project-API-key\"\n",
        ")\n",
        "\n",
        "# Alternatively, you can create a config.json file and use the following code for it:\n",
        "# {\n",
        "#     \"project_id\": your-project-ID\",\n",
        "#     \"project_api_key\": \"your-project-API-key\"\n",
        "# }\n",
        "\n",
        "# If you use a configuration file, uncomment this line:\n",
        "# up42.authenticate(cfg_file=\"credentials.json\")\n"
      ]
    },
    {
      "cell_type": "markdown",
      "metadata": {},
      "source": [
        "## Step 1. Choose a tasking collection\n",
        "\n",
        "Choose a tasking collection and get its `data_product_id` for ordering."
      ]
    },
    {
      "cell_type": "code",
      "execution_count": 3,
      "metadata": {},
      "outputs": [],
      "source": [
        "tasking = up42.initialize_tasking()\n",
        "products = tasking.get_data_products(basic=True)\n",
        "print(products)"
      ]
    },
    {
      "cell_type": "markdown",
      "metadata": {},
      "source": [
        "Choose a data product and copy its ID."
      ]
    },
    {
      "cell_type": "code",
      "execution_count": 4,
      "metadata": {},
      "outputs": [],
      "source": [
        "# The following value is the product id for Pléiades Neo Tasking — Analytic (Mono):\n",
        "data_product_id = \"123eabab-0511-4f36-883a-80928716c3db\""
      ]
    },
    {
      "cell_type": "markdown",
      "metadata": {},
      "source": [
        "## Step 2. Request access\n",
        "\n",
        "If you want to order the chosen collection for the first time, you need to request access to it. For more information on access requests, see [Restrictions](https://docs.up42.com/getting-started/restrictions#tasking-collections).\n",
        "\n",
        "An email from the Customer Success team usually takes up to 3 days. You can review your access request status on the [Access requests](https://console.up42.com/settings/access) page."
      ]
    },
    {
      "cell_type": "markdown",
      "metadata": {},
      "source": [
        "## Step 3. Accept a EULA\n",
        "\n",
        "If you want to order the chosen collection for the first time, you need to accept its end-user license agreement (EULA). For more information on license agreements, see [EULAs](https://docs.up42.com/getting-started/account/eulas)."
      ]
    },
    {
      "cell_type": "markdown",
      "metadata": {},
      "source": [
        "## Step 4. Get a JSON schema of an order form\n",
        "\n",
        "Get detailed information about the parameters needed to create an order for the chosen data product."
      ]
    },
    {
      "cell_type": "code",
      "execution_count": 5,
      "metadata": {},
      "outputs": [],
      "source": [
        "tasking.get_data_product_schema(data_product_id)"
      ]
    },
    {
      "cell_type": "markdown",
      "metadata": {},
      "source": [
        "## Step 5. Fill out an order form\n",
        "\n",
        "Before placing an order, find out how order parameters affect the [timeframe of your tasking order](https://docs.up42.com/data/tasking/acquisition).\n",
        "\n",
        "Specify geometry and use the required request body schema format for the chosen data product."
      ]
    },
    {
      "cell_type": "code",
      "execution_count": 6,
      "metadata": {},
      "outputs": [],
      "source": [
        "# geometry = up42.read_vector_file(\"data/aoi_washington.geojson\")\n",
        "# geometry = up42.get_example_aoi()\n",
        "\n",
        "geometry = {\n",
        "    \"type\": \"Polygon\",\n",
        "    \"coordinates\": (\n",
        "        (\n",
        "            (13.375966, 52.515068),\n",
        "            (13.375966, 52.516639),\n",
        "            (13.378314, 52.516639),\n",
        "            (13.378314, 52.515068),\n",
        "            (13.375966, 52.515068),\n",
        "        ),\n",
        "    ),\n",
        "}\n",
        "\n",
        "order_parameters = tasking.construct_order_parameters(\n",
        "    data_product_id=data_product_id,\n",
        "    name=\"PNeo tasking order\",\n",
        "    acquisition_start=\"2023-11-01\",\n",
        "    acquisition_end=\"2023-12-20\",\n",
        "    geometry=geometry,\n",
        "    tags=[\"project-7\", \"optical\"]\n",
        ")"
      ]
    },
    {
      "cell_type": "markdown",
      "metadata": {},
      "source": [
        "The returned log will contain the required parameters you'll need to specify:\n",
        "```\n",
        "2023-04-27 16:54:24,397 - As `acquisitionMode` select one of ['mono']\n",
        "2023-04-27 16:54:24,398 - As `cloudCoverage` select `{'description': 'Maximum allowed cloud coverage in percentage.', 'minimum': 5, 'maximum': 20, 'type': 'integer'}`\n",
        "2023-04-27 16:54:24,399 - As `geometricProcessing` select one of ['ortho']\n",
        "```"
      ]
    },
    {
      "cell_type": "markdown",
      "metadata": {},
      "source": [
        "If needed, update the request by adding the requested parameters."
      ]
    },
    {
      "cell_type": "code",
      "execution_count": 7,
      "metadata": {},
      "outputs": [],
      "source": [
        "order_parameters[\"params\"].update({\n",
        "    \"acquisitionMode\": \"mono\",\n",
        "    \"cloudCoverage\": 10,\n",
        "    \"incidenceAngle\": 10,\n",
        "    \"geometricProcessing\": \"ortho\",\n",
        "    \"spectralProcessing\": \"bundle\",\n",
        "    \"pixelCoding\": \"12bits\",\n",
        "    \"radiometricProcessing\": \"reflectance\",\n",
        "    \"deliveredAs\": \"geotiff\",\n",
        "    \"projection\": \"4326\"\n",
        "})"
      ]
    },
    {
      "cell_type": "markdown",
      "metadata": {},
      "source": [
        "Check the parameters by printing them."
      ]
    },
    {
      "cell_type": "code",
      "execution_count": 8,
      "metadata": {},
      "outputs": [],
      "source": [
        "print(order_parameters)"
      ]
    },
    {
      "cell_type": "markdown",
      "metadata": {},
      "source": [
        "## Step 6. Place an order\n",
        "\n",
        "If multiple people need to be alerted about a future order, create a group email and [add it to the account](https://docs.up42.com/getting-started/account/management#change-your-email) you'll be placing an order with. Otherwise, only one person will receive notifications about it.\n",
        "\n",
        "Place an order with the requested parameters."
      ]
    },
    {
      "cell_type": "code",
      "execution_count": 9,
      "metadata": {},
      "outputs": [],
      "source": [
        "order = tasking.place_order(order_parameters)\n",
        "order"
      ]
    },
    {
      "cell_type": "markdown",
      "metadata": {},
      "source": [
        "If you've defined an AOI with multiple geometries, each geometry will create a separate order. Order names will be suffixed with incrementing numbers: `Order 1`, `Order 2`, etc.\n",
        "\n",
        "Once the order is placed, you will get a response like this:\n",
        "```\n",
        "2023-07-13 13:22:10,677 - Order is PLACED\n",
        "2023-07-13 13:22:10,677 - Order your-order-id is now PLACED.\n",
        "```"
      ]
    },
    {
      "cell_type": "markdown",
      "metadata": {},
      "source": [
        "## Step 7. Review and accept feasibility\n",
        "\n",
        "After an order is placed, the Operations team will conduct a [feasibility study](https://docs.up42.com/data/tasking/feasibility). They will evaluate the tasking parameters with the provider, and then will present the following assessments:\n",
        "\n",
        "- The order is possible with the given parameters.\n",
        "- The order requires modifications with suitable options proposed.\n",
        "\n",
        "You will receive an email notifying you when your order feasibility has been assessed. Using your order ID, review the proposed feasibility options."
      ]
    },
    {
      "cell_type": "code",
      "execution_count": 10,
      "metadata": {},
      "outputs": [],
      "source": [
        "tasking.get_feasibility(order_id=\"68567134-27ad-7bd7-4b65-d61adb11fc78\")"
      ]
    },
    {
      "cell_type": "markdown",
      "metadata": {},
      "source": [
        "Accept one of the options."
      ]
    },
    {
      "cell_type": "code",
      "execution_count": 11,
      "metadata": {},
      "outputs": [],
      "source": [
        "tasking.choose_feasibility(\n",
        "    feasibility_id=\"68567134-27ad-7bd7-4b65-d61adb11fc78\",\n",
        "    accepted_option_id=\"a0d443a2-41e8-4995-8b54-a5cc4c448227\"\n",
        ")"
      ]
    },
    {
      "cell_type": "markdown",
      "metadata": {},
      "source": [
        "If none of the options are suitable, [contact](https://up42.com/company/contact-ordering) the Operations team.\n",
        "\n",
        "You can't modify your order after accepting an option."
      ]
    },
    {
      "cell_type": "markdown",
      "metadata": {},
      "source": [
        "## Step 8. Activate an order\n",
        "\n",
        "After selecting a feasibility option, you will receive a price quote for your order. Using your order ID, review the received quotation."
      ]
    },
    {
      "cell_type": "code",
      "execution_count": 12,
      "metadata": {},
      "outputs": [],
      "source": [
        "tasking.get_quotations(order_id=\"68567134-27ad-7bd7-4b65-d61adb11fc78\")"
      ]
    },
    {
      "cell_type": "markdown",
      "metadata": {},
      "source": [
        "To activate your order, accept the quotation."
      ]
    },
    {
      "cell_type": "code",
      "execution_count": 13,
      "metadata": {},
      "outputs": [],
      "source": [
        "tasking.decide_quotation(\n",
        "    quotation_id=\"68567134-27ad-7bd7-4b65-d61adb11fc78\",\n",
        "    decision=\"ACCEPTED\"\n",
        ")"
      ]
    },
    {
      "cell_type": "markdown",
      "metadata": {},
      "source": [
        "## Step 9. Monitor an order\n",
        "\n",
        "Check the status of your order."
      ]
    },
    {
      "cell_type": "code",
      "execution_count": 14,
      "metadata": {},
      "outputs": [],
      "source": [
        "order.status"
      ]
    },
    {
      "cell_type": "markdown",
      "metadata": {},
      "source": [
        "When the order is completed, [download its assets from storage](https://sdk.up42.com/storage/)."
      ]
    }
  ],
  "metadata": {
    "colab": {
      "provenance": []
    },
    "kernelspec": {
      "display_name": "Python 3",
      "name": "python3"
    },
    "language_info": {
      "codemirror_mode": {
        "name": "ipython",
        "version": 3
      },
      "file_extension": ".py",
      "mimetype": "text/x-python",
      "name": "python",
      "nbconvert_exporter": "python",
      "pygments_lexer": "ipython3",
      "version": "3.11.3"
    },
    "orig_nbformat": 4
  },
  "nbformat": 4,
  "nbformat_minor": 0
}
