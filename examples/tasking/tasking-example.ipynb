{
  "cells": [
    {
      "cell_type": "markdown",
      "metadata": {},
      "source": [
        "# Create a tasking order via UP42 SDK\n"
      ]
    },
    {
      "cell_type": "markdown",
      "metadata": {},
      "source": [
        "\n",
        "## Installation\n",
        "\n",
        "[Install](https://sdk.up42.com/installation/) the SDK. The package requires Python ≥ 3.7."
      ]
    },
    {
      "cell_type": "code",
      "execution_count": null,
      "metadata": {
        "id": "HNRtQbA3piW_"
      },
      "outputs": [],
      "source": [
        "pip install up42-py\n",
        "import up42"
      ]
    },
    {
      "cell_type": "markdown",
      "metadata": {},
      "source": [
        "## Authentication\n",
        "\n",
        "To authenticate, you need to know your project credentials. Read more about authentication in the [documentation](https://sdk.up42.com/authentication).\n",
        "\n",
        "Paste your credentials into the cell below."
      ]
    },
    {
      "cell_type": "code",
      "execution_count": 4,
      "metadata": {
        "colab": {
          "base_uri": "https://localhost:8080/"
        },
        "id": "H9rZOHsIpiXB",
        "outputId": "6a82c5c2-958d-4342-be58-a8d7afd06793"
      },
      "outputs": [
        {
          "name": "stderr",
          "output_type": "stream",
          "text": [
            "2023-07-13 14:28:50,176 - Authentication with UP42 successful!\n"
          ]
        }
      ],
      "source": [
        "up42.authenticate(\n",
        "    project_id=\"your-project-ID\",\n",
        "    project_api_key=\"your-project-API-key\"\n",
        ")\n",
        "\n",
        "# Alternatively, you can create a config.json file and use the following code for it:\n",
        "# {\n",
        "#     \"project_id\": your-project-ID\",\n",
        "#     \"project_api_key\": \"your-project-API-key\"\n",
        "# }\n",
        "\n",
        "# If you use a configuration file, uncomment this line:\n",
        "# up42.authenticate(cfg_file=\"credentials.json\")\n"
      ]
    },
    {
      "cell_type": "markdown",
      "metadata": {},
      "source": [
        "Place an order as follows:\n",
        "\n",
        "1. Choose a tasking collection\n",
        "2. Request access\n",
        "3. Accept a EULA\n",
        "4. Get a JSON schema of an order form\n",
        "5. Fill out an order form\n",
        "6. Place an order\n",
        "7. Review and accept feasibility\n",
        "8. Activate an order\n",
        "9. Monitor an order"
      ]
    },
    {
      "cell_type": "markdown",
      "metadata": {},
      "source": []
    },
    {
      "cell_type": "code",
      "execution_count": 6,
      "metadata": {
        "colab": {
          "base_uri": "https://localhost:8080/"
        },
        "id": "blgQwHkGpiXB",
        "outputId": "c453d75a-1d13-439e-df0f-8842b795928c"
      },
      "outputs": [
        {
          "data": {
            "text/plain": [
              "{'SPOT tasking': {'collection': 'SPOT-tasking',\n",
              "  'host': 'oneatlas',\n",
              "  'data_products': {'Custom': '3a89d24e-515a-460f-a494-96be55da10a9',\n",
              "   'Analytic': '9d16c506-a6c0-4cf2-a020-8ecaf10b4160',\n",
              "   'Display': '47a693ba-4f8b-414d-8d5b-697373df4765'}},\n",
              " 'Pléiades Neo tasking': {'collection': 'pneo-tasking',\n",
              "  'host': 'oneatlas',\n",
              "  'data_products': {'Custom': '07c33a51-94b9-4509-84df-e9c13ea92b84',\n",
              "   'Analytic (Mono)': '123eabab-0511-4f36-883a-80928716c3db',\n",
              "   'Display (Mono)': '469f9b2f-1631-4c09-b66d-575abd41dc8f'}},\n",
              " 'Capella Space tasking': {'collection': 'capella-tasking',\n",
              "  'host': 'capellaspace',\n",
              "  'data_products': {'Custom': '83e21b35-e431-43a0-a1c4-22a6ad313911'}},\n",
              " 'Pléiades tasking': {'collection': 'PHR-tasking',\n",
              "  'host': 'oneatlas',\n",
              "  'data_products': {'Custom': '4f866cd3-d816-4c98-ace3-e6105623cf13',\n",
              "   'Analytic': 'bd102407-1814-4f92-8b5a-7697b7a73f5a',\n",
              "   'Display': '28d4a077-6620-4ab5-9a03-c96bf622457e'}},\n",
              " 'TerraSAR-X tasking': {'collection': 'terra-sar-tasking',\n",
              "  'host': 'airbus-sar',\n",
              "  'data_products': {'Custom': 'a6f64332-3148-4e05-a475-45a02176f210'}},\n",
              " 'BlackSky tasking': {'collection': 'blacksky-tasking',\n",
              "  'host': 'spectra',\n",
              "  'data_products': {'Custom': '613ad1f5-4148-4460-a316-1a97e46058f9'}},\n",
              " 'ICEYE tasking': {'collection': 'iceye-tasking',\n",
              "  'host': 'iceye',\n",
              "  'data_products': {'Custom': '205fd9e1-4b00-4f0a-aabd-01e2f3f4dfba'}},\n",
              " 'Satellogic tasking': {'collection': 'satellogic-tasking',\n",
              "  'host': 'satellogic',\n",
              "  'data_products': {'Custom': '9f790255-e8dc-4954-b5f9-3e7bea37cc69'}}}"
            ]
          },
          "execution_count": 6,
          "metadata": {},
          "output_type": "execute_result"
        }
      ],
      "source": [
        "# Let's get a list of all the satellites you can currently task\n",
        "tasking = up42.initialize_tasking()\n",
        "tasking.get_data_products(basic=True)"
      ]
    },
    {
      "cell_type": "code",
      "execution_count": 7,
      "metadata": {
        "id": "k9czCVqApiXB"
      },
      "outputs": [],
      "source": [
        "# Let's task a PHR satellite\n",
        "# First let's define geometry. There are multiple ways to define a geometry\n",
        "# You can simply use one of your existing vector file\n",
        "target_geometry = up42.read_vector_file(\"aoi_washington.geojson\")\n",
        "\n",
        "# OR, by defining the geometry in the code iteself\n",
        "target_geometry = {\n",
        "    \"type\": \"Polygon\",\n",
        "    \"coordinates\": (\n",
        "        (\n",
        "            ( 13.362774607378753,\n",
        "              52.52381077911102\n",
        "            ),\n",
        "            (\n",
        "              13.362774607378753,\n",
        "              52.501421984603894\n",
        "            ),\n",
        "            (\n",
        "              13.414800488880843,\n",
        "              52.501421984603894\n",
        "            ),\n",
        "            (\n",
        "              13.414800488880843,\n",
        "              52.52381077911102\n",
        "            ),\n",
        "            (\n",
        "              13.362774607378753,\n",
        "              52.52381077911102\n",
        "            )\n",
        "        ),\n",
        "    ),\n",
        "}"
      ]
    },
    {
      "cell_type": "code",
      "execution_count": null,
      "metadata": {
        "id": "FlErtgCWpiXC"
      },
      "outputs": [],
      "source": [
        "# Let's define additional order parameters\n",
        "\n",
        "order_parameters = tasking.construct_order_parameters(\n",
        "    data_product_id=\"bd102407-1814-4f92-8b5a-7697b7a73f5a\",\n",
        "    name=\"A demo example to task a PHR satellite\",\n",
        "    acquisition_start=\"2023-08-01\",\n",
        "    acquisition_end=\"2023-10-07\",\n",
        "    geometry=target_geometry,\n",
        "    tags=[\"example\", \"now-you-can-add-tags-to-the-order\"]\n",
        ")"
      ]
    },
    {
      "cell_type": "code",
      "execution_count": null,
      "metadata": {
        "id": "90LvUUI3piXC"
      },
      "outputs": [],
      "source": [
        "# This will return you a list of some additional parameters that you need to configure\n",
        "# This list changes from satellite to satellite\n",
        "# 2023-07-13 11:23:58,962 - As `acquisitionMode` select one of ['mono', 'stereo', 'tristereo']\n",
        "# 2023-07-13 11:23:58,962 - As `cloudCoverage` select `{'description': 'Maximum allowed cloud coverage in percentage.', 'minimum': 5, 'maximum': 20, 'type': 'integer'}`\n",
        "# 2023-07-13 11:23:58,962 - As `incidenceAngle` select `{'description': 'Maximum allowed incidence angle in degree.', 'minimum': 5, 'maximum': 50, 'type': 'integer'}`\n",
        "# 2023-07-13 11:23:58,962 - As `geometricProcessing` select one of ['ortho']\n",
        "# 2023-07-13 11:23:58,962 - As `spectralProcessing` select one of ['bundle']\n",
        "# 2023-07-13 11:23:58,962 - As `pixelCoding` select one of ['12bits']\n",
        "# 2023-07-13 11:23:58,962 - As `radiometricProcessing` select one of ['reflectance']\n",
        "# 2023-07-13 11:23:58,962 - As `deliveredAs` select one of ['geotiff']"
      ]
    },
    {
      "cell_type": "code",
      "execution_count": null,
      "metadata": {
        "id": "_VWxgoOhpiXC"
      },
      "outputs": [],
      "source": [
        "# Update the request by adding the requested parameters, for example:\n",
        "order_parameters[\"params\"].update({\n",
        "    \"acquisitionMode\": \"mono\",\n",
        "    \"cloudCoverage\": 10,\n",
        "    \"incidenceAngle\": 10,\n",
        "    \"geometricProcessing\": \"ortho\",\n",
        "    \"spectralProcessing\": \"bundle\",\n",
        "    \"pixelCoding\": \"12bits\",\n",
        "    \"radiometricProcessing\": \"reflectance\",\n",
        "    \"deliveredAs\": \"geotiff\",\n",
        "    \"projection\": \"4326\"\n",
        "})"
      ]
    },
    {
      "cell_type": "code",
      "execution_count": null,
      "metadata": {
        "id": "nz2EPaLipiXC"
      },
      "outputs": [],
      "source": [
        "# Finally, let's place the order\n",
        "order = tasking.place_order(order_parameters)"
      ]
    },
    {
      "cell_type": "code",
      "execution_count": null,
      "metadata": {
        "id": "YrP95uw4piXD"
      },
      "outputs": [],
      "source": [
        "# One the order is placed, you will get a response like\n",
        "# 2023-07-13 13:22:10,677 - Order is PLACED\n",
        "# 2023-07-13 13:22:10,677 - Order your-order-id is now PLACED."
      ]
    },
    {
      "cell_type": "code",
      "execution_count": null,
      "metadata": {
        "id": "6SInYbAvpiXD"
      },
      "outputs": [],
      "source": [
        "# After an order is placed, the Operations team will look at the order feasibility. They will evaluate the tasking parameters with the provider, and then will present the following assessments:\n",
        "\n",
        "# The order is possible with the given parameters.\n",
        "# The order requires modifications with suitable options proposed.\n",
        "# You will receive an email notifying you when your order feasibility has been assessed.\n",
        "\n",
        "# Using your order ID, review the proposed feasibility options as follows:\n",
        "feasibilities = tasking.get_feasibility(order_id=\"your-order-id\")\n"
      ]
    },
    {
      "cell_type": "code",
      "execution_count": null,
      "metadata": {
        "id": "Ff9eOIfopiXD"
      },
      "outputs": [],
      "source": [
        "# This will return a list of all possible feasibility studies. For example:\n",
        "\"\"\"\n",
        "{\n",
        "            \"id\": \"some-unique-id\",\n",
        "            \"createdAt\": \"2023-05-09T10:20:10.520992Z\",\n",
        "            \"updatedAt\": \"2023-05-09T10:20:10.520992Z\",\n",
        "            \"accountId\": \"account-id\",\n",
        "            \"workspaceId\": \"workspace-id\",\n",
        "            \"orderId\": \"order-id\",\n",
        "            \"type\": \"MANUAL\",\n",
        "            \"options\": [\n",
        "                {\n",
        "                    \"id\": \"some-unnique-id\",\n",
        "                    \"createdAt\": \"2023-05-09T10:20:11.203893Z\",\n",
        "                    \"updatedAt\": \"2023-05-09T10:20:11.203893Z\",\n",
        "                    \"studyId\": \"c1cc719f-e429-4bfa-adc3-c4922489adfe\",\n",
        "                    \"description\": \"test feasibility\"\n",
        "                }\n",
        "            ],\n",
        "            \"decision\": \"NOT_DECIDED\",\n",
        "            \"decisionById\": null,\n",
        "            \"decisionByType\": null,\n",
        "            \"decisionAt\": null,\n",
        "            \"decisionOption\": null\n",
        "}\n",
        "\"\"\""
      ]
    },
    {
      "cell_type": "code",
      "execution_count": null,
      "metadata": {
        "id": "to4isMMEpiXD"
      },
      "outputs": [],
      "source": [
        "# Let's select one of the options:\n",
        "tasking.choose_feasibility(\n",
        "    feasibility_id=\"feasibility-id\",\n",
        "    accepted_option_id=\"accepted-option-id\"\n",
        ")"
      ]
    },
    {
      "cell_type": "code",
      "execution_count": null,
      "metadata": {
        "id": "meKF28xRpiXD"
      },
      "outputs": [],
      "source": [
        "# After selecting a feasibility option, you will receive a price quote for your order. Using your order ID, review the received quotation as follows:\n",
        "tasking.decide_quotation(\n",
        "    quotation_id=\"quotation-id\",\n",
        "    decision=\"ACCEPTED\"\n",
        ")"
      ]
    },
    {
      "cell_type": "code",
      "execution_count": null,
      "metadata": {
        "id": "hWuFSYmjpiXD"
      },
      "outputs": [],
      "source": [
        "# You can check the status of your order by\n",
        "order.status"
      ]
    }
  ],
  "metadata": {
    "colab": {
      "provenance": []
    },
    "kernelspec": {
      "display_name": "Python 3",
      "name": "python3"
    },
    "language_info": {
      "name": "python"
    },
    "orig_nbformat": 4
  },
  "nbformat": 4,
  "nbformat_minor": 0
}
