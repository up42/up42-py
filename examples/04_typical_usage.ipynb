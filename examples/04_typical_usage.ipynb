{
 "cells": [
  {
   "cell_type": "markdown",
   "metadata": {},
   "source": [
    "# Typical Usage\n",
    "\n",
    "This overview of the most important functions repeats the previous 30-seconds-example, but in more detail and shows additional functionality and alternative steps."
   ]
  },
  {
   "cell_type": "code",
   "execution_count": 3,
   "metadata": {},
   "outputs": [
    {
     "name": "stdout",
     "output_type": "stream",
     "text": [
      "The autoreload extension is already loaded. To reload it, use:\n",
      "  %reload_ext autoreload\n"
     ]
    }
   ],
   "source": [
    "%load_ext autoreload\n",
    "%autoreload 2\n",
    "\n",
    "import up42"
   ]
  },
  {
   "cell_type": "markdown",
   "metadata": {},
   "source": [
    "## Authentificate & access project"
   ]
  },
  {
   "cell_type": "code",
   "execution_count": 4,
   "metadata": {},
   "outputs": [
    {
     "name": "stderr",
     "output_type": "stream",
     "text": [
      "2020-04-06 17:13:57,030 - up42.auth - INFO - Got credentials from config file.\n",
      "2020-04-06 17:13:57,288 - up42.auth - INFO - Authentication with UP42 successful!\n",
      "2020-04-06 17:13:57,288 - up42 - INFO - Working on Project with project_id 8956d18d-33bc-47cb-93bd-0055ff21da8f\n"
     ]
    }
   ],
   "source": [
    "up42.authenticate(cfg_file=\"config.json\")\n",
    "# up42.authenticate(project_id=xxx, project_api_key=xxxx)\n",
    "\n",
    "project = up42.initialize_project()"
   ]
  },
  {
   "cell_type": "markdown",
   "metadata": {},
   "source": [
    "Get information about the available blocks to later construct your workflow."
   ]
  },
  {
   "cell_type": "code",
   "execution_count": 5,
   "metadata": {},
   "outputs": [
    {
     "name": "stderr",
     "output_type": "stream",
     "text": [
      "2020-04-06 17:13:59,201 - up42.tools - INFO - Getting blocks name and id, use basic=False for all block details.\n"
     ]
    },
    {
     "data": {
      "text/plain": [
       "{'tiling': 'd350aa0b-ac31-4021-bbe6-fd8da366740a',\n",
       " 'oneatlas-spot-aoiclipped': '0f15e07f-efcc-4598-939b-18aade349c57',\n",
       " 'oneatlas-pleiades-aoiclipped': 'f026874d-e95e-4293-b811-7667130e054d',\n",
       " 'sobloo-s1-grd-fullscene': '4524e2de-c780-488d-9818-fe68dad9f095',\n",
       " 'sobloo-s2-l1c-fullscene': '604988cb-8252-4161-bf28-f6fb63d7371c',\n",
       " 'snap-polarimetric': '320158d6-8f93-4484-a828-e1fb64f677ff',\n",
       " 'sentinelhub-s2-aoiclipped': 'c4758545-4b74-4318-ae1f-d5ba72f234ca',\n",
       " 'sentinelhub-landsat8-aoiclipped': 'e0b133ae-7b9c-435c-99ac-c4527cc8d9cf',\n",
       " 'sobloo-s1-slc-fullscene': 'cf822545-c73c-467b-8f43-5311dbefe03f',\n",
       " 'nasa-modis': '61279eb8-02e1-4b7a-ac3d-1f62d19d3484',\n",
       " 's2-superresolution': '4872fef8-aec8-4dec-adcb-560ee4430a2b',\n",
       " 'oneatlas-pleiades-fullscene': '8487adcd-a4d7-4cb7-b826-75a533e1f330',\n",
       " 'oneatlas-spot-fullscene': 'aa62113f-0dd1-40a3-a004-954c9d087071',\n",
       " 'data-conversion': '470eedda-5f62-433c-8562-98eb8783af87',\n",
       " 'pansharpen': '2f24c662-c129-409f-a7c3-afa16a4c78cb',\n",
       " 'sobloo-s1-grd-aoiclipped': 'a956166f-c0ed-4670-8a43-87bed8d222f3',\n",
       " 'ndvi': 'aecb81ef-1c92-4b2e-aa25-55ccebe2f90a',\n",
       " 'sobloo-s2-l1c-aoiclipped': 'a2daaab4-196d-4226-a018-a810444dcad1',\n",
       " 'sobloo-s3': 'fee13ec1-a067-4d6a-95dc-a4fef458f4f4',\n",
       " 'sobloo-s5p': 'cba7c59b-548d-48bf-8920-c20d7d316dfd',\n",
       " 'kmeans-clustering': 'adf21e0a-98bf-41a9-a2cc-a59898a461ba',\n",
       " 'vectorising': '295bf286-0748-474f-aa38-c1ac35151204',\n",
       " 'crs-conversion': '18e6772f-cf33-4955-b7e4-61df8a108fd9',\n",
       " 'sharpening': '4ed70368-d4e1-4462-bef6-14e768049471',\n",
       " 'zonal-statistics': 'a5b8b938-6fd6-4bac-92cd-dffd7f3169aa',\n",
       " 'superresolution': '6c914299-7203-40ad-9b89-de0b4e827bd0',\n",
       " 's5p-lvl3': '9a593e06-eca0-49e0-8b8c-6fe95f699f9d',\n",
       " 'hexagon-aerial-30cm': '0b04d9f7-3a8e-4467-9fb8-1e8343c9469a',\n",
       " 'hexagon-aerial-15cm': '36fe7d3a-4671-424b-bd54-918dd21cfde1',\n",
       " 'ship-identification': '20a3bd1e-3f27-40cf-9915-8fa3d5024ade',\n",
       " 'ais-hvp': '7394287a-2458-4204-be62-36b6d264bcfe',\n",
       " 'ais-hvt': '67eb1763-abeb-4188-b135-f6a0d669d759',\n",
       " 'meteomatics': 'ed0beedb-111b-4285-aa2d-f876a4c16a32',\n",
       " 'oneatlas-pleiades-primary': 'd1e5e0de-71fa-4488-9c0e-3f22ac74a2b6',\n",
       " 'tiled-k-means': '45c0284a-5cd7-4bc0-9d6c-db05f7271036',\n",
       " 'data-conversion-netcdf': 'c358d5af-7819-4ecf-b8b3-629d5d3ba319',\n",
       " 'data-conversion-dimap': '25f42430-d108-4ea4-a81d-2c2b3fff7d11'}"
      ]
     },
     "execution_count": 5,
     "metadata": {},
     "output_type": "execute_result"
    }
   ],
   "source": [
    "up42.get_blocks(basic=True)"
   ]
  },
  {
   "cell_type": "markdown",
   "metadata": {},
   "source": [
    "## Create or access the workflow\n",
    "You can either create a new workflow, use project.get_workflows() to get all existing workflows within the project, or access an exisiting workflow directly via its workflow_id."
   ]
  },
  {
   "cell_type": "markdown",
   "metadata": {},
   "source": [
    "Example: Sentinel 2 streaming & sharpening filter"
   ]
  },
  {
   "cell_type": "markdown",
   "metadata": {},
   "source": [
    "<p align=\"center\">\n",
    "    <img src=\"_assets/workflow.png\" width=\"400\" align=\"center\">\n",
    "</p>"
   ]
  },
  {
   "cell_type": "code",
   "execution_count": 6,
   "metadata": {},
   "outputs": [
    {
     "name": "stderr",
     "output_type": "stream",
     "text": [
      "2020-04-06 17:14:10,327 - up42.project - INFO - Created new workflow: 4044cc3e-aef1-4aa4-91f4-fc286f98668e.\n"
     ]
    },
    {
     "data": {
      "text/plain": [
       "Workflow(workflow_id=4044cc3e-aef1-4aa4-91f4-fc286f98668e, project_id=8956d18d-33bc-47cb-93bd-0055ff21da8f, auth=UP42ProjectAuth(project_id=8956d18d-33bc-47cb-93bd-0055ff21da8f, env=dev), info={'id': '4044cc3e-aef1-4aa4-91f4-fc286f98668e', 'name': '30-seconds-workflow', 'description': '', 'createdAt': '2020-04-06T15:14:10.306Z', 'updatedAt': '2020-04-06T15:14:10.306Z', 'totalProcessingTime': 0})"
      ]
     },
     "execution_count": 6,
     "metadata": {},
     "output_type": "execute_result"
    }
   ],
   "source": [
    "# Create a new, empty workflow.\n",
    "\n",
    "workflow = project.create_workflow(name=\"30-seconds-workflow\", use_existing=False)\n",
    "workflow"
   ]
  },
  {
   "cell_type": "code",
   "execution_count": 7,
   "metadata": {},
   "outputs": [
    {
     "name": "stderr",
     "output_type": "stream",
     "text": [
      "2020-04-06 17:14:14,031 - up42.workflow - INFO - Added tasks to workflow: [{'name': 'sobloo-s2-l1c-aoiclipped:1', 'parentName': None, 'blockId': 'a2daaab4-196d-4226-a018-a810444dcad1'}, {'name': 'sharpening:1', 'parentName': 'sobloo-s2-l1c-aoiclipped:1', 'blockId': '4ed70368-d4e1-4462-bef6-14e768049471'}]\n"
     ]
    }
   ],
   "source": [
    "# Add workflow tasks - simple version\n",
    "\n",
    "input_tasks= [\"a2daaab4-196d-4226-a018-a810444dcad1\", \"4ed70368-d4e1-4462-bef6-14e768049471\"]\n",
    "workflow.add_workflow_tasks(input_tasks=input_tasks)"
   ]
  },
  {
   "cell_type": "code",
   "execution_count": 8,
   "metadata": {},
   "outputs": [
    {
     "name": "stderr",
     "output_type": "stream",
     "text": [
      "2020-04-06 17:14:17,436 - up42.workflow - INFO - Added tasks to workflow: [{'name': 'sobloo-s2-l1c-aoiclipped:1', 'parentName': None, 'blockId': 'a2daaab4-196d-4226-a018-a810444dcad1'}, {'name': 'sharpening:1', 'parentName': 'sobloo-s2-l1c-aoiclipped:1', 'blockId': '4ed70368-d4e1-4462-bef6-14e768049471'}]\n"
     ]
    }
   ],
   "source": [
    "# Alternative: Add workflow tasks - complex version, gives you more control about the block connections.\n",
    "\n",
    "input_tasks = [\n",
    "    {\n",
    "        \"name\": \"sobloo-s2-l1c-aoiclipped:1\",\n",
    "        \"parentName\": None,\n",
    "        \"blockId\": \"a2daaab4-196d-4226-a018-a810444dcad1\"\n",
    "    },\n",
    "    {\n",
    "        \"name\": \"sharpening:1\",\n",
    "        \"parentName\": \"sobloo-s2-l1c-aoiclipped:1\",\n",
    "        \"blockId\": \"4ed70368-d4e1-4462-bef6-14e768049471\"\n",
    "    }\n",
    "]\n",
    "\n",
    "workflow.add_workflow_tasks(input_tasks=input_tasks)"
   ]
  },
  {
   "cell_type": "code",
   "execution_count": 9,
   "metadata": {},
   "outputs": [
    {
     "name": "stderr",
     "output_type": "stream",
     "text": [
      "2020-04-06 17:14:19,153 - up42.workflow - INFO - Got 2 tasks/blocks in workflow 4044cc3e-aef1-4aa4-91f4-fc286f98668e.\n"
     ]
    },
    {
     "data": {
      "text/plain": [
       "{'sobloo-s2-l1c-aoiclipped:1': 'a40ce877-f63f-40b2-837e-2527626ea100',\n",
       " 'sharpening:1': '3c6dafec-0d74-4fbe-a808-be8cf118a93b'}"
      ]
     },
     "execution_count": 9,
     "metadata": {},
     "output_type": "execute_result"
    }
   ],
   "source": [
    "# Check the added tasks.\n",
    "\n",
    "workflow.get_workflow_tasks(basic=True)"
   ]
  },
  {
   "cell_type": "code",
   "execution_count": 10,
   "metadata": {},
   "outputs": [],
   "source": [
    "#workflow.get_jobs()"
   ]
  },
  {
   "cell_type": "code",
   "execution_count": 11,
   "metadata": {},
   "outputs": [
    {
     "name": "stderr",
     "output_type": "stream",
     "text": [
      "2020-04-06 17:14:25,992 - up42.project - INFO - Got 11 workflows for project 8956d18d-33bc-47cb-93bd-0055ff21da8f.\n",
      "100%|██████████| 11/11 [00:04<00:00,  2.41it/s]\n"
     ]
    },
    {
     "data": {
      "text/plain": [
       "Workflow(workflow_id=7fb2ec8a-45be-41ad-a50f-98ba6b528b98, project_id=8956d18d-33bc-47cb-93bd-0055ff21da8f, auth=UP42ProjectAuth(project_id=8956d18d-33bc-47cb-93bd-0055ff21da8f, env=dev), info={'id': '7fb2ec8a-45be-41ad-a50f-98ba6b528b98', 'name': '30-seconds-workflow', 'description': '', 'createdAt': '2020-03-04T10:12:40.924Z', 'updatedAt': '2020-04-06T15:01:24.795Z', 'totalProcessingTime': 2526})"
      ]
     },
     "execution_count": 11,
     "metadata": {},
     "output_type": "execute_result"
    }
   ],
   "source": [
    "# Alternative: Get all existing workflows within the project.\n",
    "\n",
    "all_workflows = project.get_workflows()\n",
    "workflow = all_workflows[0]\n",
    "workflow"
   ]
  },
  {
   "cell_type": "code",
   "execution_count": 12,
   "metadata": {},
   "outputs": [
    {
     "data": {
      "text/plain": [
       "Workflow(workflow_id=7fb2ec8a-45be-41ad-a50f-98ba6b528b98, project_id=8956d18d-33bc-47cb-93bd-0055ff21da8f, auth=UP42ProjectAuth(project_id=8956d18d-33bc-47cb-93bd-0055ff21da8f, env=dev), info={'id': '7fb2ec8a-45be-41ad-a50f-98ba6b528b98', 'name': '30-seconds-workflow', 'description': '', 'createdAt': '2020-03-04T10:12:40.924Z', 'updatedAt': '2020-04-06T15:01:24.795Z', 'totalProcessingTime': 2526})"
      ]
     },
     "execution_count": 12,
     "metadata": {},
     "output_type": "execute_result"
    }
   ],
   "source": [
    "# Alternative: Directly access the existing workflow the id (has to exist within the accessed project).\n",
    "\n",
    "UP42_WORKFLOW_ID=\"7fb2ec8a-45be-41ad-a50f-98ba6b528b98\"\n",
    "workflow = up42.initialize_workflow(workflow_id=UP42_WORKFLOW_ID)\n",
    "\n",
    "workflow"
   ]
  },
  {
   "cell_type": "markdown",
   "metadata": {},
   "source": [
    "## Select the aoi\n",
    "\n",
    "There are multiple ways to select an aoi, you can:\n",
    "- Provide aoi the geometry directly in code as a FeatureCollection, Feature, GeoDataFrame, shapely Polygon or list of bounds coordinates.\n",
    "- Use .draw_aoi() to draw the aoi and export it as a geojson.\n",
    "- Use .read_vector_file() to read a geojson, json, shapefile, kml or wkt file.\n",
    "- Use .get_example_aoi() to read multiple provided sample aois."
   ]
  },
  {
   "cell_type": "code",
   "execution_count": 13,
   "metadata": {},
   "outputs": [],
   "source": [
    "aoi = [13.375966, 52.515068, 13.378314, 52.516639]"
   ]
  },
  {
   "cell_type": "code",
   "execution_count": 14,
   "metadata": {},
   "outputs": [
    {
     "data": {
      "text/html": [
       "<div>\n",
       "<style scoped>\n",
       "    .dataframe tbody tr th:only-of-type {\n",
       "        vertical-align: middle;\n",
       "    }\n",
       "\n",
       "    .dataframe tbody tr th {\n",
       "        vertical-align: top;\n",
       "    }\n",
       "\n",
       "    .dataframe thead th {\n",
       "        text-align: right;\n",
       "    }\n",
       "</style>\n",
       "<table border=\"1\" class=\"dataframe\">\n",
       "  <thead>\n",
       "    <tr style=\"text-align: right;\">\n",
       "      <th></th>\n",
       "      <th>geometry</th>\n",
       "    </tr>\n",
       "  </thead>\n",
       "  <tbody>\n",
       "    <tr>\n",
       "      <th>0</th>\n",
       "      <td>POLYGON ((13.37597 52.51507, 13.37597 52.51664...</td>\n",
       "    </tr>\n",
       "  </tbody>\n",
       "</table>\n",
       "</div>"
      ],
      "text/plain": [
       "                                            geometry\n",
       "0  POLYGON ((13.37597 52.51507, 13.37597 52.51664..."
      ]
     },
     "execution_count": 14,
     "metadata": {},
     "output_type": "execute_result"
    }
   ],
   "source": [
    "aoi = workflow.read_vector_file(\"data/aoi_berlin.geojson\", as_dataframe=True)\n",
    "aoi.head(1)"
   ]
  },
  {
   "cell_type": "code",
   "execution_count": 15,
   "metadata": {},
   "outputs": [
    {
     "name": "stderr",
     "output_type": "stream",
     "text": [
      "2020-04-06 17:14:38,514 - up42.tools - INFO - Getting small example aoi in Berlin.\n"
     ]
    }
   ],
   "source": [
    "aoi = workflow.get_example_aoi(location=\"Berlin\")\n",
    "#aoi"
   ]
  },
  {
   "cell_type": "code",
   "execution_count": 16,
   "metadata": {},
   "outputs": [],
   "source": [
    "#workflow.draw_aoi()"
   ]
  },
  {
   "cell_type": "markdown",
   "metadata": {},
   "source": [
    "## Select the workflow parameters\n",
    "\n",
    "There are also multiple ways to construct the workflow input parameters, you can:\n",
    "- Provide the parameters directly in code as a json string.\n",
    "- Use .get_parameters_info() to get a an overview of all potential parameters for the selected workflow and information about the parameter defaults and ranges.\n",
    "- Use .get_input_parameters(aoi_type=\"bbox\", aoi_geometry=aoi) to construct the parameters with the provided aoi and all default parameters. Selecting the aoi_type is independent from the provided aoi, you can e.g. provide a irregular Polygon and still select aoi_type=\"bbox\", then the bounding box of the polygon will be selected."
   ]
  },
  {
   "cell_type": "code",
   "execution_count": 17,
   "metadata": {},
   "outputs": [
    {
     "name": "stderr",
     "output_type": "stream",
     "text": [
      "2020-04-06 17:14:44,983 - up42.workflow - INFO - Got 2 tasks/blocks in workflow 7fb2ec8a-45be-41ad-a50f-98ba6b528b98.\n"
     ]
    },
    {
     "data": {
      "text/plain": [
       "{'sobloo-s2-l1c-aoiclipped:1': {'ids': {'type': 'array', 'default': None},\n",
       "  'bbox': {'type': 'array', 'default': None},\n",
       "  'time': {'type': 'dateRange',\n",
       "   'default': '2018-01-01T00:00:00+00:00/2020-12-31T23:59:59+00:00'},\n",
       "  'limit': {'type': 'integer', 'default': 1, 'minimum': 1},\n",
       "  'contains': {'type': 'geometry'},\n",
       "  'intersects': {'type': 'geometry'},\n",
       "  'zoom_level': {'type': 'integer',\n",
       "   'default': 14,\n",
       "   'maximum': 18,\n",
       "   'minimum': 10},\n",
       "  'time_series': {'type': 'array', 'default': None},\n",
       "  'max_cloud_cover': {'type': 'integer',\n",
       "   'default': 100,\n",
       "   'maximum': 100,\n",
       "   'minimum': 0}},\n",
       " 'sharpening:1': {'strength': {'type': 'string', 'default': 'medium'}}}"
      ]
     },
     "execution_count": 17,
     "metadata": {},
     "output_type": "execute_result"
    }
   ],
   "source": [
    "workflow.get_parameters_info()"
   ]
  },
  {
   "cell_type": "code",
   "execution_count": 18,
   "metadata": {},
   "outputs": [],
   "source": [
    "input_parameters = {\n",
    "  \"sobloo-s2-l1c-aoiclipped:1\": {\n",
    "    \"bbox\": [13.375966, 52.515068, 13.378314, 52.516639],\n",
    "    \"ids\": None,\n",
    "    \"time\": \"2018-01-01T00:00:00+00:00/2020-12-31T23:59:59+00:00\",\n",
    "    \"limit\": 1,\n",
    "    \"zoom_level\": 14,\n",
    "    \"time_series\": None,\n",
    "    \"max_cloud_cover\": 30\n",
    "  },\n",
    "  \"sharpening:1\": {\n",
    "    \"strength\": \"medium\"\n",
    "  }\n",
    "}"
   ]
  },
  {
   "cell_type": "code",
   "execution_count": 19,
   "metadata": {},
   "outputs": [
    {
     "data": {
      "text/plain": [
       "{'sobloo-s2-l1c-aoiclipped:1': {'time': '2018-01-01T00:00:00+00:00/2020-12-31T23:59:59+00:00',\n",
       "  'limit': 1,\n",
       "  'zoom_level': 14,\n",
       "  'max_cloud_cover': 100,\n",
       "  'bbox': [13.375966, 52.515068, 13.378314, 52.516639]},\n",
       " 'sharpening:1': {'strength': 'medium'}}"
      ]
     },
     "execution_count": 19,
     "metadata": {},
     "output_type": "execute_result"
    }
   ],
   "source": [
    "input_parameters = workflow.construct_parameters(geometry=aoi, geometry_operation=\"bbox\", limit=1)\n",
    "input_parameters"
   ]
  },
  {
   "cell_type": "code",
   "execution_count": 20,
   "metadata": {},
   "outputs": [
    {
     "data": {
      "text/plain": [
       "{'sobloo-s2-l1c-aoiclipped:1': {'time': '2018-01-01T00:00:00+00:00/2020-12-31T23:59:59+00:00',\n",
       "  'limit': 1,\n",
       "  'zoom_level': 14,\n",
       "  'max_cloud_cover': 60,\n",
       "  'bbox': [13.375966, 52.515068, 13.378314, 52.516639]},\n",
       " 'sharpening:1': {'strength': 'medium'}}"
      ]
     },
     "execution_count": 20,
     "metadata": {},
     "output_type": "execute_result"
    }
   ],
   "source": [
    "# Further update the input_parameters manually\n",
    "input_parameters[\"sobloo-s2-l1c-aoiclipped:1\"].update({\"max_cloud_cover\":60})\n",
    "input_parameters"
   ]
  },
  {
   "cell_type": "markdown",
   "metadata": {},
   "source": [
    "## Run the workflow & download results"
   ]
  },
  {
   "cell_type": "code",
   "execution_count": 21,
   "metadata": {},
   "outputs": [
    {
     "name": "stderr",
     "output_type": "stream",
     "text": [
      "2020-04-06 17:14:57,036 - up42.workflow - INFO - Selected input_parameters: {'sobloo-s2-l1c-aoiclipped:1': {'time': '2018-01-01T00:00:00+00:00/2020-12-31T23:59:59+00:00', 'limit': 1, 'zoom_level': 14, 'max_cloud_cover': 60, 'bbox': [13.375966, 52.515068, 13.378314, 52.516639]}, 'sharpening:1': {'strength': 'medium'}}.\n",
      "2020-04-06 17:14:58,307 - up42.workflow - INFO - Created and running new job: ce5733c7-8a37-4374-8c67-0c9324fb8bf1.\n",
      "2020-04-06 17:14:58,733 - up42.job - INFO - Tracking job status continuously, reporting every 30 seconds...\n",
      "2020-04-06 17:15:26,288 - up42.job - INFO - Job finished successfully! - ce5733c7-8a37-4374-8c67-0c9324fb8bf1\n"
     ]
    }
   ],
   "source": [
    "# Run the workflow with the specified parameters.\n",
    "\n",
    "job = workflow.create_and_run_job(input_parameters=input_parameters, track_status=True)"
   ]
  },
  {
   "cell_type": "markdown",
   "metadata": {},
   "source": [
    "<p align=\"center\">\n",
    "    <img src=\"_assets/job_running.png\" width=\"700\">\n",
    "</p>"
   ]
  },
  {
   "cell_type": "markdown",
   "metadata": {},
   "source": [
    "## Download & Display results"
   ]
  },
  {
   "cell_type": "code",
   "execution_count": 22,
   "metadata": {},
   "outputs": [
    {
     "name": "stderr",
     "output_type": "stream",
     "text": [
      "2020-04-06 17:15:31,326 - up42.job - INFO - Downloading results of job ce5733c7-8a37-4374-8c67-0c9324fb8bf1\n",
      "2020-04-06 17:15:31,327 - up42.job - INFO - Download directory: /Users/christoph.rieke/repos/up42-py/examples/project_8956d18d-33bc-47cb-93bd-0055ff21da8f/job_ce5733c7-8a37-4374-8c67-0c9324fb8bf1\n",
      "100%|██████████| 1/1 [00:00<00:00,  1.18it/s]\n",
      "2020-04-06 17:15:33,018 - up42.utils - INFO - Download successful of 1 files ['/Users/christoph.rieke/repos/up42-py/examples/project_8956d18d-33bc-47cb-93bd-0055ff21da8f/job_ce5733c7-8a37-4374-8c67-0c9324fb8bf1/result_4040a857-6399-4d09-a1c3-720a528b45e1.tif']\n"
     ]
    }
   ],
   "source": [
    "# Download job result (default downloads to Desktop). Only works after download is finished.\n",
    "results_fp = job.download_results()"
   ]
  },
  {
   "cell_type": "code",
   "execution_count": null,
   "metadata": {},
   "outputs": [],
   "source": [
    "job.plot_results()"
   ]
  },
  {
   "cell_type": "code",
   "execution_count": null,
   "metadata": {},
   "outputs": [],
   "source": [
    "job.map_results()"
   ]
  },
  {
   "cell_type": "code",
   "execution_count": null,
   "metadata": {},
   "outputs": [],
   "source": []
  }
 ],
 "metadata": {
  "kernelspec": {
   "display_name": "up42-py",
   "language": "python",
   "name": "up42-py"
  },
  "language_info": {
   "codemirror_mode": {
    "name": "ipython",
    "version": 3
   },
   "file_extension": ".py",
   "mimetype": "text/x-python",
   "name": "python",
   "nbconvert_exporter": "python",
   "pygments_lexer": "ipython3",
   "version": "3.7.4"
  }
 },
 "nbformat": 4,
 "nbformat_minor": 4
}
