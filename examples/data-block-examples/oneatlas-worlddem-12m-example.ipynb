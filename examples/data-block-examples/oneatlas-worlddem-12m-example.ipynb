{
 "cells": [
  {
   "cell_type": "markdown",
   "id": "eastern-relay",
   "metadata": {},
   "source": [
    "# OneAtlas WorldDEM Full Resolution Block - Data Access Example"
   ]
  },
  {
   "cell_type": "markdown",
   "id": "favorite-tractor",
   "metadata": {},
   "source": [
    "WorldDEM™ Streaming Service is a Digital Surface Model (DSM) with unprecedented quality, accuracy and coverage. The resolution of the data is 12 meters and it is in GeoTIFF format to represent the surface of the Earth including buildings, infrastructure and vegetation."
   ]
  },
  {
   "cell_type": "markdown",
   "id": "attached-effects",
   "metadata": {},
   "source": [
    "For more information, refer to [UP42 Documentation](https://docs.up42.com/up42-blocks/data/oneatlas-worlddem-12m.html) and [UP42 Marketplace](https://marketplace.up42.com/block/1cdf4786-f524-41d5-9d88-b877c2a2bb4f)."
   ]
  },
  {
   "cell_type": "code",
   "execution_count": 1,
   "id": "speaking-failure",
   "metadata": {},
   "outputs": [],
   "source": [
    "# import up42 SDK lib\n",
    "import up42"
   ]
  },
  {
   "cell_type": "code",
   "execution_count": 2,
   "id": "amazing-background",
   "metadata": {},
   "outputs": [
    {
     "name": "stderr",
     "output_type": "stream",
     "text": [
      "2021-03-11 11:18:03,620 - Authentication with UP42 successful!\n",
      "2021-03-11 11:18:04,414 - Initialized Project(name: datablock marathon, project_id: 76f9c5f3-8f3a-4add-986b-149da06d2983, description: , createdAt: 2021-03-11T09:25:48.206469Z)\n"
     ]
    }
   ],
   "source": [
    "# authenticate and intialize the project\n",
    "up42.authenticate(project_id=\"1234\", project_api_key=\"abcd\")\n",
    "project = up42.initialize_project()"
   ]
  },
  {
   "cell_type": "code",
   "execution_count": 3,
   "id": "danish-national",
   "metadata": {},
   "outputs": [
    {
     "name": "stderr",
     "output_type": "stream",
     "text": [
      "2021-03-11 11:18:04,419 - Getting existing workflows in project ...\n",
      "2021-03-11 11:18:04,816 - Got 2 workflows for project 76f9c5f3-8f3a-4add-986b-149da06d2983.\n",
      "100%|██████████| 2/2 [00:00<00:00,  2.47it/s]\n",
      "2021-03-11 11:18:05,634 - Using existing workflow: worlddem12-data-access - 74eb64ad-8b83-4b29-b0ea-7968ec7a0deb\n"
     ]
    }
   ],
   "source": [
    "# Construct workflow\n",
    "workflow = project.create_workflow(name=\"worlddem12-data-access\", use_existing=True)"
   ]
  },
  {
   "cell_type": "code",
   "execution_count": 4,
   "id": "julian-athletics",
   "metadata": {},
   "outputs": [
    {
     "name": "stderr",
     "output_type": "stream",
     "text": [
      "2021-03-11 11:18:08,830 - Added tasks to workflow: [{'name': 'oneatlas-worlddem-12m:1', 'parentName': None, 'blockId': '1cdf4786-f524-41d5-9d88-b877c2a2bb4f'}]\n"
     ]
    }
   ],
   "source": [
    "# construct parameters\n",
    "input_tasks = [\"oneatlas-worlddem-12m\"]\n",
    "workflow.add_workflow_tasks(input_tasks)"
   ]
  },
  {
   "cell_type": "code",
   "execution_count": 5,
   "id": "bizarre-apple",
   "metadata": {},
   "outputs": [],
   "source": [
    "# set aoi\n",
    "aoi = {\n",
    "  \"type\": \"FeatureCollection\",\n",
    "  \"features\": [\n",
    "    {\n",
    "      \"type\": \"Feature\",\n",
    "      \"properties\": {},\n",
    "      \"geometry\": {\n",
    "        \"type\": \"Polygon\",\n",
    "        \"coordinates\": [\n",
    "          [\n",
    "            [\n",
    "              13.368789,\n",
    "              52.495375\n",
    "            ],\n",
    "            [\n",
    "              13.383853,\n",
    "              52.495375\n",
    "            ],\n",
    "            [\n",
    "              13.383853,\n",
    "              52.502715\n",
    "            ],\n",
    "            [\n",
    "              13.368789,\n",
    "              52.502715\n",
    "            ],\n",
    "            [\n",
    "              13.368789,\n",
    "              52.495375\n",
    "            ]\n",
    "          ]\n",
    "        ]\n",
    "      }\n",
    "    }\n",
    "  ]\n",
    "}"
   ]
  },
  {
   "cell_type": "code",
   "execution_count": 6,
   "id": "offshore-burst",
   "metadata": {},
   "outputs": [],
   "source": [
    "# Define the aoi and input parameters of the workflow to run it.\n",
    "input_parameters = workflow.construct_parameters(geometry=aoi, \n",
    "                                                 geometry_operation=\"bbox\")"
   ]
  },
  {
   "cell_type": "code",
   "execution_count": 7,
   "id": "authentic-sound",
   "metadata": {},
   "outputs": [
    {
     "name": "stderr",
     "output_type": "stream",
     "text": [
      "2021-03-11 11:18:14,322 - Estimated: 416-416 Credits, Duration: 0-0 min.\n"
     ]
    },
    {
     "data": {
      "text/plain": [
       "{'oneatlas-worlddem-12m:1': {'blockConsumption': {'resources': {'unit': 'SQUARE_KM',\n",
       "    'min': 0.83,\n",
       "    'max': 0.83},\n",
       "   'credit': {'min': 415, 'max': 415}},\n",
       "  'machineConsumption': {'duration': {'min': 0, 'max': 0},\n",
       "   'credit': {'min': 1, 'max': 1}}}}"
      ]
     },
     "execution_count": 7,
     "metadata": {},
     "output_type": "execute_result"
    }
   ],
   "source": [
    "# Price estimation\n",
    "workflow.estimate_job(input_parameters)"
   ]
  },
  {
   "cell_type": "code",
   "execution_count": 8,
   "id": "latter-tuesday",
   "metadata": {},
   "outputs": [
    {
     "name": "stderr",
     "output_type": "stream",
     "text": [
      "2021-03-11 11:18:14,330 - +++++++++++++++++++++++++++++++++\n",
      "2021-03-11 11:18:14,331 - Running this job as Test Query...\n",
      "2021-03-11 11:18:14,331 - +++++++++++++++++++++++++++++++++\n",
      "2021-03-11 11:18:14,332 - Selected input_parameters: {'oneatlas-worlddem-12m:1': {'bbox': [13.368789, 52.495375, 13.383853, 52.502715]}, 'config': {'mode': 'DRY_RUN'}}\n",
      "2021-03-11 11:18:15,760 - Created and running new job: 6801e1b2-b294-4e33-a8bf-113e710133a8.\n",
      "2021-03-11 11:18:16,175 - Tracking job status continuously, reporting every 30 seconds...\n",
      "2021-03-11 11:18:43,778 - Job finished successfully! - 6801e1b2-b294-4e33-a8bf-113e710133a8\n"
     ]
    }
   ],
   "source": [
    "# Run a test job to query data availability and check the configuration.\n",
    "test_job = workflow.test_job(input_parameters, track_status=True)"
   ]
  },
  {
   "cell_type": "code",
   "execution_count": 9,
   "id": "junior-presence",
   "metadata": {},
   "outputs": [
    {
     "name": "stderr",
     "output_type": "stream",
     "text": [
      "2021-03-11 11:18:48,791 - Selected input_parameters: {'oneatlas-worlddem-12m:1': {'bbox': [13.368789, 52.495375, 13.383853, 52.502715]}}\n",
      "2021-03-11 11:18:55,466 - Created and running new job: fd37caa3-b76c-438f-b57d-0bfea12cb567.\n",
      "2021-03-11 11:19:00,710 - Tracking job status continuously, reporting every 30 seconds...\n",
      "2021-03-11 11:19:17,329 - Job finished successfully! - fd37caa3-b76c-438f-b57d-0bfea12cb567\n"
     ]
    }
   ],
   "source": [
    "# Run the actual job.\n",
    "job = workflow.run_job(input_parameters, track_status=True)"
   ]
  },
  {
   "cell_type": "code",
   "execution_count": 10,
   "id": "official-miniature",
   "metadata": {},
   "outputs": [
    {
     "name": "stderr",
     "output_type": "stream",
     "text": [
      "2021-03-11 11:19:22,340 - Downloading results of job fd37caa3-b76c-438f-b57d-0bfea12cb567\n",
      "2021-03-11 11:19:22,341 - Download directory: results\n",
      "31it [00:00, 46486.74it/s]\n",
      "2021-03-11 11:19:23,191 - Download successful of 3 files to output_directory 'results': ['ab9edcc3-1f0c-4c80-b83f-2ec01834d79f.tif', 'usage.json', 'data.json']\n"
     ]
    },
    {
     "data": {
      "text/plain": [
       "['results/44543eb9-ab92-456c-b5b2-e711dbff5848/ab9edcc3-1f0c-4c80-b83f-2ec01834d79f.tif',\n",
       " 'results/usage.json',\n",
       " 'results/data.json']"
      ]
     },
     "execution_count": 10,
     "metadata": {},
     "output_type": "execute_result"
    }
   ],
   "source": [
    "job.download_results(\"results\")"
   ]
  },
  {
   "cell_type": "code",
   "execution_count": null,
   "id": "stunning-regulation",
   "metadata": {},
   "outputs": [],
   "source": []
  }
 ],
 "metadata": {
  "kernelspec": {
   "display_name": "up42-py-dev",
   "language": "python",
   "name": "up42-py-dev"
  },
  "language_info": {
   "codemirror_mode": {
    "name": "ipython",
    "version": 3
   },
   "file_extension": ".py",
   "mimetype": "text/x-python",
   "name": "python",
   "nbconvert_exporter": "python",
   "pygments_lexer": "ipython3",
   "version": "3.7.6"
  }
 },
 "nbformat": 4,
 "nbformat_minor": 5
}
