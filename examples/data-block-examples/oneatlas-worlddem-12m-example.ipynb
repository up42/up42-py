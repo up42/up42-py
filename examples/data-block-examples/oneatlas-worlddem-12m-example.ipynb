{
 "cells": [
  {
   "cell_type": "markdown",
   "id": "numerical-beads",
   "metadata": {},
   "source": [
    "# OneAtlas WorldDEM Full Resolution Block - Data Access Example"
   ]
  },
  {
   "cell_type": "markdown",
   "metadata": {},
   "source": [
    "WorldDEM™ Streaming Service is a Digital Surface Model (DSM) with unprecedented quality, accuracy and coverage. The resolution of the data is 12 meters and it is in GeoTIFF format to represent the surface of the Earth including buildings, infrastructure and vegetation.\n",
    "\n",
    "In the example, the workflow, the area of interest and the workflow parameters are defined. After running the job, the results are downloaded and visualized. For more information, refer to the block's [UP42 Marketplace page](https://marketplace.up42.com/block/1cdf4786-f524-41d5-9d88-b877c2a2bb4f) and [Documentation](https://docs.up42.com/up42-blocks/data/oneatlas-worlddem-12m.html)."
   ]
  },
  {
   "cell_type": "code",
   "execution_count": 1,
   "metadata": {},
   "outputs": [],
   "source": [
    "import up42"
   ]
  },
  {
   "cell_type": "code",
   "execution_count": 2,
   "metadata": {},
   "outputs": [
    {
     "name": "stderr",
     "output_type": "stream",
     "text": [
      "2021-03-11 14:34:46,295 - Authentication with UP42 successful!\n",
      "2021-03-11 14:34:47,159 - Initialized Project(name: datablock marathon, project_id: 76f9c5f3-8f3a-4add-986b-149da06d2983, description: , createdAt: 2021-03-11T09:25:48.206469Z)\n"
     ]
    }
   ],
   "source": [
    "# authenticate and intialize the project\n",
    "up42.authenticate(project_id=\"1234\", project_api_key=\"abcd\")\n",
    "project = up42.initialize_project()"
   ]
  },
  {
   "cell_type": "code",
   "execution_count": 3,
   "id": "israeli-kingdom",
   "metadata": {},
   "outputs": [
    {
     "name": "stderr",
     "output_type": "stream",
     "text": [
      "2021-03-11 14:34:54,355 - Getting existing workflows in project ...\n",
      "2021-03-11 14:34:54,764 - Got 4 workflows for project 76f9c5f3-8f3a-4add-986b-149da06d2983.\n",
      "100%|██████████| 4/4 [00:01<00:00,  2.52it/s]\n",
      "2021-03-11 14:34:56,361 - Using existing workflow: worlddem12-data-access - 74eb64ad-8b83-4b29-b0ea-7968ec7a0deb\n"
     ]
    }
   ],
   "source": [
    "# Construct workflow\n",
    "workflow = project.create_workflow(name=\"worlddem12-data-access\", use_existing=True)"
   ]
  },
  {
   "cell_type": "code",
   "execution_count": 4,
   "id": "juvenile-dragon",
   "metadata": {},
   "outputs": [
    {
     "name": "stderr",
     "output_type": "stream",
     "text": [
      "2021-03-11 14:35:02,196 - Added tasks to workflow: [{'name': 'oneatlas-worlddem-12m:1', 'parentName': None, 'blockId': '1cdf4786-f524-41d5-9d88-b877c2a2bb4f'}]\n"
     ]
    }
   ],
   "source": [
    "# construct parameters\n",
    "input_tasks = [\"oneatlas-worlddem-12m\"]\n",
    "workflow.add_workflow_tasks(input_tasks)"
   ]
  },
  {
   "cell_type": "code",
   "execution_count": 5,
   "metadata": {},
   "outputs": [],
   "source": [
    "# set aoi\n",
    "aoi = {\"type\": \"FeatureCollection\",\"features\": [{\"type\": \"Feature\",\"properties\": {},\n",
    "      \"geometry\": {\"type\": \"Polygon\",\"coordinates\": [[[13.368789,52.495375],\n",
    "                                                      [13.383853,52.495375],\n",
    "                                                      [13.383853,52.502715],\n",
    "                                                      [13.368789,52.502715],\n",
    "                                                      [13.368789,52.495375]]]}}]}"
   ]
  },
  {
   "cell_type": "code",
   "execution_count": 6,
   "metadata": {},
   "outputs": [],
   "source": [
    "# Define the aoi and input parameters of the workflow to run it.\n",
    "input_parameters = workflow.construct_parameters(geometry=aoi, \n",
    "                                                 geometry_operation=\"bbox\")"
   ]
  },
  {
   "cell_type": "code",
   "execution_count": 7,
   "id": "hundred-orlando",
   "metadata": {},
   "outputs": [
    {
     "name": "stderr",
     "output_type": "stream",
     "text": [
      "2021-03-11 14:35:10,909 - Estimated: 416-416 Credits, Duration: 0-0 min.\n"
     ]
    },
    {
     "data": {
      "text/plain": [
       "{'oneatlas-worlddem-12m:1': {'blockConsumption': {'resources': {'unit': 'SQUARE_KM',\n",
       "    'min': 0.83,\n",
       "    'max': 0.83},\n",
       "   'credit': {'min': 415, 'max': 415}},\n",
       "  'machineConsumption': {'duration': {'min': 0, 'max': 0},\n",
       "   'credit': {'min': 1, 'max': 1}}}}"
      ]
     },
     "execution_count": 7,
     "metadata": {},
     "output_type": "execute_result"
    }
   ],
   "source": [
    "# Price estimation\n",
    "workflow.estimate_job(input_parameters)"
   ]
  },
  {
   "cell_type": "code",
   "execution_count": 8,
   "id": "hybrid-newark",
   "metadata": {},
   "outputs": [
    {
     "name": "stderr",
     "output_type": "stream",
     "text": [
      "2021-03-11 14:35:10,919 - +++++++++++++++++++++++++++++++++\n",
      "2021-03-11 14:35:10,920 - Running this job as Test Query...\n",
      "2021-03-11 14:35:10,921 - +++++++++++++++++++++++++++++++++\n",
      "2021-03-11 14:35:10,922 - Selected input_parameters: {'oneatlas-worlddem-12m:1': {'bbox': [13.368789, 52.495375, 13.383853, 52.502715]}, 'config': {'mode': 'DRY_RUN'}}\n",
      "2021-03-11 14:35:12,345 - Created and running new job: ac372a5f-cdef-40d1-ab97-ebb477789b8e.\n",
      "2021-03-11 14:35:12,891 - Tracking job status continuously, reporting every 30 seconds...\n",
      "2021-03-11 14:35:29,641 - Job finished successfully! - ac372a5f-cdef-40d1-ab97-ebb477789b8e\n"
     ]
    }
   ],
   "source": [
    "# Run a test job to query data availability and check the configuration.\n",
    "test_job = workflow.test_job(input_parameters, track_status=True)"
   ]
  },
  {
   "cell_type": "code",
   "execution_count": 9,
   "id": "chronic-times",
   "metadata": {},
   "outputs": [
    {
     "name": "stderr",
     "output_type": "stream",
     "text": [
      "2021-03-11 14:35:34,649 - Selected input_parameters: {'oneatlas-worlddem-12m:1': {'bbox': [13.368789, 52.495375, 13.383853, 52.502715]}}\n",
      "2021-03-11 14:35:38,253 - Created and running new job: 387385a4-0d9a-43a6-8b50-77aaf7946b6e.\n",
      "2021-03-11 14:35:38,795 - Tracking job status continuously, reporting every 30 seconds...\n",
      "2021-03-11 14:36:01,031 - Job finished successfully! - 387385a4-0d9a-43a6-8b50-77aaf7946b6e\n"
     ]
    }
   ],
   "source": [
    "# Run the actual job.\n",
    "job = workflow.run_job(input_parameters, track_status=True)"
   ]
  },
  {
   "cell_type": "code",
   "execution_count": null,
   "metadata": {},
   "outputs": [],
   "source": [
    "job.download_results()"
   ]
  },
  {
   "cell_type": "code",
   "execution_count": 13,
   "metadata": {},
   "outputs": [
    {
     "data": {
      "image/png": "[encoded data removed]",
      "text/plain": [
       "<Figure size 1008x576 with 1 Axes>"
      ]
     },
     "metadata": {
      "needs_background": "light"
     },
     "output_type": "display_data"
    }
   ],
   "source": [
    "job.plot_results(bands=[1])"
   ]
  },
  {
   "cell_type": "code",
   "execution_count": null,
   "id": "numeric-homeless",
   "metadata": {},
   "outputs": [],
   "source": []
  }
 ],
 "metadata": {
  "kernelspec": {
   "display_name": "up42-py-dev",
   "language": "python",
   "name": "up42-py-dev"
  },
  "language_info": {
   "codemirror_mode": {
    "name": "ipython",
    "version": 3
   },
   "file_extension": ".py",
   "mimetype": "text/x-python",
   "name": "python",
   "nbconvert_exporter": "python",
   "pygments_lexer": "ipython3",
   "version": "3.7.6"
  }
 },
 "nbformat": 4,
 "nbformat_minor": 5
}
