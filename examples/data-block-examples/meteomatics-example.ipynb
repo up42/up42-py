{
 "cells": [
  {
   "cell_type": "markdown",
   "id": "variable-jaguar",
   "metadata": {},
   "source": [
    "## Meteomatics Weather / Ocean Data and Forecasts\n",
    "This block provides access to a REST-style API to retrieve historic, current, and forecast data globally.\n",
    "\n",
    "Meteomatics provides high quality weather data in a spatial resolution up to 90m. All data are available worldwide and they are based on the best numerical models, enhanced by downscaling methods and station calibration methodology. All model data and observational data are available as time series in NetCDF format. Here we use the [NetCDF -> GeoTIFF Conversion](https://marketplace.up42.com/block/e826be64-827b-4df9-b32d-56c528b8050d) to convert the output to GeoTIFF.\n",
    "\n",
    "In the example, the workflow, the area of interest and the workflow parameters are defined. After running the job, the results are downloaded and visualized. For more information, refer to the block's [UP42 Marketplace page](https://marketplace.up42.com/block/235addd2-3efe-424b-8c35-d9b41dfe0eb5) and [Documentation](https://docs.up42.com/up42-blocks/data/weather-ocean-data-forecasts-meteomatics.html)."
   ]
  },
  {
   "cell_type": "code",
   "execution_count": 1,
   "metadata": {},
   "outputs": [],
   "source": [
    "import up42"
   ]
  },
  {
   "cell_type": "code",
   "execution_count": 2,
   "metadata": {},
   "outputs": [
    {
     "name": "stderr",
     "output_type": "stream",
     "text": [
      "2021-03-12 08:59:26,395 - Authentication with UP42 successful!\n",
      "2021-03-12 08:59:27,002 - Initialized Project(name: Blocks, project_id: 810e8039-cb5c-445b-b08d-53b0dde1bde0, description: , createdAt: 2020-07-13T14:32:49.406Z)\n",
      "2021-03-12 08:59:27,308 - Created new workflow: dabb3f7b-11e4-4ff1-8f50-d8bd7902156d\n"
     ]
    }
   ],
   "source": [
    "# add credential and authenticate\n",
    "up42.authenticate(project_id=\"12345\", project_api_key=\"12345\")\n",
    "project = up42.initialize_project()\n",
    "\n",
    "# Construct workflow\n",
    "workflow = project.create_workflow(name=\"meteomatics-workflow\", use_existing=False)"
   ]
  },
  {
   "cell_type": "code",
   "execution_count": 3,
   "id": "noted-float",
   "metadata": {},
   "outputs": [
    {
     "name": "stderr",
     "output_type": "stream",
     "text": [
      "2021-03-12 08:59:30,669 - Added tasks to workflow: [{'name': 'meteomatics:1', 'parentName': None, 'blockId': '235addd2-3efe-424b-8c35-d9b41dfe0eb5'}, {'name': 'data-conversion-netcdf:1', 'parentName': 'meteomatics:1', 'blockId': 'e826be64-827b-4df9-b32d-56c528b8050d'}]\n"
     ]
    }
   ],
   "source": [
    "input_tasks = [\"meteomatics\", \"data-conversion-netcdf\"]\n",
    "workflow.add_workflow_tasks(input_tasks)"
   ]
  },
  {
   "cell_type": "code",
   "execution_count": 4,
   "metadata": {},
   "outputs": [],
   "source": [
    "# Define the aoi \n",
    "berlin_example_aoi = {\"type\":\"Feature\",\"properties\":{},\n",
    "   \"geometry\":{\"type\": \"Polygon\",\"coordinates\": [[[13.384292,52.476387],\n",
    "                                                  [13.387612,52.476407],\n",
    "                                                  [13.387844,52.470423],\n",
    "                                                  [13.384436,52.470499],\n",
    "                                                  [13.384292,52.476387]]]}}\n",
    "# other options to define aoi include up42.draw_aoi(), up42.read_vector_file(), FeatureCollection, GeoDataFrame etc."
   ]
  },
  {
   "cell_type": "code",
   "execution_count": 5,
   "metadata": {},
   "outputs": [
    {
     "name": "stderr",
     "output_type": "stream",
     "text": [
      "2021-03-12 08:59:31,060 - Got 2 tasks/blocks in workflow dabb3f7b-11e4-4ff1-8f50-d8bd7902156d.\n"
     ]
    },
    {
     "data": {
      "text/plain": [
       "{'meteomatics:1': {'bbox': {'type': 'array', 'default': None},\n",
       "  'time': {'type': 'dateRange',\n",
       "   'default': '2020-01-01T00:00:00+00:00/2021-12-31T23:59:59+00:00'},\n",
       "  'variables': {'type': 'array',\n",
       "   'default': ['t_2m:C', 'precip_5min:mm', 'wind_speed_100m:ms']},\n",
       "  'intersects': {'type': 'geometry'},\n",
       "  'time_series': {'type': 'array', 'default': None},\n",
       "  'time_interval': {'type': 'integer', 'default': 6}},\n",
       " 'data-conversion-netcdf:1': {}}"
      ]
     },
     "execution_count": 5,
     "metadata": {},
     "output_type": "execute_result"
    }
   ],
   "source": [
    "# Get input parameters\n",
    "workflow.get_parameters_info()"
   ]
  },
  {
   "cell_type": "code",
   "execution_count": 6,
   "id": "universal-honor",
   "metadata": {},
   "outputs": [],
   "source": [
    "# Define input parameters of the workflow to run it\n",
    "input_parameters = workflow.construct_parameters(geometry=berlin_example_aoi, \n",
    "                                                 geometry_operation=\"intersects\", \n",
    "                                                 start_date=\"2020-01-01\",\n",
    "                                                 end_date=\"2020-01-02\")"
   ]
  },
  {
   "cell_type": "markdown",
   "id": "skilled-advertiser",
   "metadata": {},
   "source": [
    "In the above code cell, we added th basic input parameters. However, the block accepts additional parameters as per workflow.get_parameters_info(). Please refer to the [UP42 Documentation](https://docs.up42.com/up42-blocks/data/weather-ocean-data-forecasts-meteomatics.html) and the [Meteomatics Documentation](https://www.meteomatics.com/en/api/available-parameters/standard-weather-parameter/) for additional examples of variables. You can add the parameters to our parameter configuration in the following steps:"
   ]
  },
  {
   "cell_type": "code",
   "execution_count": 9,
   "id": "steady-glenn",
   "metadata": {},
   "outputs": [
    {
     "name": "stdout",
     "output_type": "stream",
     "text": [
      "{'meteomatics:1': {'time': '2020-01-01T00:00:00Z/2020-01-02T23:59:59Z', 'variables': ['t_2m:C', 'precip_5min:mm', 'wind_speed_200m:kmh'], 'time_interval': 6, 'intersects': {'type': 'Polygon', 'coordinates': (((13.384292, 52.476387), (13.387612, 52.476407), (13.387844, 52.470423), (13.384436, 52.470499), (13.384292, 52.476387)),)}}, 'data-conversion-netcdf:1': {}}\n"
     ]
    }
   ],
   "source": [
    "input_parameters[\"meteomatics:1\"].update({\"time_interval\": 6,\n",
    "                                                     \"variables\": ['t_2m:C', 'precip_5min:mm', 'wind_speed_200m:kmh']})\n",
    "# Check if everything is as expected\n",
    "print(input_parameters)"
   ]
  },
  {
   "cell_type": "code",
   "execution_count": 10,
   "id": "polished-prime",
   "metadata": {},
   "outputs": [
    {
     "name": "stderr",
     "output_type": "stream",
     "text": [
      "2021-03-12 08:59:57,224 - Estimated: 22-22 Credits, Duration: 0-0 min.\n"
     ]
    },
    {
     "data": {
      "text/plain": [
       "{'meteomatics:1': {'blockConsumption': {'resources': {'unit': 'DATA_POINT',\n",
       "    'min': 192,\n",
       "    'max': 192},\n",
       "   'credit': {'min': 20, 'max': 20}},\n",
       "  'machineConsumption': {'duration': {'min': 0, 'max': 0},\n",
       "   'credit': {'min': 1, 'max': 1}}},\n",
       " 'data-conversion-netcdf:1': {'blockConsumption': {'resources': {'unit': 'SCENE',\n",
       "    'min': 3,\n",
       "    'max': 3},\n",
       "   'credit': {'min': 0, 'max': 0}},\n",
       "  'machineConsumption': {'duration': {'min': 0, 'max': 0},\n",
       "   'credit': {'min': 1, 'max': 1}}}}"
      ]
     },
     "execution_count": 10,
     "metadata": {},
     "output_type": "execute_result"
    }
   ],
   "source": [
    "# Price estimation\n",
    "workflow.estimate_job(input_parameters)"
   ]
  },
  {
   "cell_type": "code",
   "execution_count": 11,
   "id": "rolled-reggae",
   "metadata": {},
   "outputs": [
    {
     "name": "stderr",
     "output_type": "stream",
     "text": [
      "2021-03-12 08:59:57,233 - Selected input_parameters: {'meteomatics:1': {'time': '2020-01-01T00:00:00Z/2020-01-02T23:59:59Z', 'variables': ['t_2m:C', 'precip_5min:mm', 'wind_speed_200m:kmh'], 'time_interval': 6, 'intersects': {'type': 'Polygon', 'coordinates': (((13.384292, 52.476387), (13.387612, 52.476407), (13.387844, 52.470423), (13.384436, 52.470499), (13.384292, 52.476387)),)}}, 'data-conversion-netcdf:1': {}}\n",
      "2021-03-12 09:00:02,811 - Created and running new job: 0b89d547-8f93-4085-8908-effd8fbb8201.\n",
      "2021-03-12 09:00:03,127 - Tracking job status continuously, reporting every 30 seconds...\n",
      "2021-03-12 09:00:35,586 - Job finished successfully! - 0b89d547-8f93-4085-8908-effd8fbb8201\n"
     ]
    }
   ],
   "source": [
    "# Run the actual job\n",
    "job = workflow.run_job(input_parameters, track_status=True)\n"
   ]
  },
  {
   "cell_type": "code",
   "execution_count": null,
   "metadata": {},
   "outputs": [],
   "source": [
    "# Download and plot results\n",
    "job.download_results()"
   ]
  },
  {
   "cell_type": "markdown",
   "id": "flush-chapter",
   "metadata": {},
   "source": [
    "Each variable output (i.e wind_speed_200m, t_2m etc.) contains several bands describing the collected data at each time step. Here we plot the first band of each variable. (Lower values are visualized in lighter colors whilst higher values visualized in darker colors)"
   ]
  },
  {
   "cell_type": "code",
   "execution_count": 31,
   "id": "beneficial-wrestling",
   "metadata": {},
   "outputs": [
    {
     "data": {
      "image/png": "[encoded data removed]",
      "text/plain": [
       "<Figure size 1008x576 with 3 Axes>"
      ]
     },
     "metadata": {
      "needs_background": "light"
     },
     "output_type": "display_data"
    }
   ],
   "source": [
    "job.plot_results(bands=[1], cmap=\"Blues\")"
   ]
  }
 ],
 "metadata": {
  "kernelspec": {
   "display_name": "Python 3",
   "language": "python",
   "name": "python3"
  },
  "language_info": {
   "codemirror_mode": {
    "name": "ipython",
    "version": 3
   },
   "file_extension": ".py",
   "mimetype": "text/x-python",
   "name": "python",
   "nbconvert_exporter": "python",
   "pygments_lexer": "ipython3",
   "version": "3.7.2"
  }
 },
 "nbformat": 4,
 "nbformat_minor": 5
}
