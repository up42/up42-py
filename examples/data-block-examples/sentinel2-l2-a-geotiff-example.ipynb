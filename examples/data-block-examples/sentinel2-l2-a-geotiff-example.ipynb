{
 "cells": [
  {
   "cell_type": "markdown",
   "id": "defined-instrument",
   "metadata": {},
   "source": [
    "# Sentinel-2 L2A Analytic (GeoTIFF)\n",
    "This notebook provides details on how to access Sentinel-2 data (L2A pre-processing or Bottom Of Atmosphere (BOA) reflectance images). \n",
    "Sentinel-2 Level-2A products have been available over Europe since March 2018, and later extended gloablly as of December 2018."
   ]
  },
  {
   "cell_type": "code",
   "execution_count": 2,
   "id": "static-riding",
   "metadata": {},
   "outputs": [],
   "source": [
    "# import SDK\n",
    "import up42"
   ]
  },
  {
   "cell_type": "code",
   "execution_count": 3,
   "id": "scientific-haiti",
   "metadata": {
    "tags": []
   },
   "outputs": [
    {
     "name": "stderr",
     "output_type": "stream",
     "text": [
      "2021-03-19 16:45:59,477 - Authentication with UP42 successful!\n",
      "2021-03-19 16:46:00,349 - Initialized Project(name: S2l2a-Analytics-data-example, project_id: 1f2bad99-daad-4a60-9192-5169263caff6, description: , createdAt: 2021-03-18T14:39:08.255254Z)\n"
     ]
    }
   ],
   "source": [
    "# Authenticate user and initialise project\n",
    "up42.authenticate(project_id=\"5678\", \n",
    "                  project_api_key=\"uvwx\")\n",
    "project = up42.initialize_project()"
   ]
  },
  {
   "cell_type": "code",
   "execution_count": 4,
   "id": "regulated-prospect",
   "metadata": {},
   "outputs": [],
   "source": [
    "# Define the aoi\n",
    "aoi = {\n",
    "  \"type\": \"FeatureCollection\",\n",
    "  \"features\": [\n",
    "    {\n",
    "      \"type\": \"Feature\",\n",
    "      \"properties\": {},\n",
    "      \"geometry\": {\n",
    "        \"type\": \"Polygon\",\n",
    "        \"coordinates\": [\n",
    "          [\n",
    "              [\n",
    "                14.610298,\n",
    "                -24.516841\n",
    "              ],\n",
    "              [\n",
    "                14.622478,\n",
    "                -24.516841\n",
    "              ],\n",
    "              [\n",
    "                14.622478,\n",
    "                -24.50833\n",
    "              ],\n",
    "              [\n",
    "                14.610298,\n",
    "                -24.50833\n",
    "              ],\n",
    "              [\n",
    "                14.610298,\n",
    "                -24.516841\n",
    "              ]\n",
    "          ]\n",
    "        ]\n",
    "      }\n",
    "    }\n",
    "  ]\n",
    "}"
   ]
  },
  {
   "cell_type": "code",
   "execution_count": 5,
   "id": "stupid-pathology",
   "metadata": {},
   "outputs": [
    {
     "name": "stderr",
     "output_type": "stream",
     "text": [
      "2021-03-19 16:46:11,248 - Getting existing workflows in project ...\n",
      "2021-03-19 16:46:11,718 - Got 1 workflows for project 1f2bad99-daad-4a60-9192-5169263caff6.\n",
      "100%|██████████| 1/1 [00:00<00:00,  1.50it/s]\n",
      "2021-03-19 16:46:12,396 - Using existing workflow: Sentinel2-l2-analytics-example - 00e94c32-7cfe-40b8-85b6-cc2ffa980c75\n",
      "2021-03-19 16:46:16,343 - Added tasks to workflow: [{'name': 'esa-s2-l2a-gtiff:1', 'parentName': None, 'blockId': '4471e5ef-90f1-4bf0-9243-66bc9d8b4c99'}, {'name': 'sharpening:1', 'parentName': 'esa-s2-l2a-gtiff:1', 'blockId': 'e374ea64-dc3b-4500-bb4b-974260fb203e'}]\n"
     ]
    }
   ],
   "source": [
    "# Construct the workflow\n",
    "workflow = project.create_workflow(name=\"Sentinel2-l2-analytics-example\", use_existing=True)\n",
    "input_tasks = [\"Sentinel-2 L2A (GeoTIFF)\", \"Sharpening Filter\"]\n",
    "workflow.add_workflow_tasks(input_tasks)"
   ]
  },
  {
   "cell_type": "code",
   "execution_count": 6,
   "id": "animal-zealand",
   "metadata": {},
   "outputs": [],
   "source": [
    "# Define the aoi and input parameters of the workflow to run it\n",
    "input_parameters = workflow.construct_parameters(geometry=aoi, \n",
    "                                                 geometry_operation='intersects', \n",
    "                                                 start_date=\"2018-11-07\", \n",
    "                                                 end_date=\"2020-12-31\",\n",
    "                                                 limit=1)\n",
    "input_parameters[\"esa-s2-l2a-gtiff:1\"].update({\"max_cloud_cover\":10})"
   ]
  },
  {
   "cell_type": "code",
   "execution_count": 7,
   "id": "israeli-while",
   "metadata": {},
   "outputs": [
    {
     "name": "stderr",
     "output_type": "stream",
     "text": [
      "2021-03-19 16:49:21,218 - Estimated: 2-2 Credits, Duration: 216-244 min.\n"
     ]
    },
    {
     "data": {
      "text/plain": [
       "{'esa-s2-l2a-gtiff:1': {'blockConsumption': {'resources': {'unit': 'SQUARE_KM',\n",
       "    'min': 1.168825,\n",
       "    'max': 1.168825},\n",
       "   'credit': {'min': 0, 'max': 0}},\n",
       "  'machineConsumption': {'duration': {'min': 0, 'max': 0},\n",
       "   'credit': {'min': 1, 'max': 1}}},\n",
       " 'sharpening:1': {'blockConsumption': {'resources': {'unit': 'SQUARE_KM',\n",
       "    'min': 1.168825,\n",
       "    'max': 1.168825},\n",
       "   'credit': {'min': 0, 'max': 0}},\n",
       "  'machineConsumption': {'duration': {'min': 12967, 'max': 14696},\n",
       "   'credit': {'min': 1, 'max': 1}}}}"
      ]
     },
     "execution_count": 7,
     "metadata": {},
     "output_type": "execute_result"
    }
   ],
   "source": [
    "# Price Estimation\n",
    "workflow.estimate_job(input_parameters)"
   ]
  },
  {
   "cell_type": "code",
   "execution_count": 8,
   "id": "eastern-software",
   "metadata": {},
   "outputs": [
    {
     "name": "stderr",
     "output_type": "stream",
     "text": [
      "2021-03-19 16:49:24,807 - +++++++++++++++++++++++++++++++++\n",
      "2021-03-19 16:49:24,810 - Running this job as Test Query...\n",
      "2021-03-19 16:49:24,811 - +++++++++++++++++++++++++++++++++\n",
      "2021-03-19 16:49:24,812 - Selected input_parameters: {'esa-s2-l2a-gtiff:1': {'time': '2018-11-07T00:00:00Z/2020-12-31T23:59:59Z', 'limit': 1, 'max_cloud_cover': 10, 'intersects': {'type': 'Polygon', 'coordinates': (((14.610298, -24.516841), (14.622478, -24.516841), (14.622478, -24.50833), (14.610298, -24.50833), (14.610298, -24.516841)),)}}, 'sharpening:1': {'strength': 'medium'}, 'config': {'mode': 'DRY_RUN'}}\n",
      "2021-03-19 16:49:26,492 - Created and running new job: 0b232d8d-ded0-4082-8b7b-d75a1e5e3bba.\n",
      "2021-03-19 16:49:26,933 - Tracking job status continuously, reporting every 30 seconds...\n",
      "2021-03-19 16:49:54,837 - Job finished successfully! - 0b232d8d-ded0-4082-8b7b-d75a1e5e3bba\n"
     ]
    }
   ],
   "source": [
    "# Run test job to query data availability and check the configuration.\n",
    "test_job = workflow.test_job(input_parameters, track_status=True)"
   ]
  },
  {
   "cell_type": "code",
   "execution_count": 9,
   "id": "beautiful-madrid",
   "metadata": {},
   "outputs": [
    {
     "name": "stderr",
     "output_type": "stream",
     "text": [
      "2021-03-19 16:51:07,574 - Selected input_parameters: {'esa-s2-l2a-gtiff:1': {'time': '2018-11-07T00:00:00Z/2020-12-31T23:59:59Z', 'limit': 1, 'max_cloud_cover': 10, 'intersects': {'type': 'Polygon', 'coordinates': (((14.610298, -24.516841), (14.622478, -24.516841), (14.622478, -24.50833), (14.610298, -24.50833), (14.610298, -24.516841)),)}}, 'sharpening:1': {'strength': 'medium'}}\n",
      "2021-03-19 16:51:14,797 - Created and running new job: 76de7f0d-fe63-4026-ab4b-b8a9de151438.\n",
      "2021-03-19 16:51:15,292 - Tracking job status continuously, reporting every 30 seconds...\n",
      "2021-03-19 16:51:48,623 - Job is RUNNING! - 76de7f0d-fe63-4026-ab4b-b8a9de151438\n",
      "2021-03-19 16:52:05,160 - Job finished successfully! - 76de7f0d-fe63-4026-ab4b-b8a9de151438\n"
     ]
    }
   ],
   "source": [
    "# Run actual Job\n",
    "job = workflow.run_job(input_parameters, track_status=True)"
   ]
  },
  {
   "cell_type": "code",
   "execution_count": 10,
   "id": "dramatic-participation",
   "metadata": {},
   "outputs": [
    {
     "name": "stderr",
     "output_type": "stream",
     "text": [
      "2021-03-19 16:52:14,681 - Downloading results of job 76de7f0d-fe63-4026-ab4b-b8a9de151438\n",
      "2021-03-19 16:52:14,685 - Download directory: /Users/wilhelmina.nekoto/repos/up42-py/examples/data-block-examples/project_1f2bad99-daad-4a60-9192-5169263caff6/job_76de7f0d-fe63-4026-ab4b-b8a9de151438\n",
      "22it [00:00, 57852.47it/s]\n",
      "2021-03-19 16:52:16,069 - Download successful of 2 files to output_directory '/Users/wilhelmina.nekoto/repos/up42-py/examples/data-block-examples/project_1f2bad99-daad-4a60-9192-5169263caff6/job_76de7f0d-fe63-4026-ab4b-b8a9de151438': ['S2B_33JVN_20201215_0_L2A.tif', 'data.json']\n"
     ]
    },
    {
     "data": {
      "text/plain": [
       "['/Users/wilhelmina.nekoto/repos/up42-py/examples/data-block-examples/project_1f2bad99-daad-4a60-9192-5169263caff6/job_76de7f0d-fe63-4026-ab4b-b8a9de151438/S2B_33JVN_20201215_0_L2A.tif',\n",
       " '/Users/wilhelmina.nekoto/repos/up42-py/examples/data-block-examples/project_1f2bad99-daad-4a60-9192-5169263caff6/job_76de7f0d-fe63-4026-ab4b-b8a9de151438/data.json']"
      ]
     },
     "execution_count": 10,
     "metadata": {},
     "output_type": "execute_result"
    }
   ],
   "source": [
    "# Downlod Results\n",
    "job.download_results()"
   ]
  },
  {
   "cell_type": "code",
   "execution_count": 11,
   "id": "polished-reduction",
   "metadata": {},
   "outputs": [
    {
     "data": {
      "image/png": "[encoded data removed]",
      "text/plain": [
       "<Figure size 432x432 with 1 Axes>"
      ]
     },
     "metadata": {
      "needs_background": "light"
     },
     "output_type": "display_data"
    }
   ],
   "source": [
    "# Plot Results\n",
    "job.plot_results(figsize=(6,6))"
   ]
  }
 ],
 "metadata": {
  "kernelspec": {
   "display_name": "UP42-py-dev",
   "language": "python",
   "name": "up42-py-dev"
  },
  "language_info": {
   "codemirror_mode": {
    "name": "ipython",
    "version": 3
   },
   "file_extension": ".py",
   "mimetype": "text/x-python",
   "name": "python",
   "nbconvert_exporter": "python",
   "pygments_lexer": "ipython3",
   "version": "3.7.10"
  }
 },
 "nbformat": 4,
 "nbformat_minor": 5
}
