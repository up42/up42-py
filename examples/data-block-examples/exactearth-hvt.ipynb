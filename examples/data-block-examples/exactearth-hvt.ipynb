{
 "cells": [
  {
   "cell_type": "markdown",
   "metadata": {},
   "source": [
    "# ExactEarth AIS Historical Vessel Tracks\n",
    "\n",
    "In this example a **new workflow** consisting only of [**ExactEarth AIS Historical Vessel Tracks (HVT)**](https://marketplace.up42.com/block/c1678e74-70b5-47a7-b8fe-caebc4f470d9) is created.\n",
    "The area of interest and workflow parameters are defined. After **running the job**, \n",
    "the results are **downloaded** and visualized."
   ]
  },
  {
   "cell_type": "code",
   "execution_count": 6,
   "metadata": {},
   "outputs": [],
   "source": [
    "import up42"
   ]
  },
  {
   "cell_type": "code",
   "execution_count": 7,
   "metadata": {},
   "outputs": [
    {
     "name": "stderr",
     "output_type": "stream",
     "text": [
      "2021-03-11 11:03:52,038 - Got credentials from config file.\n",
      "2021-03-11 11:03:52,639 - Authentication with UP42 successful!\n",
      "2021-03-11 11:03:52,640 - Logging disabled - use up42.settings(log=True) to reactivate.\n"
     ]
    }
   ],
   "source": [
    "up42.authenticate(cfg_file=\"config.json\")\n",
    "up42.settings(log=False)\n",
    "project = up42.initialize_project()"
   ]
  },
  {
   "cell_type": "code",
   "execution_count": 9,
   "metadata": {},
   "outputs": [
    {
     "name": "stderr",
     "output_type": "stream",
     "text": [
      "100%|██████████| 1/1 [00:00<00:00,  2.71it/s]\n"
     ]
    }
   ],
   "source": [
    "# Construct workflow\n",
    "workflow = project.create_workflow(name=\"AIS tracks\", use_existing=True)\n",
    "#print(up42.get_blocks(basic=True))\n",
    "input_tasks = [\"ais-hvt\"]\n",
    "workflow.add_workflow_tasks(input_tasks)"
   ]
  },
  {
   "cell_type": "code",
   "execution_count": 29,
   "metadata": {},
   "outputs": [],
   "source": [
    "# Define the aoi and input parameters of the workflow to run it.\n",
    "# Can also use up42.draw_aoi(), up42.read_vector_file(), provide a FeatureCollection, GeoDataFrame etc.\n",
    "aoi = {\"type\":\"FeatureCollection\",\"features\":[{\"type\":\"Feature\",\"properties\":{},\n",
    "                \"geometry\":{\"type\":\"Polygon\",\"coordinates\":[[[-5.370973,36.115663],\n",
    "                                                             [-5.348018,36.115663],\n",
    "                                                             [-5.355756,36.141326],\n",
    "                                                             [-5.3598,36.147976],\n",
    "                                                             [-5.370531,36.148606],\n",
    "                                                             [-5.370973,36.115663]]]}}]}\n",
    "input_parameters = workflow.construct_parameters(geometry=aoi, \n",
    "                                                 geometry_operation=\"bbox\", \n",
    "                                                 start_date=\"2020-02-01T10:00:00+00:00\",\n",
    "                                                 end_date=\"2020-02-01T23:59:59+00:00\")\n",
    "#input_parameters[\"esa-s2-l2a-gtiff:1\"].update({\"max_cloud_cover\":5})"
   ]
  },
  {
   "cell_type": "code",
   "execution_count": null,
   "metadata": {},
   "outputs": [],
   "source": [
    "# Price estimation\n",
    "workflow.estimate_job(input_parameters)"
   ]
  },
  {
   "cell_type": "code",
   "execution_count": null,
   "metadata": {},
   "outputs": [],
   "source": [
    "# Run the actual job.\n",
    "job = workflow.run_job(input_parameters, track_status=True)"
   ]
  },
  {
   "cell_type": "code",
   "execution_count": null,
   "metadata": {},
   "outputs": [],
   "source": [
    "job.download_results()"
   ]
  },
  {
   "cell_type": "code",
   "execution_count": null,
   "metadata": {},
   "outputs": [],
   "source": [
    "job.plot_results(figsize=(6,6))"
   ]
  },
  {
   "cell_type": "code",
   "execution_count": null,
   "metadata": {},
   "outputs": [],
   "source": [
    "#job.map_results(bands=[1])"
   ]
  },
  {
   "cell_type": "code",
   "execution_count": null,
   "metadata": {},
   "outputs": [],
   "source": []
  }
 ],
 "metadata": {
  "kernelspec": {
   "display_name": "Python 3",
   "language": "python",
   "name": "python3"
  },
  "language_info": {
   "codemirror_mode": {
    "name": "ipython",
    "version": 3
   },
   "file_extension": ".py",
   "mimetype": "text/x-python",
   "name": "python",
   "nbconvert_exporter": "python",
   "pygments_lexer": "ipython3",
   "version": "3.8.6"
  }
 },
 "nbformat": 4,
 "nbformat_minor": 4
}
