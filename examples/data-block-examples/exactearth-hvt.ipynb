{
 "cells": [
  {
   "cell_type": "markdown",
   "metadata": {},
   "source": [
    "# ExactEarth AIS Historical Vessel Tracks\n",
    "\n",
    "In this example a **new workflow** consisting only of [**ExactEarth AIS Historical Vessel Tracks (HVT)**](https://marketplace.up42.com/block/c1678e74-70b5-47a7-b8fe-caebc4f470d9) is created.\n",
    "The area of interest and workflow parameters are defined. After **running the job**, \n",
    "the results are **downloaded** and visualized."
   ]
  },
  {
   "cell_type": "code",
   "execution_count": 6,
   "metadata": {},
   "outputs": [],
   "source": [
    "import up42"
   ]
  },
  {
   "cell_type": "code",
   "execution_count": 7,
   "metadata": {},
   "outputs": [
    {
     "name": "stderr",
     "output_type": "stream",
     "text": [
      "2021-03-11 11:03:52,038 - Got credentials from config file.\n",
      "2021-03-11 11:03:52,639 - Authentication with UP42 successful!\n",
      "2021-03-11 11:03:52,640 - Logging disabled - use up42.settings(log=True) to reactivate.\n"
     ]
    }
   ],
   "source": [
    "up42.authenticate(cfg_file=\"config.json\")\n",
    "up42.settings(log=False)\n",
    "project = up42.initialize_project()"
   ]
  },
  {
   "cell_type": "code",
   "execution_count": 9,
   "metadata": {},
   "outputs": [
    {
     "name": "stderr",
     "output_type": "stream",
     "text": [
      "100%|██████████| 1/1 [00:00<00:00,  2.71it/s]\n"
     ]
    }
   ],
   "source": [
    "# Construct workflow\n",
    "workflow = project.create_workflow(name=\"AIS tracks\", use_existing=True)\n",
    "#print(up42.get_blocks(basic=True))\n",
    "input_tasks = [\"ais-hvt\"]\n",
    "workflow.add_workflow_tasks(input_tasks)"
   ]
  },
  {
   "cell_type": "code",
   "execution_count": 29,
   "metadata": {},
   "outputs": [],
   "source": [
    "# Define the aoi and input parameters of the workflow to run it.\n",
    "aoi = {\"type\":\"FeatureCollection\",\"features\":[{\"type\":\"Feature\",\"properties\":{},\n",
    "                \"geometry\":{\"type\":\"Polygon\",\"coordinates\":[[[-5.370973,36.115663],\n",
    "                                                             [-5.348018,36.115663],\n",
    "                                                             [-5.355756,36.141326],\n",
    "                                                             [-5.3598,36.147976],\n",
    "                                                             [-5.370531,36.148606],\n",
    "                                                             [-5.370973,36.115663]]]}}]}\n",
    "input_parameters = workflow.construct_parameters(geometry=aoi, \n",
    "                                                 geometry_operation=\"bbox\")\n",
    "input_parameters[\"ais-hvt:1\"][\"time\"] = \"2021-02-01T10:00:00+00:00/2021-02-01T23:59:59+00:00\""
   ]
  },
  {
   "cell_type": "code",
   "execution_count": 35,
   "metadata": {},
   "outputs": [
    {
     "data": {
      "text/plain": [
       "{'ais-hvt:1': {'blockConsumption': {'resources': {'unit': 'SQUARE_KM',\n",
       "    'min': 7.568521,\n",
       "    'max': 7.568521},\n",
       "   'credit': {'min': 38, 'max': 38}},\n",
       "  'machineConsumption': {'duration': {'min': 0, 'max': 0},\n",
       "   'credit': {'min': 1, 'max': 1}}}}"
      ]
     },
     "execution_count": 35,
     "metadata": {},
     "output_type": "execute_result"
    }
   ],
   "source": [
    "# Price estimation\n",
    "workflow.estimate_job(input_parameters)"
   ]
  },
  {
   "cell_type": "code",
   "execution_count": 36,
   "metadata": {},
   "outputs": [],
   "source": [
    "# Run the actual job.\n",
    "job = workflow.run_job(input_parameters, track_status=True)"
   ]
  },
  {
   "cell_type": "code",
   "execution_count": 37,
   "metadata": {},
   "outputs": [
    {
     "name": "stderr",
     "output_type": "stream",
     "text": [
      "445it [00:00, 171707.94it/s]\n"
     ]
    },
    {
     "data": {
      "text/plain": [
       "['/Users/markus.mueller/projects/up42-py/examples/data-block-examples/project_9fcef58a-668d-42fd-beb9-dc8e2d6f4dc7/job_8e2de6a0-671c-4f45-88be-d76468dcab9e/data.json',\n",
       " '/Users/markus.mueller/projects/up42-py/examples/data-block-examples/project_9fcef58a-668d-42fd-beb9-dc8e2d6f4dc7/job_8e2de6a0-671c-4f45-88be-d76468dcab9e/ais-tracks.geojson']"
      ]
     },
     "execution_count": 37,
     "metadata": {},
     "output_type": "execute_result"
    }
   ],
   "source": [
    "job.download_results()"
   ]
  },
  {
   "cell_type": "code",
   "execution_count": null,
   "metadata": {},
   "outputs": [],
   "source": [
    "job.plot_results(figsize=(6,6))"
   ]
  },
  {
   "cell_type": "code",
   "execution_count": null,
   "metadata": {},
   "outputs": [],
   "source": [
    "#job.map_results(bands=[1])"
   ]
  },
  {
   "cell_type": "code",
   "execution_count": null,
   "metadata": {},
   "outputs": [],
   "source": []
  }
 ],
 "metadata": {
  "kernelspec": {
   "display_name": "Python 3",
   "language": "python",
   "name": "python3"
  },
  "language_info": {
   "codemirror_mode": {
    "name": "ipython",
    "version": 3
   },
   "file_extension": ".py",
   "mimetype": "text/x-python",
   "name": "python",
   "nbconvert_exporter": "python",
   "pygments_lexer": "ipython3",
   "version": "3.8.6"
  }
 },
 "nbformat": 4,
 "nbformat_minor": 4
}
