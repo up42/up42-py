{
  "cells": [
    {
      "cell_type": "markdown",
      "metadata": {},
      "source": [
        "# Download storage assets\n",
        "\n",
        "## Installation\n",
        "\n",
        "[Install](https://sdk.up42.com/installation/) the SDK. The package requires Python ≥ 3.8."
      ]
    },
    {
      "cell_type": "code",
      "execution_count": 1,
      "metadata": {},
      "outputs": [],
      "source": [
        "!pip install up42-py\n",
        "import up42"
      ]
    },
    {
      "cell_type": "markdown",
      "metadata": {},
      "source": [
        "## Authentication\n",
        "\n",
        "Use your credentials to [authenticate](https://sdk.up42.com/authentication)."
      ]
    },
    {
      "cell_type": "code",
      "execution_count": 2,
      "metadata": {},
      "outputs": [
        {
          "name": "stderr",
          "output_type": "stream",
          "text": [
            "2023-12-06 17:48:42,801 - Got credentials from config file.\n",
            "2023-12-06 17:48:44,551 - Authentication with UP42 successful!\n"
          ]
        }
      ],
      "source": [
        "up42.authenticate(\n",
        "    username=\"<your-email-address>\",\n",
        "    password=\"<your-password>\",\n",
        ")\n",
        "\n",
        "# Alternatively, you can create a config.json file and use the following code for it:\n",
        "# {\n",
        "#   \"username\": \"<your-email-address>\",\n",
        "#   \"password\": \"<your-password>\"\n",
        "# }\n",
        "\n",
        "# If you use a configuration file, uncomment this line:\n",
        "# up42.authenticate(cfg_file=\"credentials.json\")"
      ]
    },
    {
      "cell_type": "markdown",
      "metadata": {},
      "source": [
        "## Step 1. Search for specific assets\n",
        "\n",
        "You can search for assets with specific [properties](https://sdk.up42.com/reference/storage-reference/#get_assets)."
      ]
    },
    {
      "cell_type": "code",
      "execution_count": 3,
      "metadata": {},
      "outputs": [
        {
          "name": "stderr",
          "output_type": "stream",
          "text": [
            "2023-12-06 17:58:56,243 - Queried 1 assets for workspace a0d443a2-41e8-4995-8b54-a5cc4c448227.\n"
          ]
        },
        {
          "data": {
            "text/plain": [
              "[Asset(name: oneatlas_78fda8f9-9032-41d9-9721-b91b0d634bb3.zip, asset_id: 68567134-27ad-7bd7-4b65-d61adb11fc78, createdAt: 2023-12-06T16:03:22.690813Z, size: 2236517), source: ARCHIVE, contentType: application/zip]"
            ]
          },
          "execution_count": 3,
          "metadata": {},
          "output_type": "execute_result"
        }
      ],
      "source": [
        "storage = up42.initialize_storage()\n",
        "\n",
        "assets = storage.get_assets(\n",
        "    workspace_id=\"a0d443a2-41e8-4995-8b54-a5cc4c448227\",\n",
        "    created_after=\"2023-12-06\",\n",
        "    sources=[\"ARCHIVE\"],\n",
        ")\n",
        "\n",
        "assets"
      ]
    },
    {
      "cell_type": "markdown",
      "metadata": {},
      "source": [
        "## Step 2. Download assets\n",
        "\n",
        "The default download path for an asset is your current working directory. You can also provide a custom output directory."
      ]
    },
    {
      "cell_type": "code",
      "execution_count": 4,
      "metadata": {},
      "outputs": [
        {
          "name": "stderr",
          "output_type": "stream",
          "text": [
            "2023-12-06 17:59:19,474 - Initialized Asset(name: oneatlas_78fda8f9-9032-41d9-9721-b91b0d634bb3.zip, asset_id: 68567134-27ad-7bd7-4b65-d61adb11fc78, createdAt: 2023-12-06T16:03:22.690813Z, size: 2236517), source: ARCHIVE, contentType: application/zip\n",
            "2023-12-06 17:59:19,475 - Downloading asset 68567134-27ad-7bd7-4b65-d61adb11fc78\n",
            "2023-12-06 17:59:19,475 - Download directory: /Users/max.mustermann/Desktop\n",
            "2185it [00:00, 8963.55it/s]\n",
            "2023-12-06 17:59:20,196 - Successfully downloaded the file at /Users/max.mustermann/Desktop/oneatlas_78fda8f9-9032-41d9-9721-b91b0d634bb3.zip\n"
          ]
        },
        {
          "data": {
            "text/plain": [
              "['/Users/max.mustermann/Desktop/oneatlas_78fda8f9-9032-41d9-9721-b91b0d634bb3.zip']"
            ]
          },
          "execution_count": 4,
          "metadata": {},
          "output_type": "execute_result"
        }
      ],
      "source": [
        "# Download a single asset\n",
        "assets[0].download(\n",
        "    output_directory=\"/Users/max.mustermann/Desktop/\",\n",
        "    unpacking=False,\n",
        ")"
      ]
    }
  ],
  "metadata": {
    "colab": {
      "provenance": []
    },
    "kernelspec": {
      "display_name": "Python 3",
      "name": "python3"
    },
    "language_info": {
      "codemirror_mode": {
        "name": "ipython",
        "version": 3
      },
      "file_extension": ".py",
      "mimetype": "text/x-python",
      "name": "python",
      "nbconvert_exporter": "python",
      "pygments_lexer": "ipython3",
      "version": "3.11.3"
    },
    "orig_nbformat": 4
  },
  "nbformat": 4,
  "nbformat_minor": 0
}
