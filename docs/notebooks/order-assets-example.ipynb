{
  "cells": [
    {
      "cell_type": "markdown",
      "metadata": {},
      "source": [
        "# Download assets from orders\n",
        "\n",
        "## Installation\n",
        "\n",
        "[Install](https://sdk.up42.com/installation/) the SDK. The package requires Python ≥ 3.8."
      ]
    },
    {
      "cell_type": "code",
      "execution_count": 1,
      "metadata": {},
      "outputs": [],
      "source": [
        "!pip install up42-py\n",
        "import up42"
      ]
    },
    {
      "cell_type": "markdown",
      "metadata": {},
      "source": [
        "## Authentication\n",
        "\n",
        "Use your credentials to [authenticate](https://sdk.up42.com/authentication)."
      ]
    },
    {
      "cell_type": "code",
      "execution_count": 2,
      "metadata": {},
      "outputs": [
        {
          "name": "stderr",
          "output_type": "stream",
          "text": [
            "2023-12-06 17:40:04,163 - Got credentials from config file.\n",
            "2023-12-06 17:40:04,784 - Authentication with UP42 successful!\n"
          ]
        }
      ],
      "source": [
        "# Create a configuration file and use the following code for it:\n",
        "# {\n",
        "#   \"username\": \"<your-email-address>\",\n",
        "#   \"password\": \"<your-password>\"\n",
        "# }\n",
        "\n",
        "up42.authenticate(cfg_file=\"credentials.json\")"
      ]
    },
    {
      "cell_type": "markdown",
      "metadata": {},
      "source": [
        "## Step 1. Check the status of your order\n",
        "\n",
        "The following statuses mean you can download assets from storage:\n",
        "\n",
        "- `BEING_FULFILLED`: some order assets might have been delivered.\n",
        "- `FULFILLED`: all order assets have been delivered."
      ]
    },
    {
      "cell_type": "code",
      "execution_count": 3,
      "metadata": {},
      "outputs": [
        {
          "name": "stderr",
          "output_type": "stream",
          "text": [
            "2023-12-06 17:40:10,462 - Initialized Order(order_id: 55434287-31bc-3ad7-1a63-d61aac11ac55, assets: ['ea36dee9-fed6-457e-8400-2c20ebd30f44'], dataProvider: None, status: FULFILLED, createdAt: 2023-12-06T15:56:17.268879Z, updatedAt: 2023-12-06T16:03:24.958921Z)\n",
            "2023-12-06 17:40:10,741 - Order is FULFILLED\n"
          ]
        },
        {
          "data": {
            "text/plain": [
              "'FULFILLED'"
            ]
          },
          "execution_count": 4,
          "metadata": {},
          "output_type": "execute_result"
        }
      ],
      "source": [
        "order = up42.initialize_order(\n",
        "    order_id=\"55434287-31bc-3ad7-1a63-d61aac11ac55\"\n",
        ")\n",
        "\n",
        "order.status"
      ]
    },
    {
      "cell_type": "markdown",
      "metadata": {},
      "source": [
        "## Step 2. Search for assets delivered in your order"
      ]
    },
    {
      "cell_type": "code",
      "execution_count": 4,
      "metadata": {},
      "outputs": [
        {
          "data": {
            "text/plain": [
              "{'id': '55434287-31bc-3ad7-1a63-d61aac11ac55',\n",
              " 'userId': None,\n",
              " 'workspaceId': '49167144-27ed-4ce6-9b55-d60adb17ec78',\n",
              " 'accountId': 'ea36dee9-fed6-457e-8400-2c20ebd30f44',\n",
              " 'dataProvider': None,\n",
              " 'type': 'ARCHIVE',\n",
              " 'status': 'FULFILLED',\n",
              " 'dataProductId': '4f1b2f62-98df-4c74-81f4-5dce45deee99',\n",
              " 'createdAt': '2023-12-06T15:56:17.268879Z',\n",
              " 'updatedAt': '2023-12-06T16:03:24.958921Z',\n",
              " 'createdBy': {'id': '49167144-27ed-4ce6-9b55-d60adb17ec78', 'type': 'USER'},\n",
              " 'updatedBy': {'id': 'system', 'type': 'INTERNAL'},\n",
              " 'assets': ['ea36dee9-fed6-457e-8400-2c20ebd30f44'],\n",
              " 'tags': [],\n",
              " 'correlationId': '68567134-27ad-7bd7-4b65-d61adb11fc78'}"
            ]
          },
          "execution_count": 4,
          "metadata": {},
          "output_type": "execute_result"
        }
      ],
      "source": [
        "order.info"
      ]
    },
    {
      "cell_type": "markdown",
      "metadata": {},
      "source": [
        "The IDs of respective assets are listed in the `assets` array."
      ]
    },
    {
      "cell_type": "markdown",
      "metadata": {},
      "source": [
        "## Step 3. Download assets\n",
        "\n",
        "The default download path for an asset is your current working directory. You can also provide a custom output directory."
      ]
    },
    {
      "cell_type": "code",
      "execution_count": 5,
      "metadata": {},
      "outputs": [
        {
          "name": "stderr",
          "output_type": "stream",
          "text": [
            "2023-12-06 17:41:28,358 - Initialized Asset(name: oneatlas_55434287-31bc-3ad7-1a63-d61aac11ac55.zip, asset_id: ea36dee9-fed6-457e-8400-2c20ebd30f44, createdAt: 2023-12-06T16:03:22.690813Z, size: 2236517), source: ARCHIVE, contentType: application/zip\n",
            "2023-12-06 17:41:28,358 - Downloading asset ea36dee9-fed6-457e-8400-2c20ebd30f44\n",
            "2023-12-06 17:41:28,359 - Download directory: /Users/max.mustermann/Desktop\n",
            "2185it [00:00, 8182.97it/s]\n",
            "2023-12-06 17:41:29,152 - Successfully downloaded the file at /Users/max.mustermann/Desktop/oneatlas_55434287-31bc-3ad7-1a63-d61aac11ac55.zip\n"
          ]
        },
        {
          "data": {
            "text/plain": [
              "['/Users/max.mustermann/Desktop/oneatlas_55434287-31bc-3ad7-1a63-d61aac11ac55.zip']"
            ]
          },
          "execution_count": 5,
          "metadata": {},
          "output_type": "execute_result"
        }
      ],
      "source": [
        "asset = up42.initialize_asset(asset_id=order.info[\"assets\"][0])\n",
        "\n",
        "# Download a single asset\n",
        "asset.download(\n",
        "    output_directory=\"/Users/max.mustermann/Desktop/\",\n",
        "    unpacking=False,\n",
        ")"
      ]
    }
  ],
  "metadata": {
    "colab": {
      "provenance": []
    },
    "kernelspec": {
      "display_name": "Python 3",
      "name": "python3"
    },
    "language_info": {
      "codemirror_mode": {
        "name": "ipython",
        "version": 3
      },
      "file_extension": ".py",
      "mimetype": "text/x-python",
      "name": "python",
      "nbconvert_exporter": "python",
      "pygments_lexer": "ipython3",
      "version": "3.11.3"
    },
    "orig_nbformat": 4
  },
  "nbformat": 4,
  "nbformat_minor": 0
}
