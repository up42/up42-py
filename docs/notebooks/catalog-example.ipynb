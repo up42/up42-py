{
  "cells": [
    {
      "cell_type": "markdown",
      "metadata": {},
      "source": [
        "# Create a catalog order\n",
        "\n",
        "## Installation\n",
        "\n",
        "[Install](https://sdk.up42.com/installation/) the SDK. The package requires Python ≥ 3.8."
      ]
    },
    {
      "cell_type": "code",
      "execution_count": 1,
      "metadata": {},
      "outputs": [],
      "source": [
        "!pip install up42-py\n",
        "import up42"
      ]
    },
    {
      "cell_type": "markdown",
      "metadata": {},
      "source": [
        "## Authentication\n",
        "\n",
        "Use your credentials to [authenticate](https://sdk.up42.com/authentication)."
      ]
    },
    {
      "cell_type": "code",
      "execution_count": 2,
      "metadata": {},
      "outputs": [
        {
          "name": "stderr",
          "output_type": "stream",
          "text": [
            "2023-12-06 16:43:14,892 - Got credentials from config file.\n",
            "2023-12-06 16:43:15,609 - Authentication with UP42 successful!\n"
          ]
        }
      ],
      "source": [
        "up42.authenticate(\n",
        "    username=\"<your-email-address>\",\n",
        "    password=\"<your-password>\",\n",
        ")\n",
        "\n",
        "# Alternatively, you can create a config.json file and use the following code for it:\n",
        "# {\n",
        "#   \"username\": \"<your-email-address>\",\n",
        "#   \"password\": \"<your-password>\"\n",
        "# }\n",
        "\n",
        "# If you use a configuration file, uncomment this line:\n",
        "# up42.authenticate(cfg_file=\"credentials.json\")"
      ]
    },
    {
      "cell_type": "markdown",
      "metadata": {},
      "source": [
        "## Step 1. Choose a catalog collection\n",
        "\n",
        "Choose a catalog collection and get its `data_product_id` for ordering."
      ]
    },
    {
      "cell_type": "code",
      "execution_count": 3,
      "metadata": {},
      "outputs": [],
      "source": [
        "catalog = up42.initialize_catalog()\n",
        "products = catalog.get_data_products(basic=True)\n",
        "print(products)"
      ]
    },
    {
      "cell_type": "markdown",
      "metadata": {},
      "source": [
        "Choose a data product and copy its ID."
      ]
    },
    {
      "cell_type": "code",
      "execution_count": 4,
      "metadata": {},
      "outputs": [],
      "source": [
        "# The following value is the product id for Pléiades catalog — Analytic:\n",
        "data_product_id = \"4f1b2f62-98df-4c74-81f4-5dce45deee99\""
      ]
    },
    {
      "cell_type": "markdown",
      "metadata": {},
      "source": [
        "## Step 2. Request access\n",
        "\n",
        "If you want to order the chosen collection for the first time, you need to request access to it. For more information on access requests, see [Restrictions](https://docs.up42.com/getting-started/restrictions#tasking-collections).\n",
        "\n",
        "An email from the Customer Success team usually takes up to 3 days. You can review your access request status on the [Access requests](https://console.up42.com/settings/access) page."
      ]
    },
    {
      "cell_type": "markdown",
      "metadata": {},
      "source": [
        "## Step 3. Accept a EULA\n",
        "\n",
        "If you want to order the chosen collection for the first time, you need to accept its end-user license agreement (EULA). For more information on license agreements, see [EULAs](https://docs.up42.com/getting-started/account/eulas)."
      ]
    },
    {
      "cell_type": "markdown",
      "metadata": {},
      "source": [
        "## Step 4. Search the catalog\n",
        "\n",
        "Specify search parameters to find a full scene that fits your requirements."
      ]
    },
    {
      "cell_type": "code",
      "execution_count": 5,
      "metadata": {},
      "outputs": [
        {
          "name": "stderr",
          "output_type": "stream",
          "text": [
            "2023-12-06 16:54:44,007 - Getting small example AOI in location 'Berlin'.\n",
            "2023-12-06 16:54:44,988 - Searching catalog with search_parameters: {'datetime': '2022-06-01T00:00:00Z/2022-12-31T23:59:59Z', 'intersects': {'type': 'Polygon', 'coordinates': (((13.375777664180191, 52.51799543512652), (13.375777664180191, 52.514561554285706), (13.381566455794598, 52.514561554285706), (13.381566455794598, 52.51799543512652), (13.375777664180191, 52.51799543512652)),)}, 'limit': 10, 'collections': ['phr'], 'query': {'cloudCoverage': {'lte': 20}}}\n",
            "2023-12-06 16:54:45,532 - 5 results returned.\n"
          ]
        }
      ],
      "source": [
        "geometry = up42.get_example_aoi()\n",
        "\n",
        "search_parameters = catalog.construct_search_parameters(\n",
        "    collections=[\"phr\"],\n",
        "    geometry=geometry,\n",
        "    start_date=\"2022-06-01\",\n",
        "    end_date=\"2022-12-31\",\n",
        "    max_cloudcover=20,\n",
        "    limit=10,\n",
        ")\n",
        "\n",
        "search_results = catalog.search(search_parameters)"
      ]
    },
    {
      "cell_type": "markdown",
      "metadata": {},
      "source": [
        "Output a dataframe with full scenes that match the specified parameters."
      ]
    },
    {
      "cell_type": "code",
      "execution_count": 6,
      "metadata": {},
      "outputs": [
        {
          "data": {
            "text/html": [
              "<div>\n",
              "<style scoped>\n",
              "    .dataframe tbody tr th:only-of-type {\n",
              "        vertical-align: middle;\n",
              "    }\n",
              "\n",
              "    .dataframe tbody tr th {\n",
              "        vertical-align: top;\n",
              "    }\n",
              "\n",
              "    .dataframe thead th {\n",
              "        text-align: right;\n",
              "    }\n",
              "</style>\n",
              "<table border=\"1\" class=\"dataframe\">\n",
              "  <thead>\n",
              "    <tr style=\"text-align: right;\">\n",
              "      <th></th>\n",
              "      <th>geometry</th>\n",
              "      <th>id</th>\n",
              "      <th>constellation</th>\n",
              "      <th>collection</th>\n",
              "      <th>providerName</th>\n",
              "      <th>up42:usageType</th>\n",
              "      <th>providerProperties</th>\n",
              "      <th>sceneId</th>\n",
              "      <th>producer</th>\n",
              "      <th>acquisitionDate</th>\n",
              "      <th>start_datetime</th>\n",
              "      <th>end_datetime</th>\n",
              "      <th>cloudCoverage</th>\n",
              "      <th>resolution</th>\n",
              "      <th>deliveryTime</th>\n",
              "    </tr>\n",
              "  </thead>\n",
              "  <tbody>\n",
              "    <tr>\n",
              "      <th>0</th>\n",
              "      <td>POLYGON ((13.34029 52.63653, 13.34078 52.45392...</td>\n",
              "      <td>a4c9e729-1b62-43be-82e4-4e02c31963dd</td>\n",
              "      <td>phr</td>\n",
              "      <td>phr</td>\n",
              "      <td>oneatlas</td>\n",
              "      <td>[DATA]</td>\n",
              "      <td>{'commercialReference': 'SO22061241', 'qualifi...</td>\n",
              "      <td>a4c9e729-1b62-43be-82e4-4e02c31963dd</td>\n",
              "      <td>airbus</td>\n",
              "      <td>2022-10-26T10:23:47.430Z</td>\n",
              "      <td>None</td>\n",
              "      <td>None</td>\n",
              "      <td>5.29</td>\n",
              "      <td>0.5</td>\n",
              "      <td>MINUTES</td>\n",
              "    </tr>\n",
              "    <tr>\n",
              "      <th>1</th>\n",
              "      <td>POLYGON ((13.40102 52.79894, 13.08635 52.79691...</td>\n",
              "      <td>f23aed1a-f330-4e62-a1b1-7690b5f35907</td>\n",
              "      <td>phr</td>\n",
              "      <td>phr</td>\n",
              "      <td>oneatlas</td>\n",
              "      <td>[DATA]</td>\n",
              "      <td>{'commercialReference': 'SO22061241', 'qualifi...</td>\n",
              "      <td>f23aed1a-f330-4e62-a1b1-7690b5f35907</td>\n",
              "      <td>airbus</td>\n",
              "      <td>2022-10-26T10:23:35.806Z</td>\n",
              "      <td>None</td>\n",
              "      <td>None</td>\n",
              "      <td>5.41</td>\n",
              "      <td>0.5</td>\n",
              "      <td>MINUTES</td>\n",
              "    </tr>\n",
              "    <tr>\n",
              "      <th>2</th>\n",
              "      <td>POLYGON ((13.09345 52.79554, 13.09538 52.29309...</td>\n",
              "      <td>390d52f2-0d4b-48bd-8454-19a9b6ce219b</td>\n",
              "      <td>phr</td>\n",
              "      <td>phr</td>\n",
              "      <td>oneatlas</td>\n",
              "      <td>[DATA]</td>\n",
              "      <td>{'commercialReference': 'SO22060316', 'qualifi...</td>\n",
              "      <td>390d52f2-0d4b-48bd-8454-19a9b6ce219b</td>\n",
              "      <td>airbus</td>\n",
              "      <td>2022-10-20T10:20:09.805Z</td>\n",
              "      <td>None</td>\n",
              "      <td>None</td>\n",
              "      <td>18.11</td>\n",
              "      <td>0.5</td>\n",
              "      <td>MINUTES</td>\n",
              "    </tr>\n",
              "    <tr>\n",
              "      <th>3</th>\n",
              "      <td>POLYGON ((13.09345 52.79554, 13.09538 52.29309...</td>\n",
              "      <td>aa1b5abf-8864-4092-9b65-35f8d0d413bb</td>\n",
              "      <td>phr</td>\n",
              "      <td>phr</td>\n",
              "      <td>oneatlas</td>\n",
              "      <td>[DATA]</td>\n",
              "      <td>{'commercialReference': 'SO22060316', 'qualifi...</td>\n",
              "      <td>aa1b5abf-8864-4092-9b65-35f8d0d413bb</td>\n",
              "      <td>airbus</td>\n",
              "      <td>2022-10-20T10:20:09.805Z</td>\n",
              "      <td>None</td>\n",
              "      <td>None</td>\n",
              "      <td>18.11</td>\n",
              "      <td>0.5</td>\n",
              "      <td>MINUTES</td>\n",
              "    </tr>\n",
              "    <tr>\n",
              "      <th>4</th>\n",
              "      <td>POLYGON ((13.64387 52.63637, 13.51850 52.63636...</td>\n",
              "      <td>6f15e47c-2ec8-431c-bbb6-3748e5f1be0b</td>\n",
              "      <td>phr</td>\n",
              "      <td>phr</td>\n",
              "      <td>oneatlas</td>\n",
              "      <td>[DATA]</td>\n",
              "      <td>{'qualified': False, 'sourceIdentifier': 'DS_P...</td>\n",
              "      <td>6f15e47c-2ec8-431c-bbb6-3748e5f1be0b</td>\n",
              "      <td>airbus</td>\n",
              "      <td>2022-10-20T10:19:54.931Z</td>\n",
              "      <td>None</td>\n",
              "      <td>None</td>\n",
              "      <td>9.10</td>\n",
              "      <td>0.5</td>\n",
              "      <td>HOURS</td>\n",
              "    </tr>\n",
              "  </tbody>\n",
              "</table>\n",
              "</div>"
            ],
            "text/plain": [
              "                                            geometry  \\\n",
              "0  POLYGON ((13.34029 52.63653, 13.34078 52.45392...   \n",
              "1  POLYGON ((13.40102 52.79894, 13.08635 52.79691...   \n",
              "2  POLYGON ((13.09345 52.79554, 13.09538 52.29309...   \n",
              "3  POLYGON ((13.09345 52.79554, 13.09538 52.29309...   \n",
              "4  POLYGON ((13.64387 52.63637, 13.51850 52.63636...   \n",
              "\n",
              "                                     id constellation collection providerName  \\\n",
              "0  a4c9e729-1b62-43be-82e4-4e02c31963dd           phr        phr     oneatlas   \n",
              "1  f23aed1a-f330-4e62-a1b1-7690b5f35907           phr        phr     oneatlas   \n",
              "2  390d52f2-0d4b-48bd-8454-19a9b6ce219b           phr        phr     oneatlas   \n",
              "3  aa1b5abf-8864-4092-9b65-35f8d0d413bb           phr        phr     oneatlas   \n",
              "4  6f15e47c-2ec8-431c-bbb6-3748e5f1be0b           phr        phr     oneatlas   \n",
              "\n",
              "  up42:usageType                                 providerProperties  \\\n",
              "0         [DATA]  {'commercialReference': 'SO22061241', 'qualifi...   \n",
              "1         [DATA]  {'commercialReference': 'SO22061241', 'qualifi...   \n",
              "2         [DATA]  {'commercialReference': 'SO22060316', 'qualifi...   \n",
              "3         [DATA]  {'commercialReference': 'SO22060316', 'qualifi...   \n",
              "4         [DATA]  {'qualified': False, 'sourceIdentifier': 'DS_P...   \n",
              "\n",
              "                                sceneId producer           acquisitionDate  \\\n",
              "0  a4c9e729-1b62-43be-82e4-4e02c31963dd   airbus  2022-10-26T10:23:47.430Z   \n",
              "1  f23aed1a-f330-4e62-a1b1-7690b5f35907   airbus  2022-10-26T10:23:35.806Z   \n",
              "2  390d52f2-0d4b-48bd-8454-19a9b6ce219b   airbus  2022-10-20T10:20:09.805Z   \n",
              "3  aa1b5abf-8864-4092-9b65-35f8d0d413bb   airbus  2022-10-20T10:20:09.805Z   \n",
              "4  6f15e47c-2ec8-431c-bbb6-3748e5f1be0b   airbus  2022-10-20T10:19:54.931Z   \n",
              "\n",
              "  start_datetime end_datetime  cloudCoverage  resolution deliveryTime  \n",
              "0           None         None           5.29         0.5      MINUTES  \n",
              "1           None         None           5.41         0.5      MINUTES  \n",
              "2           None         None          18.11         0.5      MINUTES  \n",
              "3           None         None          18.11         0.5      MINUTES  \n",
              "4           None         None           9.10         0.5        HOURS  "
            ]
          },
          "execution_count": 7,
          "metadata": {},
          "output_type": "execute_result"
        }
      ],
      "source": [
        "search_results\n",
        "# catalog.search(as_dataframe=False) # Uncomment to output JSON instead"
      ]
    },
    {
      "cell_type": "markdown",
      "metadata": {},
      "source": [
        "## Step 5. Fill out an order form\n",
        "\n",
        "Fill out the order form for the chosen data product."
      ]
    },
    {
      "cell_type": "code",
      "execution_count": 7,
      "metadata": {},
      "outputs": [
        {
          "name": "stderr",
          "output_type": "stream",
          "text": [
            "2023-12-06 16:54:52,289 - See `catalog.get_data_product_schema(data_product_id)` for more detail on the parameter options.\n"
          ]
        }
      ],
      "source": [
        "order_parameters = catalog.construct_order_parameters(\n",
        "    data_product_id=data_product_id,\n",
        "    image_id=search_results.iloc[0][\"id\"], # Note that the count starts from 0\n",
        "    aoi=geometry,\n",
        ")"
      ]
    },
    {
      "cell_type": "markdown",
      "metadata": {},
      "source": [
        "Check the parameters by printing them."
      ]
    },
    {
      "cell_type": "code",
      "execution_count": 8,
      "metadata": {},
      "outputs": [
        {
          "name": "stdout",
          "output_type": "stream",
          "text": [
            "{'dataProduct': '4f1b2f62-98df-4c74-81f4-5dce45deee99', 'params': {'id': 'a4c9e729-1b62-43be-82e4-4e02c31963dd', 'aoi': {'type': 'Polygon', 'coordinates': (((13.375966, 52.515068), (13.375966, 52.516639), (13.378314, 52.516639), (13.378314, 52.515068), (13.375966, 52.515068)),)}}}\n"
          ]
        }
      ],
      "source": [
        "print(order_parameters)"
      ]
    },
    {
      "cell_type": "markdown",
      "metadata": {},
      "source": [
        "## Step 6. Get a cost estimate\n",
        "\n",
        "Get a cost estimation before placing a catalog order."
      ]
    },
    {
      "cell_type": "code",
      "execution_count": 9,
      "metadata": {},
      "outputs": [
        {
          "name": "stderr",
          "output_type": "stream",
          "text": [
            "2023-12-06 16:54:57,230 - Order is estimated to cost 150 UP42 credits (order_parameters: {'dataProduct': '4f1b2f62-98df-4c74-81f4-5dce45deee99', 'params': {'id': 'a4c9e729-1b62-43be-82e4-4e02c31963dd', 'aoi': {'type': 'Polygon', 'coordinates': (((13.375777664180191, 52.51799543512652), (13.375777664180191, 52.514561554285706), (13.381566455794598, 52.514561554285706), (13.381566455794598, 52.51799543512652), (13.375777664180191, 52.51799543512652)),)}}})\n"
          ]
        },
        {
          "data": {
            "text/plain": [
              "150"
            ]
          },
          "execution_count": 9,
          "metadata": {},
          "output_type": "execute_result"
        }
      ],
      "source": [
        "catalog.estimate_order(order_parameters)"
      ]
    },
    {
      "cell_type": "markdown",
      "metadata": {},
      "source": [
        "The response returns the overall credit amount that will be deducted from your credit balance if you decide to proceed with the ordering."
      ]
    },
    {
      "cell_type": "markdown",
      "metadata": {},
      "source": [
        "## Step 7. Place an order\n",
        "\n",
        "Place an order with the requested parameters.\n",
        "\n",
        "Credits will be deducted upon successful completion of the created catalog order. The transaction can't be reversed."
      ]
    },
    {
      "cell_type": "code",
      "execution_count": 10,
      "metadata": {},
      "outputs": [
        {
          "name": "stderr",
          "output_type": "stream",
          "text": [
            "2023-12-06 16:56:19,995 - Order is PLACED\n",
            "2023-12-06 16:56:19,996 - Order 68567134-27ad-7bd7-4b65-d61adb11fc78 is now PLACED.\n"
          ]
        },
        {
          "data": {
            "text/plain": [
              "Order(order_id: 68567134-27ad-7bd7-4b65-d61adb11fc78, assets: [], dataProvider: None, status: PLACED, createdAt: 2023-12-06T15:56:17.268879Z, updatedAt: 2023-12-06T15:56:19.536492Z)"
            ]
          },
          "execution_count": 10,
          "metadata": {},
          "output_type": "execute_result"
        }
      ],
      "source": [
        "order = catalog.place_order(order_parameters)\n",
        "order"
      ]
    },
    {
      "cell_type": "markdown",
      "metadata": {},
      "source": [
        "## Step 8. Monitor an order\n",
        "\n",
        "Check the [status](https://docs.up42.com/developers/api-catalog/catalog-monitor#order-statuses) of your order. To learn about the timeframe of catalog orders, see [Asset delivery time](https://docs.up42.com/data/archive/delivery)."
      ]
    },
    {
      "cell_type": "code",
      "execution_count": 11,
      "metadata": {},
      "outputs": [
        {
          "name": "stderr",
          "output_type": "stream",
          "text": [
            "2023-12-06 16:57:32,203 - Order is PLACED\n"
          ]
        },
        {
          "data": {
            "text/plain": [
              "'PLACED'"
            ]
          },
          "execution_count": 11,
          "metadata": {},
          "output_type": "execute_result"
        }
      ],
      "source": [
        "order.status"
      ]
    },
    {
      "cell_type": "markdown",
      "metadata": {},
      "source": [
        "You can also track the order status until the order is completed."
      ]
    },
    {
      "cell_type": "code",
      "execution_count": 12,
      "metadata": {},
      "outputs": [],
      "source": [
        "order.track_status()"
      ]
    },
    {
      "attachments": {},
      "cell_type": "markdown",
      "metadata": {},
      "source": [
        "The following statuses mean you can [download assets from storage](https://sdk.up42.com/up42-py/notebooks/order-assets-example/):\n",
        "\n",
        "- `BEING_FULFILLED`: some order assets might have been delivered.\n",
        "- `FULFILLED`: all order assets have been delivered."
      ]
    }
  ],
  "metadata": {
    "colab": {
      "provenance": []
    },
    "kernelspec": {
      "display_name": "Python 3",
      "name": "python3"
    },
    "language_info": {
      "codemirror_mode": {
        "name": "ipython",
        "version": 3
      },
      "file_extension": ".py",
      "mimetype": "text/x-python",
      "name": "python",
      "nbconvert_exporter": "python",
      "pygments_lexer": "ipython3",
      "version": "3.11.3"
    },
    "orig_nbformat": 4
  },
  "nbformat": 4,
  "nbformat_minor": 0
}
