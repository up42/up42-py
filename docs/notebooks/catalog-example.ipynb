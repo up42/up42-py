{
  "cells": [
    {
      "cell_type": "markdown",
      "metadata": {},
      "source": [
        "# Create a catalog order\n",
        "\n",
        "## Installation\n",
        "\n",
        "[Install](https://sdk.up42.com/installation/) the SDK. The package requires Python ≥ 3.9."
      ]
    },
    {
      "cell_type": "code",
      "execution_count": 1,
      "metadata": {},
      "outputs": [],
      "source": [
        "!pip install up42-py\n",
        "import up42"
      ]
    },
    {
      "cell_type": "markdown",
      "metadata": {},
      "source": [
        "## Authentication\n",
        "\n",
        "Use your credentials to [authenticate](https://sdk.up42.com/authentication)."
      ]
    },
    {
      "cell_type": "code",
      "execution_count": 2,
      "metadata": {},
      "outputs": [
        {
          "name": "stderr",
          "output_type": "stream",
          "text": [
            "2023-12-06 16:43:14,892 - Got credentials from config file.\n",
            "2023-12-06 16:43:15,609 - Authentication with UP42 successful!\n"
          ]
        }
      ],
      "source": [
        "# Create a configuration file and use the following code for it:\n",
        "# {\n",
        "#   \"username\": \"<your-email-address>\",\n",
        "#   \"password\": \"<your-password>\"\n",
        "# }\n",
        "\n",
        "up42.authenticate(cfg_file=\"credentials.json\")"
      ]
    },
    {
      "cell_type": "markdown",
      "metadata": {},
      "source": [
        "## Step 1. Choose a catalog collection\n",
        "\n",
        "Choose a catalog collection and get its `data_product_id` for ordering."
      ]
    },
    {
      "cell_type": "code",
      "execution_count": 3,
      "metadata": {},
      "outputs": [],
      "source": [
        "catalog = up42.initialize_catalog()\n",
        "products = catalog.get_data_products(basic=True)\n",
        "products"
      ]
    },
    {
      "cell_type": "markdown",
      "metadata": {},
      "source": [
        "Choose a data product and copy its ID."
      ]
    },
    {
      "cell_type": "code",
      "execution_count": 4,
      "metadata": {},
      "outputs": [],
      "source": [
        "# The following value is the product id for Pléiades catalog — Analytic:\n",
        "data_product_id = \"4f1b2f62-98df-4c74-81f4-5dce45deee99\""
      ]
    },
    {
      "cell_type": "markdown",
      "metadata": {},
      "source": [
        "## Step 2. Request access\n",
        "\n",
        "If you want to order the chosen collection for the first time, you need to request access to it. For more information on access requests, see [Restrictions](https://docs.up42.com/getting-started/restrictions#tasking-collections).\n",
        "\n",
        "An email from the Customer Success team usually takes up to 3 days. You can review your access request status on the [Access requests](https://console.up42.com/settings/access) page."
      ]
    },
    {
      "cell_type": "markdown",
      "metadata": {},
      "source": [
        "## Step 3. Accept a EULA\n",
        "\n",
        "If you want to order the chosen collection for the first time, you need to accept its end-user license agreement (EULA). For more information on license agreements, see [EULAs](https://docs.up42.com/getting-started/account/eulas)."
      ]
    },
    {
      "cell_type": "markdown",
      "metadata": {},
      "source": [
        "## Step 4. Search the catalog\n",
        "\n",
        "Specify search parameters to find a full scene that fits your requirements."
      ]
    },
    {
      "cell_type": "code",
      "execution_count": 5,
      "metadata": {},
      "outputs": [
        {
          "name": "stderr",
          "output_type": "stream",
          "text": [
            "2023-12-06 16:54:44,007 - Getting small example AOI in location 'Berlin'.\n",
            "2023-12-06 16:54:44,988 - Searching catalog with search_parameters: {'datetime': '2022-06-01T00:00:00Z/2022-12-31T23:59:59Z', 'intersects': {'type': 'Polygon', 'coordinates': (((13.375777664180191, 52.51799543512652), (13.375777664180191, 52.514561554285706), (13.381566455794598, 52.514561554285706), (13.381566455794598, 52.51799543512652), (13.375777664180191, 52.51799543512652)),)}, 'limit': 10, 'collections': ['phr'], 'query': {'cloudCoverage': {'lte': 20}}}\n",
            "2023-12-06 16:54:45,532 - 5 results returned.\n"
          ]
        }
      ],
      "source": [
        "geometry = up42.get_example_aoi()\n",
        "\n",
        "search_parameters = catalog.construct_search_parameters(\n",
        "    collections=[\"phr\"],\n",
        "    geometry=geometry,\n",
        "    start_date=\"2022-06-01\",\n",
        "    end_date=\"2022-12-31\",\n",
        "    max_cloudcover=20,\n",
        "    limit=10,\n",
        ")\n",
        "\n",
        "search_results_df = catalog.search(search_parameters)"
      ]
    },
    {
      "cell_type": "markdown",
      "metadata": {},
      "source": [
        "Output a dataframe with full scenes that match the specified parameters."
      ]
    },
    {
      "cell_type": "code",
      "execution_count": 6,
      "metadata": {},
      "outputs": [],
      "source": [
        "search_results_df\n",
        "# catalog.search(as_dataframe=False) # Uncomment to output JSON instead"
      ]
    },
    {
      "cell_type": "markdown",
      "metadata": {},
      "source": [
        "## Step 5. Fill out an order form\n",
        "\n",
        "Fill out the order form for the chosen data product."
      ]
    },
    {
      "cell_type": "code",
      "execution_count": 7,
      "metadata": {},
      "outputs": [
        {
          "name": "stderr",
          "output_type": "stream",
          "text": [
            "2023-12-06 16:54:52,289 - See `catalog.get_data_product_schema(data_product_id)` for more detail on the parameter options.\n"
          ]
        }
      ],
      "source": [
        "order_parameters = catalog.construct_order_parameters(\n",
        "    data_product_id=data_product_id,\n",
        "    image_id=search_results_df.iloc[0][\"id\"], # Note that the count starts from 0\n",
        "    aoi=geometry,\n",
        ")"
      ]
    },
    {
      "cell_type": "markdown",
      "metadata": {},
      "source": [
        "Check the parameters by printing them."
      ]
    },
    {
      "cell_type": "code",
      "execution_count": 8,
      "metadata": {},
      "outputs": [
        {
          "name": "stdout",
          "output_type": "stream",
          "text": [
            "{'dataProduct': '4f1b2f62-98df-4c74-81f4-5dce45deee99', 'params': {'id': 'a4c9e729-1b62-43be-82e4-4e02c31963dd', 'aoi': {'type': 'Polygon', 'coordinates': (((13.375966, 52.515068), (13.375966, 52.516639), (13.378314, 52.516639), (13.378314, 52.515068), (13.375966, 52.515068)),)}}}\n"
          ]
        }
      ],
      "source": [
        "order_parameters"
      ]
    },
    {
      "cell_type": "markdown",
      "metadata": {},
      "source": [
        "## Step 6. Get a cost estimate\n",
        "\n",
        "Get a cost estimation before placing a catalog order."
      ]
    },
    {
      "cell_type": "code",
      "execution_count": 9,
      "metadata": {},
      "outputs": [
        {
          "name": "stderr",
          "output_type": "stream",
          "text": [
            "2023-12-06 16:54:57,230 - Order is estimated to cost 150 UP42 credits (order_parameters: {'dataProduct': '4f1b2f62-98df-4c74-81f4-5dce45deee99', 'params': {'id': 'a4c9e729-1b62-43be-82e4-4e02c31963dd', 'aoi': {'type': 'Polygon', 'coordinates': (((13.375777664180191, 52.51799543512652), (13.375777664180191, 52.514561554285706), (13.381566455794598, 52.514561554285706), (13.381566455794598, 52.51799543512652), (13.375777664180191, 52.51799543512652)),)}}})\n"
          ]
        },
        {
          "data": {
            "text/plain": [
              "150"
            ]
          },
          "execution_count": 9,
          "metadata": {},
          "output_type": "execute_result"
        }
      ],
      "source": [
        "catalog.estimate_order(order_parameters)"
      ]
    },
    {
      "cell_type": "markdown",
      "metadata": {},
      "source": [
        "The response returns the overall credit amount that will be deducted from your credit balance if you decide to proceed with the ordering."
      ]
    },
    {
      "cell_type": "markdown",
      "metadata": {},
      "source": [
        "## Step 7. Place an order\n",
        "\n",
        "Place an order with the requested parameters.\n",
        "\n",
        "Credits will be deducted upon successful completion of the created catalog order. The transaction can't be reversed."
      ]
    },
    {
      "cell_type": "code",
      "execution_count": 10,
      "metadata": {},
      "outputs": [
        {
          "name": "stderr",
          "output_type": "stream",
          "text": [
            "2023-12-06 16:56:19,995 - Order is PLACED\n",
            "2023-12-06 16:56:19,996 - Order 68567134-27ad-7bd7-4b65-d61adb11fc78 is now PLACED.\n"
          ]
        },
        {
          "data": {
            "text/plain": [
              "Order(order_id: 68567134-27ad-7bd7-4b65-d61adb11fc78, assets: [], dataProvider: None, status: PLACED, createdAt: 2023-12-06T15:56:17.268879Z, updatedAt: 2023-12-06T15:56:19.536492Z)"
            ]
          },
          "execution_count": 10,
          "metadata": {},
          "output_type": "execute_result"
        }
      ],
      "source": [
        "order = catalog.place_order(order_parameters)\n",
        "order"
      ]
    },
    {
      "cell_type": "markdown",
      "metadata": {},
      "source": [
        "## Step 8. Monitor an order\n",
        "\n",
        "Check the [status](https://docs.up42.com/developers/api-catalog/catalog-monitor#order-statuses) of your order. To learn about the timeframe of catalog orders, see [Asset delivery time](https://docs.up42.com/data/archive/delivery)."
      ]
    },
    {
      "cell_type": "code",
      "execution_count": 11,
      "metadata": {},
      "outputs": [
        {
          "name": "stderr",
          "output_type": "stream",
          "text": [
            "2023-12-06 16:57:32,203 - Order is PLACED\n"
          ]
        },
        {
          "data": {
            "text/plain": [
              "'PLACED'"
            ]
          },
          "execution_count": 11,
          "metadata": {},
          "output_type": "execute_result"
        }
      ],
      "source": [
        "order.status"
      ]
    },
    {
      "cell_type": "markdown",
      "metadata": {},
      "source": [
        "You can also track the order status until the order is completed."
      ]
    },
    {
      "cell_type": "code",
      "execution_count": 12,
      "metadata": {},
      "outputs": [],
      "source": [
        "order.track_status()"
      ]
    },
    {
      "attachments": {},
      "cell_type": "markdown",
      "metadata": {},
      "source": [
        "The following statuses mean you can [download assets from storage](https://sdk.up42.com/notebooks/order-assets-example/):\n",
        "\n",
        "- `BEING_FULFILLED`: some order assets might have been delivered.\n",
        "- `FULFILLED`: all order assets have been delivered."
      ]
    }
  ],
  "metadata": {
    "colab": {
      "provenance": []
    },
    "kernelspec": {
      "display_name": "Python 3",
      "name": "python3"
    },
    "language_info": {
      "codemirror_mode": {
        "name": "ipython",
        "version": 3
      },
      "file_extension": ".py",
      "mimetype": "text/x-python",
      "name": "python",
      "nbconvert_exporter": "python",
      "pygments_lexer": "ipython3",
      "version": "3.11.3"
    },
    "orig_nbformat": 4
  },
  "nbformat": 4,
  "nbformat_minor": 0
}
